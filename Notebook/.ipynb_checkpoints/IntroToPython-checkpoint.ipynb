{
 "cells": [
  {
   "cell_type": "markdown",
   "metadata": {},
   "source": [
    "# PytzMLS2018: Python for ML and DS Research - Intro to Python\n",
    "\n",
    "<center><b>Anthony Faustine (sambaiga@gmail.com)</b> </center>"
   ]
  },
  {
   "cell_type": "markdown",
   "metadata": {},
   "source": [
    "# 1.1. Jupyter notebook\n",
    "\n",
    "Open-source web application for interactive and exploratory computing. It allows to create and share documents that contain live code, equations, visualizations and explanatory text.We will work in **Jupyter notebooks** for all lab sessions. \n",
    "\n",
    "It is a platform for Data Science at scale as it covers all the life-cycle of scientific ideas :ideas to publications.\n",
    "\n",
    "A **notebook** is a collection of `cells`, that can contain different content\n"
   ]
  },
  {
   "cell_type": "markdown",
   "metadata": {},
   "source": [
    "### Basics notebook commands\n",
    "- crete cell\n",
    "- excute cell\n",
    "- Change kernel"
   ]
  },
  {
   "cell_type": "markdown",
   "metadata": {},
   "source": [
    "### Code"
   ]
  },
  {
   "cell_type": "code",
   "execution_count": 1,
   "metadata": {},
   "outputs": [
    {
     "name": "stdout",
     "output_type": "stream",
     "text": [
      "Hello world\n"
     ]
    }
   ],
   "source": [
    "print(\"Hello world\")"
   ]
  },
  {
   "cell_type": "code",
   "execution_count": 2,
   "metadata": {},
   "outputs": [
    {
     "name": "stdout",
     "output_type": "stream",
     "text": [
      "15\n"
     ]
    }
   ],
   "source": [
    "x = 10\n",
    "print(x + 5) "
   ]
  },
  {
   "cell_type": "markdown",
   "metadata": {},
   "source": [
    "### Text : Mark down"
   ]
  },
  {
   "cell_type": "markdown",
   "metadata": {},
   "source": [
    "### Math equations"
   ]
  },
  {
   "cell_type": "markdown",
   "metadata": {},
   "source": [
    "### HTML commands\n",
    "You can also use HTML commands, just check this cell:\n",
    "\n",
    "<h3> html-adapted title with &#60;h3&#62; </h3> <p></p>\n",
    "<b> Bold text &#60;b&#62; </b> of <i>or italic &#60;i&#62; </i>"
   ]
  },
  {
   "cell_type": "markdown",
   "metadata": {},
   "source": [
    "### Important shortcuts"
   ]
  },
  {
   "cell_type": "markdown",
   "metadata": {},
   "source": [
    "- The **TAB** button is essential: It provides you all possible actions you can do after loading in a library AND it is used for automatic autocompletion\n"
   ]
  },
  {
   "cell_type": "code",
   "execution_count": 3,
   "metadata": {},
   "outputs": [],
   "source": [
    "import math\n",
    "\n",
    "#math.+TAB"
   ]
  },
  {
   "cell_type": "markdown",
   "metadata": {},
   "source": [
    "- The SHIFT-TAB combination is ultra essential to get information/help about the current operation"
   ]
  },
  {
   "cell_type": "code",
   "execution_count": 4,
   "metadata": {},
   "outputs": [],
   "source": [
    "#math.cos+SHIFT+TAB"
   ]
  },
  {
   "cell_type": "code",
   "execution_count": null,
   "metadata": {},
   "outputs": [],
   "source": [
    "import math\n",
    "\n",
    "math"
   ]
  },
  {
   "cell_type": "markdown",
   "metadata": {},
   "source": [
    "# 1.2. Python Basics\n",
    "\n",
    "Python is a very popular general-purpose programming language.\n",
    "- Open source general-purpose language\n",
    "- Dynamically semantics (rather than statically typed like Java or C/C++)\n",
    "- Interpreted (rather than compiled like Java or C/C++)\n",
    "- Object Oriented.\n",
    "\n",
    "Why is Python such an effective tool in scientific research ?\n",
    "- Interoperability with Other Languages : You can use it in the shell on microtasks, or interactively, or in scripts, or build enterprise software with GUIs.\n",
    "-  “Batteries Included” + Third-Party Modules : Python has built-in libraries and third-party liabraies for nearly everything.\n",
    "- Simplicity & Dynamic Nature : You can run your Python code on any architecture.\n",
    "- Open ethos well-fit to science : Easy to reproduce results with python\n",
    "\n",
    "\n",
    "Why is Python such an effective tool for Data Science and Machine learning research\n",
    "- Very rich scientific computing libraries (numpy, matplotlib, pandas, scipy etc) and machine learning frameworks (Pytorch, Tensorflow, keras, mxnet,  etc)\n",
    "- All DS and ML tasks can be performed with Python :\n",
    " - accessing, collecting, cleaning, analysing, visualising data  modelling, evaluating models, integrating in prod, scaling etc.\n",
    " \n",
    " \n",
    "**Python 2 VS. Python 3**\n",
    "\n",
    "Two major versions of Python in widespread use : Python 2.x\n",
    "and Python 3.x\n",
    "- Some features in Python 3 are not backward compatible\n",
    "with Python 2\n",
    "- Some Python 2 libraries have not been updated to work\n",
    "with Python 3\n",
    "- Bottom-line : there is no wrong choice, as long as all the libraries you need are supported by the version you choose but most of libararies are phasing out python 2.x.\n",
    "- In this workshop : Python3"
   ]
  },
  {
   "cell_type": "markdown",
   "metadata": {},
   "source": [
    "## 1.2.1 Variable and Print Statements"
   ]
  },
  {
   "cell_type": "code",
   "execution_count": 5,
   "metadata": {},
   "outputs": [
    {
     "name": "stdout",
     "output_type": "stream",
     "text": [
      "False\n"
     ]
    }
   ],
   "source": [
    "# Variables and assignment\n",
    "a = False\n",
    "print (a)"
   ]
  },
  {
   "cell_type": "code",
   "execution_count": 6,
   "metadata": {},
   "outputs": [
    {
     "data": {
      "text/plain": [
       "bool"
      ]
     },
     "execution_count": 6,
     "metadata": {},
     "output_type": "execute_result"
    }
   ],
   "source": [
    "# Varibale type\n",
    "type(a)"
   ]
  },
  {
   "cell_type": "code",
   "execution_count": 7,
   "metadata": {},
   "outputs": [
    {
     "data": {
      "text/plain": [
       "0"
      ]
     },
     "execution_count": 7,
     "metadata": {},
     "output_type": "execute_result"
    }
   ],
   "source": [
    "# type casting: converting the integer to a float type\n",
    "int(a)"
   ]
  },
  {
   "cell_type": "markdown",
   "metadata": {},
   "source": [
    "**Print Statements**\n",
    "\n",
    "The **print** statement can be used in the following different ways :\n",
    "\n",
    "    - print(variable_name)\n",
    "    - print(\"Hello World\")\n",
    "    - print (\"Hello\", <Variable >)\n",
    "    - print (\"Hello\" + <Variable Containing the String>)\n",
    "    - print (\"Hello %s\" % <variable containing the string>)\n",
    "    - print (\"Hello\" + <Variable Containing the String>)\n",
    "    - print (\"Hello %d\" % <variable containing integer datatype>)\n",
    "    - print (\"Hello %f\" % <variable containing float datatype>)"
   ]
  },
  {
   "cell_type": "code",
   "execution_count": 8,
   "metadata": {},
   "outputs": [
    {
     "name": "stdout",
     "output_type": "stream",
     "text": [
      "The perfomance results for  Random Forest model: Accuracy: 89 ; F-score: 60.200\n"
     ]
    }
   ],
   "source": [
    "acc = 89\n",
    "fs = 60.20\n",
    "modal = \"Random Forest\"\n",
    "print(\"The perfomance results for  %s model: Accuracy: %d ; F-score: %.3f\" %(modal,acc,fs))"
   ]
  },
  {
   "cell_type": "markdown",
   "metadata": {},
   "source": [
    "Alternatively you can use **.format()** in print function"
   ]
  },
  {
   "cell_type": "code",
   "execution_count": 9,
   "metadata": {},
   "outputs": [
    {
     "name": "stdout",
     "output_type": "stream",
     "text": [
      "The perfomance results for  Random Forest model: Accuracy: 89 ; F-score: 60.2\n"
     ]
    }
   ],
   "source": [
    "print(\"The perfomance results for  {0} model: Accuracy: {1} ; F-score: {2}\" .format(modal,acc,fs))"
   ]
  },
  {
   "cell_type": "markdown",
   "metadata": {},
   "source": [
    "## 1.2.2  Python Conditional Statemnents and Loops"
   ]
  },
  {
   "cell_type": "markdown",
   "metadata": {},
   "source": [
    "### Indentation\n",
    "\n",
    "It is important to keep a good understanding of how indentation works in Python to maintain the structure and order of your code. We will touch on this topic again when we start building out functions!\n"
   ]
  },
  {
   "cell_type": "markdown",
   "metadata": {},
   "source": [
    "### if,elif and else Statements\n",
    "\n",
    "** if**\n",
    "```python\n",
    " if some_condition:\n",
    "    algorithm\n",
    "```    \n",
    "\n",
    "**If-else**\n",
    "```python\n",
    "    if some_condition:\n",
    "       algorithm\n",
    "    else:\n",
    "       algorithm\n",
    "```\n",
    "\n",
    "**if-elif**\n",
    "```python\n",
    "    if some_condition:\n",
    "      algorithm\n",
    "    elif some_condition:\n",
    "      algorithm\n",
    "    else:\n",
    "      algorithm\n",
    "```"
   ]
  },
  {
   "cell_type": "code",
   "execution_count": 10,
   "metadata": {},
   "outputs": [
    {
     "name": "stdout",
     "output_type": "stream",
     "text": [
      "10 dived 2e-07 = 50000000.0\n"
     ]
    }
   ],
   "source": [
    "#Example avoid division by zero\n",
    "val = 0\n",
    "num = 10\n",
    "if val == 0:\n",
    "    val += 2e-07\n",
    "result = num / val\n",
    "print(\"{0} dived {1} = {2}\".format(num, val, result))\n",
    "    "
   ]
  },
  {
   "cell_type": "markdown",
   "metadata": {},
   "source": [
    "##  For Loops\n",
    "\n",
    "A for loop acts as an iterator in Python, it goes through items that are in a sequence or any other iterable item. \n",
    "\n",
    "```python\n",
    "   for variable in something:\n",
    "       algorithm\n",
    "```\n",
    "\n",
    "Two importants function\n",
    "- range()\n",
    "- enumerate()"
   ]
  },
  {
   "cell_type": "code",
   "execution_count": 11,
   "metadata": {},
   "outputs": [
    {
     "name": "stdout",
     "output_type": "stream",
     "text": [
      "0\n",
      "1\n",
      "2\n",
      "3\n",
      "4\n",
      "5\n"
     ]
    }
   ],
   "source": [
    "for i in range(6):\n",
    "    print(i)"
   ]
  },
  {
   "cell_type": "code",
   "execution_count": 12,
   "metadata": {},
   "outputs": [
    {
     "name": "stdout",
     "output_type": "stream",
     "text": [
      "Index:0 Value 2\n",
      "Index:1 Value 3\n",
      "Index:2 Value 4\n",
      "Index:3 Value 5\n",
      "Index:4 Value 6\n",
      "Index:5 Value 7\n",
      "Index:6 Value 8\n",
      "Index:7 Value 9\n"
     ]
    }
   ],
   "source": [
    "for i, val in enumerate(range(2,10)):\n",
    "    print(\"Index:{0} Value {1}\".format(i, val))"
   ]
  },
  {
   "cell_type": "markdown",
   "metadata": {},
   "source": [
    "### While loops\n",
    "```python\n",
    "while some_condition:\n",
    "      algorithm\n",
    "       \n",
    "```"
   ]
  },
  {
   "cell_type": "code",
   "execution_count": 13,
   "metadata": {},
   "outputs": [
    {
     "name": "stdout",
     "output_type": "stream",
     "text": [
      "The square root of 1 is 1\n",
      "The square root of 2 is 4\n",
      "The square root of 3 is 9\n",
      "The square root of 4 is 16\n"
     ]
    }
   ],
   "source": [
    "# Example\n",
    "i = 1\n",
    "while i < 5:\n",
    "    print(\"The square root of {0} is {1}\".format(i, i**2))\n",
    "    i = i+1"
   ]
  },
  {
   "cell_type": "markdown",
   "metadata": {},
   "source": [
    "### Progress bar"
   ]
  },
  {
   "cell_type": "code",
   "execution_count": 14,
   "metadata": {},
   "outputs": [],
   "source": [
    "import tqdm\n",
    "from  tqdm import tqdm_notebook as pbar"
   ]
  },
  {
   "cell_type": "code",
   "execution_count": 15,
   "metadata": {},
   "outputs": [
    {
     "data": {
      "application/vnd.jupyter.widget-view+json": {
       "model_id": "b219363c555d4a32bc805cea5ccd4f67",
       "version_major": 2,
       "version_minor": 0
      },
      "text/plain": [
       "HBox(children=(IntProgress(value=0, max=10000000), HTML(value='')))"
      ]
     },
     "metadata": {},
     "output_type": "display_data"
    },
    {
     "name": "stdout",
     "output_type": "stream",
     "text": [
      "\n",
      "49999995000000\n"
     ]
    }
   ],
   "source": [
    "sum_of_n = 0\n",
    "N = 1e10\n",
    "for i in pbar(range(10000000)):\n",
    "    sum_of_n+=i\n",
    "print(sum_of_n)    "
   ]
  },
  {
   "cell_type": "markdown",
   "metadata": {},
   "source": [
    "## 1.2.3 Data Structures"
   ]
  },
  {
   "cell_type": "markdown",
   "metadata": {},
   "source": [
    "### Lists\n",
    "\n",
    "- create list\n",
    "- add item to list\n",
    "- access elements of a list"
   ]
  },
  {
   "cell_type": "code",
   "execution_count": 16,
   "metadata": {},
   "outputs": [
    {
     "name": "stdout",
     "output_type": "stream",
     "text": [
      "['James John', 'M', 176, 28, 'Dodoma', 1]\n"
     ]
    }
   ],
   "source": [
    "#name, gender, height, age, weight, region, status\n",
    "data = [\"James John\", \"M\", 176, 28, \"Dodoma\", 1]\n",
    "print(data)"
   ]
  },
  {
   "cell_type": "code",
   "execution_count": 17,
   "metadata": {},
   "outputs": [
    {
     "data": {
      "text/plain": [
       "'James John'"
      ]
     },
     "execution_count": 17,
     "metadata": {},
     "output_type": "execute_result"
    }
   ],
   "source": [
    "data[0]"
   ]
  },
  {
   "cell_type": "code",
   "execution_count": 18,
   "metadata": {},
   "outputs": [
    {
     "data": {
      "text/plain": [
       "['James John', 'M']"
      ]
     },
     "execution_count": 18,
     "metadata": {},
     "output_type": "execute_result"
    }
   ],
   "source": [
    "data[0:2]"
   ]
  },
  {
   "cell_type": "code",
   "execution_count": 19,
   "metadata": {},
   "outputs": [],
   "source": [
    "#what about \n",
    "#data[-1]"
   ]
  },
  {
   "cell_type": "code",
   "execution_count": 20,
   "metadata": {},
   "outputs": [
    {
     "data": {
      "text/plain": [
       "['James John', 'M', 176, 28, 'Dodoma', 1, '350K']"
      ]
     },
     "execution_count": 20,
     "metadata": {},
     "output_type": "execute_result"
    }
   ],
   "source": [
    "data.append(\"350K\")\n",
    "data"
   ]
  },
  {
   "cell_type": "code",
   "execution_count": 21,
   "metadata": {},
   "outputs": [
    {
     "name": "stdout",
     "output_type": "stream",
     "text": [
      "James John\n",
      "M\n",
      "176\n",
      "28\n",
      "Dodoma\n",
      "1\n",
      "350K\n"
     ]
    }
   ],
   "source": [
    "# access all elements in a list\n",
    "for item in data:\n",
    "    print(item)"
   ]
  },
  {
   "cell_type": "markdown",
   "metadata": {},
   "source": [
    "### Dictionary"
   ]
  },
  {
   "cell_type": "code",
   "execution_count": 22,
   "metadata": {},
   "outputs": [
    {
     "name": "stdout",
     "output_type": "stream",
     "text": [
      "{'name': 'James John', 'age': 28, 'gender': 'M', 'region': 'Dodoma', 'status': 1}\n"
     ]
    }
   ],
   "source": [
    "# create dictionary\n",
    "dic = {\n",
    "    'name':\"James John\",\n",
    "    'age': 28,\n",
    "    'gender':\"M\",\n",
    "    'region':\"Dodoma\",\n",
    "    'status':1\n",
    "}\n",
    "print(dic)"
   ]
  },
  {
   "cell_type": "code",
   "execution_count": 23,
   "metadata": {},
   "outputs": [
    {
     "data": {
      "text/plain": [
       "dict_values(['James John', 28, 'M', 'Dodoma', 1])"
      ]
     },
     "execution_count": 23,
     "metadata": {},
     "output_type": "execute_result"
    }
   ],
   "source": [
    "dic.values()"
   ]
  },
  {
   "cell_type": "code",
   "execution_count": 24,
   "metadata": {},
   "outputs": [
    {
     "name": "stdout",
     "output_type": "stream",
     "text": [
      "28\n"
     ]
    }
   ],
   "source": [
    "# Access value of element by key - most important feature!\n",
    "print(dic['age'])"
   ]
  },
  {
   "cell_type": "code",
   "execution_count": 25,
   "metadata": {},
   "outputs": [
    {
     "name": "stdout",
     "output_type": "stream",
     "text": [
      "{'name': 'James John', 'age': 28, 'gender': 'M', 'region': 'Dodoma', 'status': 1, 'salary': '310K'}\n"
     ]
    }
   ],
   "source": [
    "dic['salary'] = \"310K\"\n",
    "print(dic)"
   ]
  },
  {
   "cell_type": "code",
   "execution_count": 26,
   "metadata": {},
   "outputs": [
    {
     "data": {
      "text/plain": [
       "dict_keys(['name', 'age', 'gender', 'region', 'status', 'salary'])"
      ]
     },
     "execution_count": 26,
     "metadata": {},
     "output_type": "execute_result"
    }
   ],
   "source": [
    "#get list keys of a dictionary\n",
    "dic.keys()"
   ]
  },
  {
   "cell_type": "code",
   "execution_count": 27,
   "metadata": {},
   "outputs": [
    {
     "data": {
      "text/plain": [
       "dict_values(['James John', 28, 'M', 'Dodoma', 1, '310K'])"
      ]
     },
     "execution_count": 27,
     "metadata": {},
     "output_type": "execute_result"
    }
   ],
   "source": [
    "#get list values in a dictionary\n",
    "dic.values()"
   ]
  },
  {
   "cell_type": "code",
   "execution_count": 28,
   "metadata": {},
   "outputs": [
    {
     "name": "stdout",
     "output_type": "stream",
     "text": [
      "name: James John\n",
      "age: 28\n",
      "gender: M\n",
      "region: Dodoma\n",
      "status: 1\n",
      "salary: 310K\n"
     ]
    }
   ],
   "source": [
    "#get list key, values pairs item in a dictionary\n",
    "for key , value in dic.items():\n",
    "    print(\"{0}: {1}\".format(key, value))"
   ]
  },
  {
   "cell_type": "markdown",
   "metadata": {},
   "source": [
    "## 1.2.3 Functions and Modules\n",
    "\n",
    "Functions will be one of our main building blocks when we construct larger amounts of code to solve problems.\n",
    "\n",
    "- function is a useful device that groups together a set of statements so they can be run more than once. They can also let us specify parameters that can serve as inputs to the functions.\n",
    "\n",
    "- functions allow us to not have to repeatedly write the same code again and again. \n",
    "- function in Python is defined by a ``def`` statement. The general syntax looks like this:"
   ]
  },
  {
   "cell_type": "code",
   "execution_count": 29,
   "metadata": {},
   "outputs": [],
   "source": [
    "def name_of_function(arg1,arg2):\n",
    "    '''\n",
    "    This is where the function's Document String (doc-string) goes\n",
    "    '''\n",
    "    # Do stuff here\n",
    "    #return desired result\n"
   ]
  },
  {
   "cell_type": "code",
   "execution_count": 30,
   "metadata": {},
   "outputs": [],
   "source": [
    "def normalize(data=None, mean=None, std=None):\n",
    "    '''\n",
    "    Normalization function\n",
    "    arguments:\n",
    "             data: the data value you want to normalize\n",
    "             mean: mean value of your data\n",
    "             std: standard deviation of your data\n",
    "    return:\n",
    "          z-score: normalized value   \n",
    "    '''\n",
    "    \n",
    "    return (data - mean)/ std\n",
    "        "
   ]
  },
  {
   "cell_type": "code",
   "execution_count": 31,
   "metadata": {},
   "outputs": [
    {
     "name": "stdout",
     "output_type": "stream",
     "text": [
      "Normalized value is 1.63\n"
     ]
    }
   ],
   "source": [
    "result = normalize(data=27.8, mean=18, std=6)\n",
    "print(\"Normalized value is {:.2f}\".format(result))"
   ]
  },
  {
   "cell_type": "markdown",
   "metadata": {},
   "source": [
    "**Module**\n",
    "\n",
    "Modules are organized units (written as files) which contain functions, statements and other definitions.\n",
    "\n",
    "* Any file ending in `.py` is treated as a module (e.g., `my_function.py`, which names and defines a function `my_function`)\n",
    "\n",
    "* Modules: own global names/functions so you can name things whatever you want there and not conflict with the names in other modules.\n",
    "\n"
   ]
  },
  {
   "cell_type": "code",
   "execution_count": 32,
   "metadata": {},
   "outputs": [
    {
     "name": "stdout",
     "output_type": "stream",
     "text": [
      "Overwriting normalizer.py\n"
     ]
    }
   ],
   "source": [
    "%%writefile normalizer.py\n",
    "def normalize(data=None, mean=None, std=None):\n",
    "    '''\n",
    "    Normalization function\n",
    "    arguments:\n",
    "             data: the data value you want to normalize\n",
    "             mean: mean value of your data\n",
    "             std: standard deviation of your data\n",
    "    return:\n",
    "          z-score: normalized value   \n",
    "    '''\n",
    "    \n",
    "    return (data - mean)/ std"
   ]
  },
  {
   "cell_type": "markdown",
   "metadata": {},
   "source": [
    "**Packages**\n",
    "-  Packages are name-spaces which contain multiple packages and modules themselves. They are simply directories, but with a twist.\n",
    "- Each package in Python is a directory which MUST contain a special file called `__init__.py.` This file can be empty, and it indicates that the directory it contains is a Python package, so it can be imported the same way a module can be imported."
   ]
  },
  {
   "cell_type": "markdown",
   "metadata": {},
   "source": [
    "To Import modules and packages \n",
    "\n",
    "Different options are available:\n",
    "\n",
    "* <span style=\"color:green\">import <i>package-name</i></span>  <p> importing all functionalities as such\n",
    "* <span style=\"color:green\">from <i>package-name</i> import <i>specific function</i></span>  <p> importing a specific function or subset of the package/module\n",
    "* <span style=\"color:green\">from <i>package-name</i> import *  </span>   <p> importing all definitions and actions of the package (sometimes better than option 1)\n",
    "* <span style=\"color:green\">import <i>package-name</i> as <i>short-package-name</i></span>    <p> Very good way to keep a good insight in where you use what package"
   ]
  },
  {
   "cell_type": "code",
   "execution_count": 33,
   "metadata": {},
   "outputs": [
    {
     "name": "stdout",
     "output_type": "stream",
     "text": [
      "Normalized value is 1.63\n"
     ]
    }
   ],
   "source": [
    "import normalizer as norm\n",
    "result = norm.normalize(data=27.8, mean=18, std=6)\n",
    "print(\"Normalized value is {:.2f}\".format(result))"
   ]
  },
  {
   "cell_type": "code",
   "execution_count": 34,
   "metadata": {},
   "outputs": [
    {
     "name": "stdout",
     "output_type": "stream",
     "text": [
      "Normalized value is 1.63\n"
     ]
    }
   ],
   "source": [
    "#Alternatively\n",
    "from normalizer import normalize\n",
    "result = normalize(data=27.8, mean=18, std=6)\n",
    "print(\"Normalized value is {:.2f}\".format(result))"
   ]
  },
  {
   "cell_type": "markdown",
   "metadata": {},
   "source": [
    "#### Import modules from another directory"
   ]
  },
  {
   "cell_type": "code",
   "execution_count": 35,
   "metadata": {},
   "outputs": [
    {
     "name": "stdout",
     "output_type": "stream",
     "text": [
      "Normalized value is 1.63\n"
     ]
    }
   ],
   "source": [
    "import sys\n",
    "sys.path.append('src/')\n",
    "import normalizer as norm \n",
    "result = norm.normalize(data=27.8, mean=18, std=6)\n",
    "print(\"Normalized value is {:.2f}\".format(result))"
   ]
  },
  {
   "cell_type": "markdown",
   "metadata": {},
   "source": [
    "## 1.2.4 Python object-oriented programming \n",
    "Python supports object-oriented programming (OOP). The goals of OOP are:\n",
    "\n",
    "* to organize the code, and\n",
    "* to re-use code in similar contexts.\n"
   ]
  },
  {
   "cell_type": "markdown",
   "metadata": {},
   "source": [
    "Here is a small example: we create a data process class, which is an object gathering several custom functions (methods) and variables (attributes), we will be able to use:"
   ]
  },
  {
   "cell_type": "code",
   "execution_count": 36,
   "metadata": {},
   "outputs": [],
   "source": [
    "class DataProcess(): \n",
    "    \n",
    "    def __init__(self, data, mean, std):\n",
    "        \"\"\"\n",
    "        data processing class\n",
    "        \"\"\"\n",
    "        self.data = data\n",
    "        \n",
    "        self.mean = mean\n",
    "        self.std  = std\n",
    "        self.max  = 100\n",
    "        \n",
    "    def normalize(self):\n",
    "        \"\"\"normalize data\n",
    "        \"\"\"\n",
    "        \n",
    "        return (self.data - self.mean)/self.std\n",
    "        \n",
    "    def scale(self):\n",
    "        \"\"\"\n",
    "       scale data\n",
    "        \"\"\"\n",
    "        return self.data/self.max"
   ]
  },
  {
   "cell_type": "code",
   "execution_count": 37,
   "metadata": {},
   "outputs": [],
   "source": [
    "process = DataProcess(data=80, mean=45, std=15) "
   ]
  },
  {
   "cell_type": "code",
   "execution_count": 38,
   "metadata": {},
   "outputs": [
    {
     "name": "stdout",
     "output_type": "stream",
     "text": [
      "Normalized data: 2.33\n"
     ]
    }
   ],
   "source": [
    "result_normalize = process.normalize()\n",
    "print(\"Normalized data: {:.2f}\".format(result_normalize))"
   ]
  },
  {
   "cell_type": "code",
   "execution_count": 39,
   "metadata": {},
   "outputs": [
    {
     "name": "stdout",
     "output_type": "stream",
     "text": [
      "Scaled data: 0.80\n"
     ]
    }
   ],
   "source": [
    "result_scaled = process.scale()\n",
    "print(\"Scaled data: {:.2f}\".format(result_scaled))"
   ]
  },
  {
   "cell_type": "markdown",
   "metadata": {},
   "source": [
    "### References"
   ]
  },
  {
   "cell_type": "markdown",
   "metadata": {},
   "source": [
    "## References\n",
    "\n",
    "- [python4datascience-atc](https://github.com/pythontz/python4datascience-atc)\n",
    "- [PythonDataScienceHandbook](https://github.com/jakevdp/PythonDataScienceHandbook)\n",
    "- [DS-python-data-analysis](https://github.com/jorisvandenbossche/DS-python-data-analysis)"
   ]
  }
 ],
 "metadata": {
  "kernelspec": {
   "display_name": "Python 3",
   "language": "python",
   "name": "python3"
  },
  "language_info": {
   "codemirror_mode": {
    "name": "ipython",
    "version": 3
   },
   "file_extension": ".py",
   "mimetype": "text/x-python",
   "name": "python",
   "nbconvert_exporter": "python",
   "pygments_lexer": "ipython3",
   "version": "3.6.5"
  },
  "latex_envs": {
   "LaTeX_envs_menu_present": true,
   "autocomplete": true,
   "bibliofile": "biblio.bib",
   "cite_by": "apalike",
   "current_citInitial": 1,
   "eqLabelWithNumbers": true,
   "eqNumInitial": 1,
   "hotkeys": {
    "equation": "Ctrl-E",
    "itemize": "Ctrl-I"
   },
   "labels_anchors": false,
   "latex_user_defs": false,
   "report_style_numbering": false,
   "user_envs_cfg": false
  }
 },
 "nbformat": 4,
 "nbformat_minor": 2
}
