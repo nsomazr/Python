{
 "cells": [
  {
   "cell_type": "markdown",
   "metadata": {},
   "source": [
    "<h1 style=\"color:black;  font-size:30px; text-align:center\">CIVE-AI WORKSHOP 2019</h1>\n",
    "<h2 style=\"color:green; text-align:center; font-size:20px;\">PYTHON FOR DATA SCIENCE AND MACHINE LEARNING</h2>\n",
    "        <h4 align=\"center\" style=\"color:green;\">By Zephania Reuben<br><br>\n",
    "        E-mail: zreuben815@gmail.com\n",
    "        </h4>"
   ]
  },
  {
   "cell_type": "markdown",
   "metadata": {},
   "source": [
    "![GitHub Logo](images/progpy.jpg)"
   ]
  },
  {
   "cell_type": "markdown",
   "metadata": {},
   "source": [
    "        \n",
    "# Outline:\n",
    " \n",
    "- **Python Basics**\n",
    "- **Collection Data Types**\n",
    "- **Function**\n",
    "- **Object Oriented Python**\n",
    "\n",
    "\n",
    "<h2 align=\"center\" style=\"color:green;\">PYTHON BASICS</h2>\n",
    "\n",
    "<h3 style=\"color:red;\"> GET STARTED</h3>\n",
    "\n",
    "####  What is Python?\n",
    " - High-level,\n",
    " - General purpose,\n",
    " - Interpreted,\n",
    "  Interactive and object-oriented scripting language.\n",
    "Python is designed to be highly readable\n",
    "\n",
    "### Features of Python\n",
    "- Easy to learn\n",
    "- Easy to read \n",
    "- Easy to maintain\n",
    "- A broad standard libraries\n",
    "- Interactive mode\n",
    "\n",
    "### Why Python?\n",
    "**\"Why Python?“**\n",
    " The answer is simple: it is powerful yet very\n",
    "accessible.\n",
    " Also Python has become the most popular programming language for data science because it allows us to forget about the tedious parts of programming and offers us an environment where we can quickly jot down our ideas and put concepts directly into action.\n",
    " \n",
    "### Python Installation\n",
    "\n",
    " - To install Python open a web browser go to this [link](https://www.python.org/downloads).\n",
    "   Run the downloaded file.\n",
    " - Just accept the default settings and wait until the install is finished.\n",
    " \n",
    "### Python IDLE\n",
    "\n",
    "- IDLE is a simple integrated development environment (IDE) that comes with Python.\n",
    "  It’s a program that allows us to type in our programs and run them.\n",
    "  You can find IDLE in the Python 3.7 folder on your computer. \n",
    " \n",
    "- When is started , the IDLE starts up in the shell, which is an interactive window where we can type   in Python code and see the output in the same window. \n",
    "- Most of the time we will want to open up a new window and type the program in there.\n",
    "\n",
    "### Jupyter Notebook\n",
    "- We can use another Python platform called Anaconda. \n",
    "- It includes different of popular data science packages and virtual environment manager.\n",
    "- Jupyter Notebook Is an open source web application interactive and exploratory computing.\n",
    "- It allows us to create and share documents that contain live code, equations, visualizations and explanatory text. \n",
    "- We will work in Jupyter notebooks for all practices\n",
    "\n",
    "<h3 style=\"color:red;\">BASIC SYNTAX</h3>\n",
    " \n",
    " ### First python program\n",
    " \n",
    " Let us excute our first python program in different modes:\n",
    " \n",
    " **Interactive mode:**\n",
    "```python \n",
    " print(\"Hello, World\")\n",
    "``` \n",
    " **Script mode**\n",
    " \n",
    " Write a simple Python program in a script. Python files have extension **.py**. Type the following source code in a test.py file:\n",
    "```python\n",
    " print(\"Hello,World\")\n",
    "```\n",
    "\n",
    "Example:-"
   ]
  },
  {
   "cell_type": "code",
   "execution_count": null,
   "metadata": {},
   "outputs": [],
   "source": [
    "print(\"Welcome\")"
   ]
  },
  {
   "cell_type": "markdown",
   "metadata": {},
   "source": [
    "### Python Identifiers\n",
    "Rules for naming variables:-\n",
    "\n",
    "- Variable names can contain letters, numbers, and the underscore.\n",
    "- Variable names cannot contain spaces\n",
    "- Variable names cannot start with a number.\n",
    "- Case matters—for instance, temp and Temp are different.\n",
    "\n",
    "Example:-"
   ]
  },
  {
   "cell_type": "code",
   "execution_count": null,
   "metadata": {},
   "outputs": [],
   "source": [
    "name = \"Chapakazi\"\n",
    "\n",
    "age = 18"
   ]
  },
  {
   "cell_type": "markdown",
   "metadata": {},
   "source": [
    "### Python keywords\n",
    "\n",
    "These are reserved words and you cannot use them as constant or variable or any other identifier names. All the Python keywords contain lowercase letters only.\n",
    "      \n",
    " **Keywords**\n",
    "-------------------------------|--------------------------\n",
    "and | is | not | exec | lambda | for | def |if |return | del | import | try | elif | in | print| raise \n",
    "while | else | with | except | lambda | yield | assert | finally | or | break | pass | class |from | continue | global\n",
    "\n",
    "\n",
    "### Lines and Indentation\n",
    "\n",
    "- Python provides no braces to indicate blocks of code for class and function definitions or flow control. \n",
    "- Blocks of code are denoted by line indentation. \n",
    "- The number of spaces in the indentation is variable.\n",
    "- All statements within the block must be indented the same amount.\n",
    "\n",
    "Example:-"
   ]
  },
  {
   "cell_type": "code",
   "execution_count": null,
   "metadata": {},
   "outputs": [],
   "source": [
    "if 3 >= 8:\n",
    "    print(\"Three is greater\")\n",
    "else:\n",
    "    print(\"Eight is greater\")"
   ]
  },
  {
   "cell_type": "markdown",
   "metadata": {},
   "source": [
    "### Quotation in Python\n",
    "\n",
    "- Python accepts single ('), double (\") and triple (''' or \"\"\") quotes to denote string literals, as long as the same type of quote starts and ends the string. \n",
    "- The triple quotes are used to span the string across multiple lines.\n",
    "\n",
    "Example:-"
   ]
  },
  {
   "cell_type": "code",
   "execution_count": 1,
   "metadata": {},
   "outputs": [],
   "source": [
    "name3 = \"\"\"balath\"\"\"\n",
    "name3 = '''balath'''"
   ]
  },
  {
   "cell_type": "code",
   "execution_count": null,
   "metadata": {},
   "outputs": [],
   "source": [
    "name1 = \"Juma\"\n",
    "name2= 'Jacob'\n",
    "name3 = \"\"\"John\"\"\"\n",
    "\n",
    "print(name3)"
   ]
  },
  {
   "cell_type": "markdown",
   "metadata": {},
   "source": [
    "### Comments in Python\n",
    "- A hash sign (#) that is not inside a string literal begins a comment.\n",
    "- All characters after the # and up to the end of the physical line are part of the comment and the - Python interpreter ignores them.\n",
    "\n",
    "Example:-"
   ]
  },
  {
   "cell_type": "code",
   "execution_count": null,
   "metadata": {},
   "outputs": [],
   "source": [
    "#this is a comment"
   ]
  },
  {
   "cell_type": "markdown",
   "metadata": {},
   "source": [
    "### Printing\n",
    "- The ```print()``` function requires parenthesis around its arguments.\n",
    "- To print several things at once, separate them by commas. Python will automatically insert spaces between them. \n",
    "- Python will insert a space between each of the arguments of the print function.\n",
    "- There is an optional argument called ```sep```, short for separator, that we can use to change that space to something else. \n",
    "- For example, using ```sep='##'``` would separate the arguments by two pound signs.\n",
    "- The print function will automatically advance to the next line."
   ]
  },
  {
   "cell_type": "code",
   "execution_count": 1,
   "metadata": {},
   "outputs": [
    {
     "name": "stdout",
     "output_type": "stream",
     "text": [
      "Hello##python\n"
     ]
    }
   ],
   "source": [
    "print(\"Hello\",\"python\",sep=\"##\")"
   ]
  },
  {
   "cell_type": "markdown",
   "metadata": {},
   "source": [
    "<h3 style=\"color:red;\"> VARIABLE TYPES</h3>\n",
    "\n",
    "- Variables are nothing but reserved memory locations to store values\n",
    "- Based on the data type of a variable, the interpreter allocates memory and decides what can be stored in the reserved memory.\n",
    "- Therefore, by assigning different data types to variables, you can store integers, decimals, or characters in these variables.\n",
    "\n",
    "### Standard Data Types In Python\n",
    "Python has five standard data types:\n",
    "- Numbers\n",
    "- String\n",
    "- List\n",
    "- Tuple\n",
    "- Dictionary\n",
    "\n",
    "### Python Numbers\n",
    "- Number data types store numeric values. Number objects are created when you assign a value to them.\n",
    "- Python supports four different numerical types:-\n",
    " - **int** (signed integers)\n",
    " - **long** (long integers, they can also be represented in octal and hexadecimal)\n",
    " - **float** (floating point real values)\n",
    " - **complex** (complex numbers)\n",
    " \n",
    " Example:-"
   ]
  },
  {
   "cell_type": "code",
   "execution_count": 2,
   "metadata": {},
   "outputs": [
    {
     "data": {
      "text/plain": [
       "7.0"
      ]
     },
     "execution_count": 2,
     "metadata": {},
     "output_type": "execute_result"
    }
   ],
   "source": [
    "n = 7+7j\n",
    "n.real"
   ]
  },
  {
   "cell_type": "code",
   "execution_count": 3,
   "metadata": {},
   "outputs": [
    {
     "data": {
      "text/plain": [
       "7.0"
      ]
     },
     "execution_count": 3,
     "metadata": {},
     "output_type": "execute_result"
    }
   ],
   "source": [
    "n.imag"
   ]
  },
  {
   "cell_type": "markdown",
   "metadata": {},
   "source": [
    "### Python Strings\n",
    "\n",
    "- Strings in Python are identified as a contiguous set of characters represented in the quotation marks. \n",
    "- Python allows for either pairs of single or double quotes.\n",
    "- Subsets of strings can be taken using the slice operator ([ ] and [:] ) \n",
    "- The plus (+) sign is the string concatenation operator and the asterisk (*) is the repetition operator.\n",
    "\n",
    "Example:-"
   ]
  },
  {
   "cell_type": "code",
   "execution_count": 6,
   "metadata": {},
   "outputs": [
    {
     "data": {
      "text/plain": [
       "'CIVEAIWorkshop2019CIVEAIWorkshop2019'"
      ]
     },
     "execution_count": 6,
     "metadata": {},
     "output_type": "execute_result"
    }
   ],
   "source": [
    "title = \"CIVEAIWorkshop2019\"*2\n",
    "title"
   ]
  },
  {
   "cell_type": "markdown",
   "metadata": {},
   "source": [
    "### Python Lists\n",
    "\n",
    "- Lists are the most versatile of Python's compound data types.\n",
    "- A list contains items separated by commas and enclosed within square brackets ([]). List can contain elements of different data types\n",
    "- The values stored in a list can be accessed using the slice operator ([ ] and [:]) with indexes starting at 0 in the beginning of the list and working their way to end -1.\n",
    "- The plus (+) sign is the list concatenation operator, and the asterisk (*) is the repetition operator.\n",
    "\n",
    "For example:\n"
   ]
  },
  {
   "cell_type": "code",
   "execution_count": null,
   "metadata": {},
   "outputs": [],
   "source": [
    "my_list = ['cs',10,'python']"
   ]
  },
  {
   "cell_type": "markdown",
   "metadata": {},
   "source": [
    "### Python Tuple\n",
    "\n",
    "- A tuple is another sequence data type that is similar to the list.\n",
    "- A tuple consists of a number of values separated by commas. \n",
    "- The main differences between lists and tuples are:\n",
    "- Lists are enclosed in brackets ( [ ] ) and their elements and size can be changed, while tuples are enclosed in parentheses ( ( ) ) and cannot be updated. \n",
    "- Tuples can be thought of as read-only lists.\n",
    "\n",
    "Example:"
   ]
  },
  {
   "cell_type": "code",
   "execution_count": null,
   "metadata": {},
   "outputs": [],
   "source": [
    "my_tuple= (\"python\",\"java\",90)"
   ]
  },
  {
   "cell_type": "markdown",
   "metadata": {},
   "source": [
    "### Python Dictionary\n",
    "- Python's dictionaries consist of key-value pairs.\n",
    "- A dictionary key can be almost any Python type, but are usually numbers or strings. Values, on the other hand, can be any arbitrary Python object.\n",
    "- Dictionaries are enclosed by curly braces ({ }) and values can be assigned and accessed using square braces ([]).\n",
    "\n",
    "Example:"
   ]
  },
  {
   "cell_type": "code",
   "execution_count": null,
   "metadata": {},
   "outputs": [],
   "source": [
    "dt = {'name':\"John\",'age':20}"
   ]
  },
  {
   "cell_type": "markdown",
   "metadata": {},
   "source": [
    "### Data Type Conversion\n",
    "\n",
    "- To convert between types, we simply use the type name as a function. \n",
    "- There are several built-in functions to perform conversion from one data type to another. \n",
    "- Example: ```int()```,```str()```.\n",
    "\n",
    "Example:-"
   ]
  },
  {
   "cell_type": "code",
   "execution_count": null,
   "metadata": {},
   "outputs": [],
   "source": [
    "my_tuple2=tuple(my_list)"
   ]
  },
  {
   "cell_type": "markdown",
   "metadata": {},
   "source": [
    "<h3 style=\"color:red;\"> PYTHON BASIC OPERATORS</h3>\n",
    "\n",
    "- Arithmetic Operators\n",
    "- Comparison (Relational) Operators\n",
    "- Assignment Operators\n",
    "- Logical Operators\n",
    "- Membership Operators\n",
    "- Identity Operators\n",
    "### Python Arithmetic Operators\n",
    "\n",
    "Assume variable a holds 10 and variable b holds 20, then:\n",
    "\n",
    "\n",
    "**Operator**              |        **Description**      |   **Example**\n",
    "--------------------------|---------------------------------|-----------------------\n",
    "**+   Addition**            | Adds values on either side of the operator | a+b=30\n",
    "**-   Substraction**        | Subtracts right hand operand from left hand operand. | a-b=-10\n",
    "__*   Multiplication__      | Multiplies values on either side of the operator | a*b=200\n",
    "**/   Division**            | Divides left hand operand by right hand operand | b/a=2  \n",
    "**% Modulus**               |  Divides left hand operand by right hand operand and returns remainder | b%a=0\n",
    "**** Exponent**             | Performs exponential (power) calculation on operators |a**b =10 to the power 20 \n",
    "**// Floor Division**       | The division of operands where the result is the quotient in which the digits after the decimal point are removed. | 9//2 = 4 and 9.0//2.0 = 4.0\n",
    "\n",
    "Examples:"
   ]
  },
  {
   "cell_type": "code",
   "execution_count": null,
   "metadata": {},
   "outputs": [],
   "source": [
    "print(\"Sum of numbers : \",(18+10))"
   ]
  },
  {
   "cell_type": "markdown",
   "metadata": {},
   "source": [
    "### Python Comparison Operators\n",
    "\n",
    "These operators compare the values on either sides of them and decide the relation among them. They are also called Relational operators.\n",
    "Assume variable a holds 10 and variable b holds 20, then:\n",
    "\n",
    "**Operator**              |        **Description**      |   **Example**\n",
    "--------------------------|---------------------------------|-----------------------\n",
    "**==**                    | If the values of two operands are equal, then the condition becomes true. | (a == b) is not true.\n",
    "**!=**                    | If values of two operands are not equal, then condition becomes true | (a != b) is true.\n",
    "**>**                     | If the value of left operand is greater than the value of right operand, then condition becomes true | (a > b) is not true.\n",
    "**<**                     | If the value of left operand is less than the value of right operand, then condition becomes true | (a < b) is true\n",
    "**>=**                    | If the value of left operand is greater than or equal to the value of right operand, then condition becomes true | (a >= b) is not true\n",
    "**<=**                    | If the value of left operand is less than or equal to the value of right operand, then condition becomes true. | (a <= b) is true.\n",
    "\n",
    "\n",
    "Examples: "
   ]
  },
  {
   "cell_type": "code",
   "execution_count": null,
   "metadata": {},
   "outputs": [],
   "source": [
    "i = 10\n",
    "h = 17\n",
    "if i != h:\n",
    "    print(\"Numbers are not equal\")\n",
    "else:\n",
    "    print(\"Numbers are equal\")"
   ]
  },
  {
   "cell_type": "markdown",
   "metadata": {},
   "source": [
    "### Python Assignment Operators\n",
    "\n",
    "Assume variable a holds 10 and variable b holds 20, then:\n",
    "\n",
    "\n",
    "**Operator**              |        **Description**      |   **Example**\n",
    "--------------------------|---------------------------------|-----------------------\n",
    "**=**                     | Assigns values from right side operands to left side operand | c = a + b assigns value of a + b into c\n",
    "**+=** **Add AND**        | It adds right operand to the left operand and assign the result to left operand | c += a is equivalent to c = c + a\n",
    "**-=** **Subtract AND**   | It subtracts right operand from the left operand and assign the result to left operand | c -= a is equivalent to c = c - a\n",
    "***=** **Multiply AND**   | It multiplies right operand with the left operand and assign the result to left operand | c *= a is equivalent to c = c * a\n",
    "**/=** **Divide AND**     | It divides left operand with the right operand and assign the result to left operand | c /= a is equivalent to c = c / a\n",
    "**%=** **Mudulus AND**    | It takes modulus using two operands and assign the result to left operand | c %= a is equivalent to c = c % a\n",
    "****=** **Exponent AND**  | Performs exponential (power) calculation on operators and assign value to the left operand | c **  a is equivalent to c = c ** a\n",
    "**//=** **or Division**  | It performs floor division on operators and assign value to the left operand | c //= a is equivalent to c = c // a\n",
    "\n",
    "\n",
    "Examples: "
   ]
  },
  {
   "cell_type": "code",
   "execution_count": null,
   "metadata": {},
   "outputs": [],
   "source": [
    "d = 19\n",
    "\n",
    "d+=18 #d = d+18\n",
    "\n",
    "print(\"New d : \",d)"
   ]
  },
  {
   "cell_type": "markdown",
   "metadata": {},
   "source": [
    "### Python Logical Operators\n",
    "There are following logical operators supported by Python language. Assume variable a holds 10 and variable b holds 20 then:\n",
    "\n",
    "\n",
    "**Operator**              |        **Description**      |   **Example**\n",
    "--------------------------|---------------------------------|-----------------------\n",
    "**and** , Logical **AND**  | If both the operands are true then condition becomes true. | (a and b) is true.\n",
    "**or** , Logical **OR**    | If any of the two operands are non-zero then condition becomes true. | (a or b) is true.\n",
    "**not** , Logical **NOT**  | Used to reverse the logical state of its operand. | Not (a and b) is false.\n",
    "\n",
    "Examples:"
   ]
  },
  {
   "cell_type": "code",
   "execution_count": null,
   "metadata": {},
   "outputs": [],
   "source": [
    "a=True\n",
    "b=True\n",
    "\n",
    "if a and b ==True:\n",
    "    print(\"Same values\")\n",
    "else:\n",
    "    print(\"Different values\")"
   ]
  },
  {
   "cell_type": "markdown",
   "metadata": {},
   "source": [
    "### Python Membership Operators\n",
    "\n",
    "Python’s membership operators test for membership in a sequence, such as strings, lists, or tuples. There are two membership operators as explained below:\n",
    "\n",
    "**Operator**              |        **Description**      |   **Example**\n",
    "--------------------------|---------------------------------|-----------------------\n",
    "**in**                    |  Evaluates to true if it finds a variable in the specified sequence and false otherwise. | x in y, here in results in a 1 if x is a member of sequence y.\n",
    "**not in**                | Evaluates to true if it does not finds a variable in the specified sequence and false otherwise. | x not in y, here not in results in a 1 if x is not a member of sequence y. \n",
    "\n",
    "Examples: "
   ]
  },
  {
   "cell_type": "code",
   "execution_count": 1,
   "metadata": {},
   "outputs": [
    {
     "name": "stdout",
     "output_type": "stream",
     "text": [
      "Found\n"
     ]
    }
   ],
   "source": [
    "lang = 'Python'\n",
    "\n",
    "if 'P' in lang and 't' in lang:\n",
    "    print(\"Found\")\n",
    "else:\n",
    "    print(\"Not found\")"
   ]
  },
  {
   "cell_type": "markdown",
   "metadata": {},
   "source": [
    "### Python Identity Operators\n",
    "\n",
    "Identity operators compare the memory locations of two objects. There are two Identity operators as explained below:\n",
    "\n",
    "**Operator**              |        **Description**      |   **Example**\n",
    "--------------------------|---------------------------------|-----------------------\n",
    "**is**                    | Evaluates to true if the variables on either side of the operator point to the same object and false otherwise. | x is y, here is results in 1 if id(x) equals id(y).\n",
    "**is not**                | Evaluates to false if the variables on either side of the operator point to the same object and true otherwise. | x is not y, here is not results in 1 if id(x) is not equal to id(y).  \n",
    "\n",
    "\n",
    "Examples:-"
   ]
  },
  {
   "cell_type": "code",
   "execution_count": null,
   "metadata": {},
   "outputs": [],
   "source": []
  },
  {
   "cell_type": "markdown",
   "metadata": {},
   "source": [
    "<h3 style=\"color:red;\"> DECISION MAKING</h3> "
   ]
  },
  {
   "cell_type": "markdown",
   "metadata": {},
   "source": [
    "- Decision making is anticipation of conditions occurring while execution of the program and specifying actions taken according to the conditions.\n",
    "- Decision structures evaluate multiple expressions which produce ```TRUE``` or ```FALSE``` as outcome.\n",
    "- Python programming language assumes any non-zero and non-null values as ```TRUE```, and if it is either zero or null, then it is assumed as ```FALSE``` value.\n",
    "\n",
    "- Python programming language provides following types of decision making statements. \n",
    "\n",
    "**Statement**              |        **Description**      \n",
    "---------------------------|------------------------------\n",
    "**if** statements          | if statement consists of a boolean expression followed by one or more statements.\n",
    "**if**...**else** statements | if statement can be followed by an optional else statement, which executes when the boolean expression is FALSE.\n",
    "nested **if**  statements      | You can use one if or else if statement inside another if or else if statement(s). \n",
    "\n",
    "### if statements\n",
    "\n",
    "The if statement contains a logical expression using which data is compared and a decision is made based on the result of the comparison.\n",
    "\n",
    "#### Syntax\n",
    "```python\n",
    "             if expression:\n",
    "             \n",
    "                statement(s)\n",
    "```    \n",
    "                \n",
    "If the boolean expression evaluates to **TRUE**, then the block of statement(s) inside the if statement is executed. If boolean expression evaluates to **FALSE**, then the first set of code after the end of the if statement(s) is executed.                \n",
    "\n",
    "Examples:-"
   ]
  },
  {
   "cell_type": "code",
   "execution_count": null,
   "metadata": {},
   "outputs": [],
   "source": [
    "var1 = 10\n",
    "if var1:\n",
    "    print(\"2 - Got a true expression value\")\n",
    "    print(var1)"
   ]
  },
  {
   "cell_type": "markdown",
   "metadata": {},
   "source": [
    "### if...else statement\n",
    "\n",
    "An else statement can be combined with an if statement. An else statement contains the block of code that executes if the conditional expression in the if statement resolves to **0** or a **FALSE** value.\n",
    "\n",
    "The else statement is an optional statement and there could be at most only one else statement following if.\n",
    "\n",
    "#### Syntax\n",
    "```python \n",
    "             if expression:\n",
    "             \n",
    "                statement(s) \n",
    "                \n",
    "             else:\n",
    "             \n",
    "                statement(s) \n",
    "```                \n",
    "Examples:-                "
   ]
  },
  {
   "cell_type": "code",
   "execution_count": null,
   "metadata": {},
   "outputs": [],
   "source": [
    "var1 = 100\n",
    "\n",
    "if var1:\n",
    "    print(\"2 - Got a true expression value\")\n",
    "    print(var1)\n",
    "else:\n",
    "    print(\"2 - Got a false expression value\")\n",
    "    print(var1)"
   ]
  },
  {
   "cell_type": "markdown",
   "metadata": {},
   "source": [
    "### The *elif* Statement\n",
    "\n",
    "The elif statement allows you to check multiple expressions for TRUE and execute a block of code as soon as one of the conditions evaluates to **TRUE**.\n",
    "\n",
    "Similar to the else, the elif statement is optional. However, unlike else, for which there can be at most one statement, there can be an arbitrary number of elif statements following an if.\n",
    "\n",
    "#### Syntax \n",
    "```python\n",
    "    if expression1:\n",
    "                     \n",
    "         statement(s)\n",
    "                        \n",
    "    elif expression2:\n",
    "                     \n",
    "        statement(s)\n",
    "                        \n",
    "    else:\n",
    "                     \n",
    "        statement(s)\n",
    "```                        \n",
    "                    \n",
    "Example:-                    "
   ]
  },
  {
   "cell_type": "code",
   "execution_count": null,
   "metadata": {},
   "outputs": [],
   "source": [
    "var = 100\n",
    "if var == 200:\n",
    "    print(var)\n",
    "elif var == 150:\n",
    "    print(var)\n",
    "elif var == 100:\n",
    "    print(var)\n",
    "else:\n",
    "    print(var)"
   ]
  },
  {
   "cell_type": "markdown",
   "metadata": {},
   "source": [
    "### Nested **if** statements\n",
    "\n",
    "#### Syntax  \n",
    "\n",
    "```python\n",
    "   if expression:\n",
    "    \n",
    "      if innerExpression: \n",
    "        \n",
    "           statement(s) \n",
    "        \n",
    "      elif secInnerExp:\n",
    "            \n",
    "           statement(s)\n",
    "            \n",
    "      else:    \n",
    "                \n",
    "          statement(s) \n",
    "                \n",
    "    else:       \n",
    "                    \n",
    "        statement(s)                \n",
    "```\n",
    "Examples:-   "
   ]
  },
  {
   "cell_type": "code",
   "execution_count": null,
   "metadata": {},
   "outputs": [],
   "source": [
    "var = 100\n",
    "if var == 100:\n",
    "    if var + 100 == 200:\n",
    "        print(\"Pass\")\n",
    "    else:\n",
    "        print(\"Fail\")\n",
    "else:\n",
    "    print(var)"
   ]
  },
  {
   "cell_type": "markdown",
   "metadata": {},
   "source": [
    "<h3 style=\"color:red\">LOOPS</h3>\n",
    "\n",
    "- In general, statements are executed sequentially: The first statement in a function is executed first, followed by the second, and so on.\n",
    "- There may be a situation when you need to execute a block of code several number of times.\n",
    "- A loop statement allows us to execute a statement or group of statements multiple times.\n",
    "\n",
    "\n",
    "Python programming language provides following types of loops to handle looping requirements.\n",
    "\n",
    "**Loop Type**              |        **Description**      \n",
    "---------------------------|------------------------------\n",
    "**while** loop             |  Repeats a statement or group of statements while a given condition is TRUE. It tests the condition before executing the loop body.\n",
    "**for** loop               | Executes a sequence of statements multiple times and abbreviates the code that manages the loop variable.\n",
    "nested loop            | You can use one or more loop inside any another while, for or do..while loop\n",
    "\n",
    "\n",
    "### *while* loop\n",
    "\n",
    "A while loop statement in Python programming language repeatedly executes a target statement as long as a given condition is true.\n",
    "\n",
    "#### Syntax\n",
    "\n",
    "  The syntax of a while loop in Python programming language is:\n",
    "```python\n",
    "          while expression:\n",
    "          \n",
    "                statement(s)\n",
    "```    \n",
    "Example:-"
   ]
  },
  {
   "cell_type": "code",
   "execution_count": 2,
   "metadata": {},
   "outputs": [
    {
     "name": "stdout",
     "output_type": "stream",
     "text": [
      "The count is: 0\n",
      "The count is: 1\n",
      "The count is: 2\n",
      "The count is: 3\n",
      "The count is: 4\n",
      "The count is: 5\n",
      "The count is: 6\n",
      "The count is: 7\n",
      "The count is: 8\n"
     ]
    }
   ],
   "source": [
    "count = 0\n",
    "while (count < 9):\n",
    "        print('The count is:', count)\n",
    "        count = count + 1 "
   ]
  },
  {
   "cell_type": "markdown",
   "metadata": {},
   "source": [
    "### *for* Loop\n",
    "\n",
    "It has the ability to iterate over the items of any sequence, such as a list or a string\n",
    "\n",
    "#### Syntax\n",
    "```python\n",
    "         for iterating_var in sequence:\n",
    "         \n",
    "              statements(s)\n",
    "```    \n",
    "              \n",
    " If a sequence contains an expression list, it is evaluated first. Then, the first item in the sequence is assigned to the iterating variable **iterating_var**. Next, the statements block is executed.\n",
    " \n",
    " Each item in the list is assigned to **iterating_var**, and the statement(s) block is executed until the entire sequence is exhausted.     "
   ]
  },
  {
   "cell_type": "code",
   "execution_count": null,
   "metadata": {},
   "outputs": [],
   "source": [
    "for letter in 'Python': # First Example\n",
    "      print('Current Letter :', letter)\n",
    "        \n",
    "#fruits = ['banana', 'apple', 'mango']\n",
    "\n",
    "#for fruit in fruits: # Second Example\n",
    "    #   print 'Current fruit :', fruit"
   ]
  },
  {
   "cell_type": "markdown",
   "metadata": {},
   "source": [
    "### Using *else* Statement with Loops\n",
    "\n",
    "Python supports to have an else statement associated with a loop statement.\n",
    "- If the **else** statement is used with a **for** loop, the **else** statement is executed when the loop has exhausted iterating the list.\n",
    "\n",
    "- If the **else** statement is used with a **while** loop, the **else** statement is executed when the condition becomes false.\n",
    "\n",
    "Examples:-\n"
   ]
  },
  {
   "cell_type": "code",
   "execution_count": null,
   "metadata": {},
   "outputs": [],
   "source": [
    "count = 0\n",
    "while count < 5:\n",
    "    print(count, \" is less than 5\")\n",
    "    count = count + 1\n",
    "else:\n",
    "    print(count,\" is not less than 5\")"
   ]
  },
  {
   "cell_type": "markdown",
   "metadata": {},
   "source": [
    "<h3>Nested Loops</h3>\n",
    "\n",
    "Python programming language allows to use one loop inside another loop. Following section shows few examples to illustrate the concept.\n",
    "\n",
    "#### Syntax nested *for*\n",
    "\n",
    "```python\n",
    "for iterating_var in sequence:\n",
    "    for iterating_var in sequence:\n",
    "        statements(s)\n",
    "    statements(s)\n",
    "\n",
    "```\n",
    "\n",
    "#### Syntax nested *while*\n",
    "\n",
    "```python\n",
    "while expression:\n",
    "      while expression:\n",
    "            statement(s)\n",
    "      statement(s)\n",
    "```\n",
    "\n",
    "A final note on loop nesting is that you can put any type of loop inside of any other type of loop\n",
    "\n",
    "Example:-"
   ]
  },
  {
   "cell_type": "code",
   "execution_count": null,
   "metadata": {},
   "outputs": [],
   "source": []
  },
  {
   "cell_type": "markdown",
   "metadata": {},
   "source": [
    "### Loop Control Statements\n",
    "\n",
    "Loop control statements change execution from its normal sequence. When execution leaves a scope, all automatic objects that were created in that scope are destroyed.\n",
    "Python supports the following control statements.\n",
    "\n",
    "Control statement             | Description\n",
    "------------------------------|----------------\n",
    "**continue**        | Causes the loop to skip the remainder of its body and immediately retest its condition prior to reiterating.\n",
    "**break**                     | Terminates the loop statement and transfers execution to the statement immediately following the loop.\n",
    "**pass**                      | The pass statement in Python is used when a statement is required syntactically but you do not want any command or code to execute.\n",
    "\n",
    "\n",
    "### break statement\n",
    "\n",
    "It terminates the current loop and resumes execution at the next statement.\n",
    "\n",
    "The most common use for break is when some external condition is triggered requiring a hasty exit from a loop. The break statement can be used in both ***while*** and ***for*** loops.\n",
    "\n",
    "If you are using nested loops, the **break** statement stops the execution of the innermost loop and start executing the next line of code after the block.\n",
    "\n",
    "Examples:-"
   ]
  },
  {
   "cell_type": "code",
   "execution_count": null,
   "metadata": {},
   "outputs": [],
   "source": [
    "for letter in 'Python': # First Example\n",
    "    if letter == 'h':\n",
    "        break\n",
    "    print('Current Letter :', letter)"
   ]
  },
  {
   "cell_type": "markdown",
   "metadata": {},
   "source": [
    "### continue statement\n",
    "\n",
    "It returns the control to the beginning of the while loop. The continue statement rejects all the remaining statements in the current iteration of the loop and moves the control back to the top of the loop.\n",
    "\n",
    "The **continue** statement can be used in both ***while*** and ***for*** loops.\n",
    "\n",
    "Examples:-"
   ]
  },
  {
   "cell_type": "code",
   "execution_count": null,
   "metadata": {},
   "outputs": [],
   "source": [
    "for letter in 'Python': # First Example\n",
    "    if letter == 'h':\n",
    "        continue\n",
    "    print('Current Letter :', letter)"
   ]
  },
  {
   "cell_type": "markdown",
   "metadata": {},
   "source": [
    "### pass statement\n",
    "\n",
    "It is used when a statement is required syntactically but you do not want any command or code to execute\n",
    "\n",
    "The **pass** statement is a null operation; nothing happens when it executes. The pass is also useful in places where your code will eventually go, but has not been written yet:\n",
    "\n",
    "Examples:-"
   ]
  },
  {
   "cell_type": "code",
   "execution_count": null,
   "metadata": {},
   "outputs": [],
   "source": [
    "for letter in 'Python':\n",
    "    if letter == 'h':\n",
    "        pass\n",
    "        print('This is pass block')\n",
    "    print('Current Letter :', letter)"
   ]
  },
  {
   "cell_type": "markdown",
   "metadata": {},
   "source": [
    "<h3 style=\"color:red;\">NUMBERS</h3>\n",
    "\n",
    "Number data types store numeric values. They are immutable data types, means that changing the value of a number data type results in a newly allocated object.\n",
    "Number objects are created when you assign a value to them.\n",
    "\n",
    "For example\n",
    "\n",
    "```python \n",
    "\n",
    "var1 = 10\n",
    "var2 = 20\n",
    "```\n",
    "You can also delete the reference to a number object by using the **del** statement. \n",
    "\n",
    "The syntax of the del statement is:\n",
    "```python\n",
    "del var\n",
    "\n",
    "For multiple variables\n",
    "```\n",
    "```python\n",
    "del var1,var2....varN\n",
    "```\n",
    "Python supports four different numerical types:\n",
    "- **int (signed integers):** They are often called just integers or ints, are positive or negative whole numbers with no decimal point.\n",
    "- **float (floating point real values) :** Also called floats, they represent real numbers and are written with a decimal point dividing the integer and fractional parts. Floats may also be in scientific notation, with E or e indicating the power of 10 (2.5e2 = 2.5 x 102 = 250).\n",
    "- **omplex (complex numbers) :** are of the form a + bJ, where a and b are floats and J (or j) represents the square root of -1 (which is an imaginary number). The real part of the number is a, and the imaginary part is b. Complex numbers are not used much in Python programming.\n",
    "\n",
    "### Numbers Type Conversion\n",
    "\n",
    "Python converts numbers internally in an expression containing mixed types to a common type for evaluation. But sometimes, you need to coerce a number explicitly from one type to another to satisfy the requirements of an operator or function parameter.\n",
    "\n",
    "- Type **int(x)** to convert x to a plain integer.\n",
    "- Type **float(x)** to convert x to a floating-point number.\n",
    "- Type **complex(x)** to convert x to a complex number with real part x and imaginary part zero.\n",
    "- Type **complex(x, y)** to convert x and y to a complex number with real part x and imaginary part y. x and y are numeric expressions\n",
    "\n",
    "### Mathematical Functions\n",
    "\n",
    "Python includes following functions that perform mathematical calculations.\n",
    "\n",
    "**Function**        | **Returns(Description)**\n",
    "---------------------|--------------------------\n",
    "**abs(x)**           | The absolute value of x: the (positive) distance between x and zero.\n",
    "**ceil(x)**          | The ceiling of x: the smallest integer not less than x\n",
    "**complex**          | -1 if x < y, 0 if x == y, or 1 if x > y\n",
    "**exp(x)**           | The exponential of x: e<sup>x</sup>\n",
    "**fabs(x)**          | The absolute value of x\n",
    "**floor(x)**         | The floor of x: the largest integer not greater than x\n",
    "**log(x)**           | The natural logarithm of x, for x> 0\n",
    "**log10(x)**         | The base-10 logarithm of x for x> 0.\n",
    "**max(x1,x2...)**    | The largest of its arguments: the value closest to positive infinity\n",
    "**min(x1,x2...)**    | The smallest of its arguments: the value closest to negative infinity\n",
    "**modf(x)**          | The fractional and integer parts of x in a two-item tuple. Both parts have the same sign as x. The integer part is returned as a float.\n",
    "**pow(x,y)**         | The value of x**y.\n",
    "**round(x [,n])**    | x rounded to n digits from the decimal point. Python rounds away from zero as a tie-breaker: round(0.5) is 1.0 and round(-0.5) is -1.0.\n",
    "**sqrt(x)**          | The square root of x for x > 0\n",
    "\n",
    "### Random Numbers Functions\n",
    "\n",
    "Random numbers are used for games, simulations, testing, security, and privacy applications. Python includes following functions that are commonly used.\n",
    "\n",
    "**Function**        | **Returns(Description)**\n",
    "---------------------|--------------------------\n",
    "**choice(sequence)** | A random item from a list, tuple, or string\n",
    "**random()**         | A random float r, such that 0 is less than or equal to r and r is less than 1\n",
    "**seed([x])**        | Sets the integer starting value used in generating random numbers. Call this function before calling any other random module function. Returns None.\n",
    "**shuffle(list)**    | Randomizes the items of a list in place. Returns None\n",
    "**uniform(x, y)**    | A random float r, such that x is less than or equal to r and r is less than y\n",
    "\n",
    "\n",
    "### Trigonometric Functions\n",
    "\n",
    "**Function**         | **Description**\n",
    "---------------------|--------------------------\n",
    "**acos(x)**          | Return the arc cosine of x, in radians.\n",
    "**asin(x)**          | Return the arc sine of x, in radians.\n",
    "**atan(x)**          | Return the arc tangent of x, in radians.\n",
    "**atan2(y, x)**      | Return atan(y / x), in radians.\n",
    "**cos(x)**           | Return the cosine of x radians.\n",
    "**hypot(x, y)**      | Return the Euclidean norm, sqrt(x*x + y*y).\n",
    "**sin(x)**           | Return the sine of x radians.\n",
    "**tan(x)**           | Return the tangent of x radians.\n",
    "**degrees(x)**       | Converts angle x from radians to degrees.\n",
    "**radians(x)**       | Converts angle x from degrees to radians\n",
    "\n",
    "### Mathematical Constants\n",
    "\n",
    "\n",
    "**Constant**         | **Description**\n",
    "---------------------|--------------------------\n",
    "**pi**               | The mathematical constant pi.\n",
    "**e**                | The mathematical constant e.\n",
    "\n",
    "Examples:-"
   ]
  },
  {
   "cell_type": "code",
   "execution_count": null,
   "metadata": {},
   "outputs": [],
   "source": []
  },
  {
   "cell_type": "markdown",
   "metadata": {},
   "source": [
    "<h3 style=\"color:red;\">STRINGS</h3>\n",
    "\n",
    "- String can be created by simply by enclosing characters in quotes.\n",
    "- Python treats single quotes the same as double quotes. Creating strings is as simple as assigning a value to a variable.\n",
    "\n",
    "For example:\n"
   ]
  },
  {
   "cell_type": "code",
   "execution_count": null,
   "metadata": {},
   "outputs": [],
   "source": []
  },
  {
   "cell_type": "markdown",
   "metadata": {},
   "source": [
    "### Escape Characters\n",
    "Following table shows some of escape or non-printable characters that can be represented with backslash notation.\n",
    "\n",
    "An escape character gets interpreted; in a single quoted as well as double quoted strings.\n",
    "\n",
    "Escape          | Meaning\n",
    "------------------|----------------\n",
    "**\\newline**      | Escape (i.e., ignore) the newline\n",
    "**\\\\**            | Backslash (\\)\n",
    "**\\'**            | Single quote (’)\n",
    "**\\\"**            | Double quote (\")\n",
    "**\\a**            | ASCII bell (BEL)\n",
    "**\\b**            | ASCII backspace (BS)\n",
    "**\\f**            | ASCII formfeed (FF)\n",
    "**\\n**            | ASCII linefeed (LF)\n",
    "\n",
    "Examples:-"
   ]
  },
  {
   "cell_type": "code",
   "execution_count": null,
   "metadata": {},
   "outputs": [],
   "source": []
  },
  {
   "cell_type": "markdown",
   "metadata": {},
   "source": [
    "### String Special Operators\n",
    "\n",
    "Assume string variable a holds 'Hello' and variable b holds 'Python', then:\n",
    "\n",
    "**Operator**  | **Description** | **Example**\n",
    "--------------|-----------------|-----------\n",
    "**+** Concatenation | - Adds values on either side of the operator | a + b will give HelloPython\n",
    "__*__ Repetition    | - Creates new strings, concatenating multiple copies of the same string  | a*2 will give -HelloHello\n",
    "**[]** Slice     | - Gives the character from the given index | a[1] will give e\n",
    "**[ : ]** Range Slice | - Gives the characters from the given range | a[1:4] will give ell\n",
    "**in** Membership | - Returns true if a character exists in the given string | H in a will give 1\n",
    "**not in** Membership | - Returns true if a character does not exist in the given string | M not in a will give 1\n",
    "\n",
    "Examples:-"
   ]
  },
  {
   "cell_type": "code",
   "execution_count": null,
   "metadata": {},
   "outputs": [],
   "source": []
  },
  {
   "cell_type": "markdown",
   "metadata": {},
   "source": [
    "<h2 align=\"center\" style=\"color:green;\">COLLECTION DATA TYPES</h2>\n",
    "\n",
    "\n",
    "<h3 style=\"color:red\">Lists </h3>\n",
    "\n",
    "- The list is a most versatile datatype available in Python which can be written as a list of comma-separated values (items) between square brackets. \n",
    "- Important thing about a list is that items in a list need not be of the same type.\n",
    "\n",
    "- Creating a list is as simple as putting different comma-separated values between square brackets.\n",
    "\n",
    "For example:"
   ]
  },
  {
   "cell_type": "code",
   "execution_count": null,
   "metadata": {},
   "outputs": [],
   "source": []
  },
  {
   "cell_type": "markdown",
   "metadata": {},
   "source": [
    "### Accessing Values in Lists\n",
    "\n",
    "To access values in lists, use the square brackets for slicing along with the index or indices to obtain value available at that index.\n",
    "\n",
    "For example:"
   ]
  },
  {
   "cell_type": "code",
   "execution_count": null,
   "metadata": {},
   "outputs": [],
   "source": [
    "list1 = ['physics', 'chemistry', 1997, 2000]\n",
    "list2 = [1, 2, 3, 4, 5, 6, 7 ]\n",
    "\n",
    "print(\"list1[0]: \", list1[0])\n",
    "print(\"list2[1:5]: \", list2[1:5])"
   ]
  },
  {
   "cell_type": "markdown",
   "metadata": {},
   "source": [
    "### Basic List Operation\n",
    "\n",
    "Lists respond to the + and * operators much like strings; they mean concatenation and repetition here too, except that the result is a new list, not a string.\n",
    "\n",
    "**Python Expresion** | **results** |  **Description**\n",
    "--------|--------|-------------\n",
    "len([1,2,3])| 3  | Length\n",
    "[1,2,3]+[4,5,6] | [1,2,3,4,5,6] | concatination\n",
    "['AI']*4        | ['AI','AI','AI','AI'] | Repetition\n",
    "3 in [1,2,3]   | True  |   Membership\n",
    "for x in [1,2,3]: print(x) | 1 2 3 | Iteration\n",
    "\n",
    "### Indexing and Slicing\n",
    "\n",
    "Because lists are sequences, indexing and slicing work the same way for lists as they do for strings.\n",
    "\n",
    "Assume the following input:\n",
    "\n",
    "```python\n",
    "L=['cive','Cive','CIVE']\n",
    "```\n",
    "\n",
    "**Python** | **Results** | **Description**\n",
    "-------|---------|--------\n",
    "L[2]   |'CIVE'   | Offsets start at zero\n",
    "L[-2]  | 'Cive'  |Negative:count from the right\n",
    "L[1:]  | ['Cive','CIVE'] | Slicing fetches sections\n",
    "\n",
    "### Built-inList Fuctions and Methods\n",
    "\n",
    "Python includes the following list functions\n",
    "\n",
    "**Function** | **Description**\n",
    "---------|-----------\n",
    "cmp(list1, list2) | Compares elements of both lists.\n",
    "len(list)    |  Gives the total length of the list.\n",
    "max(list)    | Returns item from the list with max value.\n",
    "min(list)    | Returns item from the list with min value.\n",
    "list(seq)    | Converts a tuple into list.\n",
    "\n",
    "\n",
    "Python includes the following list functions\n",
    "\n",
    "**Method** | **Description**\n",
    "---------|-----------\n",
    "list.append(obj) | Appends object obj to list\n",
    "list.count(obj) | Returns count of how many times obj occurs in list\n",
    "list.extend(seq) | Appends the contents of seq to list\n",
    "list.index(obj) | Returns the lowest index in list that obj appears\n",
    "list.insert(index, obj) | Inserts object obj into list at offset index\n",
    "list.pop(obj=list[-1]) | Removes and returns last object or obj from lis\n",
    "list.remove(obj) |  Removes object obj from list\n",
    "list.reverse() |  Reverses objects of list in place\n",
    "list.sort([func]) | Sorts objects of list, use compare func if given\\\n",
    "\n",
    "Examples:\n"
   ]
  },
  {
   "cell_type": "code",
   "execution_count": null,
   "metadata": {},
   "outputs": [],
   "source": [
    "list = [\"CIVE\",\"COES\",\"CHAS\"]\n",
    "\n",
    "list.append(\"CHSS\")\n",
    "\n",
    "print(list)"
   ]
  },
  {
   "cell_type": "markdown",
   "metadata": {},
   "source": [
    "<h3 style=\"color:red\"> Tuples</h3>\n",
    "- A tuple is a sequence of immutable Python objects. Tuples are sequences, just like lists. \n",
    "- The differences between tuples and lists are, the tuples cannot be changed unlike lists and tuples use **parentheses**, whereas lists use **square brackets**\n",
    "For example:\n",
    "\n",
    "```python\n",
    "tup1 = ('physics', 'chemistry', 1997, 2000);\n",
    "tup2 = (1, 2, 3, 4, 5 );\n",
    "tup3 = \"a\", \"b\", \"c\", \"d\";\n",
    "```\n",
    "### Accessing Values in Tuples\n",
    "\n",
    "To access values in tuple, use the square brackets for slicing along with the index or indices to obtain value available at that index.\n",
    "\n",
    "For example:"
   ]
  },
  {
   "cell_type": "code",
   "execution_count": null,
   "metadata": {},
   "outputs": [],
   "source": [
    "tup1 = ('physics', 'chemistry', 1997, 2000)\n",
    "\n",
    "tup2 = (1, 2, 3, 4, 5, 6, 7 )\n",
    "\n",
    "print(\"tup1[0]: \",tup1[0])\n",
    "\n",
    "print(\"tup2[1:5]: \", tup2[1:5])"
   ]
  },
  {
   "cell_type": "markdown",
   "metadata": {},
   "source": [
    "### Basic Tuple Operation\n",
    "\n",
    "Lists respond to the + and * operators much like strings; they mean concatenation and repetition here too, except that the result is a new list, not a string.\n",
    "\n",
    "**Python Expresion** | **results** |  **Description**\n",
    "--------|--------|-------------\n",
    "len((1,2,3))| 3  | Length\n",
    "(1,2,3)+(4,5,6) | (1,2,3,4,5,6) | concatination\n",
    "['AI']*4        | ('AI','AI','AI','AI') | Repetition\n",
    "3 in (1,2,3)   | True  |   Membership\n",
    "for x in (1,2,3): print(x) | 1 2 3 | Iteration\n",
    "\n",
    "### Indexing and Slicing\n",
    "\n",
    "Because lists are sequences, indexing and slicing work the same way for lists as they do for strings.\n",
    "\n",
    "Assume the following input:\n",
    "\n",
    "```python\n",
    "T=('cive','Cive','CIVE')\n",
    "```\n",
    "\n",
    "**Python** | **Results** | **Description**\n",
    "-------|---------|--------\n",
    "T[2]   |'CIVE'   | Offsets start at zero\n",
    "T[-2]  | 'Cive'  |Negative:count from the right\n",
    "T[1:]  | ['Cive','CIVE'] | Slicing fetches sections\n",
    "\n",
    "\n",
    "### Built-inList Fuctions\n",
    "\n",
    "Python includes the following list functions\n",
    "\n",
    "**Function** | **Description**\n",
    "---------|-----------\n",
    "cmp(tuple1, tuple2) | Compares elements of both lists.\n",
    "len(tuple)    |  Gives the total length of the list.\n",
    "max(tuple)    | Returns item from the list with max value.\n",
    "min(tuple)    | Returns item from the list with min value.\n",
    "tuple(seq)    | Converts a tuple into list.\n",
    "\n",
    "Example:"
   ]
  },
  {
   "cell_type": "code",
   "execution_count": null,
   "metadata": {},
   "outputs": [],
   "source": [
    "tuple = (\"CIVE\",\"COES\",\"CHAS\")\n",
    "\n",
    "print(tuple)"
   ]
  },
  {
   "cell_type": "markdown",
   "metadata": {},
   "source": [
    "<h3 style=\"color:red\">Dictionary</h3>\n",
    "\n",
    "- Dictionary this is a collection data type which have pairs of **keys** and **values**.\n",
    "\n",
    "- Each key is separated from its value by a colon (:), the items are separated by commas, and the whole thing is enclosed in curly braces.\n",
    "- An empty dictionary without any items is written with just two curly braces, like this: {}.\n",
    "- Keys are unique within a dictionary while values may not be. The values of a dictionary can be of any type, but the keys must be of an immutable data type such as strings, numbers, or tuples.\n",
    "\n",
    "Example \n",
    "\n",
    "```python\n",
    "dict ={'name':'Juma','Gender':'Male'}\n",
    "```\n",
    "\n",
    "### Accessing Values in Dictionary\n",
    "\n",
    "To access dictionary elements, you can use the familiar square brackets along with the key to obtain its value.\n",
    "\n",
    "Example:"
   ]
  },
  {
   "cell_type": "code",
   "execution_count": null,
   "metadata": {},
   "outputs": [],
   "source": [
    "dict = {'Name': 'Zara', 'Age': 7, 'Class': 'First'}\n",
    "\n",
    "print(\"dict['Name']: \", dict['Name'])\n",
    "\n",
    "print(\"dict['Age']: \", dict['Age'])"
   ]
  },
  {
   "cell_type": "markdown",
   "metadata": {},
   "source": [
    "### Built-in Dictionary Functions and Methods\n",
    "\n",
    "Python includes the following dictionary functions:\n",
    "\n",
    "\n",
    "**Function** | **Description**\n",
    "---------|-----------\n",
    "cmp(dict1, dict2) | Compares elements of both dict.\n",
    "len(dict) | Gives the total length of the dictionary. This would be equal to the number of items in the dictionary.\n",
    "str(dict) |  Produces a printable string representation of a dictionary\n",
    "type(variable) |Returns the type of the passed variable. If passed variable is dictionary, then it would return a dictionary type\n",
    "\n",
    "Python includes the following dictionary methods:\n",
    "\n",
    "**Method** | **Description**\n",
    "---------|-----------\n",
    "dict.clear() | Removes all elements of dictionary dict\n",
    "dict.copy() | Returns a shallow copy of dictionary dict\n",
    "dict.fromkeys() | Create a new dictionary with keys from seq and values set to value.\n",
    "dict.get(key, default=None) | For key key, returns value or default if key not in dictionary\n",
    "dict.has_key(key) | Returns true if key in dictionary dict, false otherwise\n",
    "dict.items() | Returns a list of dict's (key, value) tuple pairs\n",
    "dict.keys() | Returns list of dictionary dict's keys\n",
    "dict.setdefault(key, default=None) | Similar to get(), but will set dict[key]=default if key is not already in dict \n",
    "dict.update(dict2) | Adds dictionary dict2's key-values pairs to dict\n",
    "dict.values() | Returns list of dictionary dict's values\n",
    "\n",
    "Examples:"
   ]
  },
  {
   "cell_type": "code",
   "execution_count": null,
   "metadata": {},
   "outputs": [],
   "source": []
  },
  {
   "cell_type": "markdown",
   "metadata": {},
   "source": [
    "<h2 style=\"color:green\" align=\"center\">FUNCTIONS</h2>\n",
    "- A function is a block of organized, reusable code that is used to perform a single, related action.\n",
    "- As you already know, Python gives us many built-in functions such as print(), but we can also create our own functions. These functions are called user-defined functions\n",
    "\n",
    "<h3 style=\"color:black\">Defining a function</h3>\n",
    "\n",
    "You can define functions to provide the required functionality. Here are simple rules to define a function in Python.\n",
    "- Function blocks begin with the keyword def followed by the function name and parentheses ( ( ) ).\n",
    "- Any input parameters or arguments should be placed within these parentheses. You can also define parameters inside these parentheses.\n",
    "- The first statement of a function can be an optional statement - the documentation string of the function or docstring.\n",
    "- The code block within every function starts with a colon (:) and is indented.\n",
    "- The statement return [expression] exits a function, optionally passing back an expression to the caller. A return statement with no arguments is the same as return None.\n",
    "\n",
    "```python\n",
    "def functionname( parameters ):\n",
    "\"function_docstring\"\n",
    "function_suite\n",
    "return [expression]\n",
    "```\n",
    "\n",
    "Examples:\n"
   ]
  },
  {
   "cell_type": "code",
   "execution_count": null,
   "metadata": {},
   "outputs": [],
   "source": []
  },
  {
   "cell_type": "markdown",
   "metadata": {},
   "source": [
    "<h3 style=\"color:black\">Calling a Function</h3>\n",
    "\n",
    "- Defining a function only gives it a name, specifies the parameters that are to be included in the function and structures the blocks of code.\n",
    "- Once the basic structure of a function is finalized, you can execute it by calling it from another function or directly from the Python prompt. Following is the example to call printme() function:\n"
   ]
  },
  {
   "cell_type": "markdown",
   "metadata": {},
   "source": [
    "<h3 style=\"color:black\">Function Arguments </h3>\n",
    "\n",
    "You can call a function by using the following types of formal arguments:\n",
    "- Required arguments\n",
    "- Keyword arguments\n",
    "- Default arguments\n",
    "- Variable-length arguments\n",
    "\n",
    "<h3 style=\"color:black\">Required Arguments </h3>\n",
    "\n",
    "- Required arguments are the arguments passed to a function in correct positional order. Here, the number of arguments in the function call should match exactly with the function definition.\n",
    "\n",
    "Example : "
   ]
  },
  {
   "cell_type": "code",
   "execution_count": null,
   "metadata": {},
   "outputs": [],
   "source": [
    "# Function definition is here\n",
    "\n",
    "def printme( str ):\n",
    "    \"This prints a passed string into this function\"\n",
    "    print(str)\n",
    "    return\n",
    "\n",
    "# Now you can call printme function\n",
    "\n",
    "printme(\"CIVEAIWorkshop2019\")"
   ]
  },
  {
   "cell_type": "markdown",
   "metadata": {},
   "source": [
    "<h3 style=\"color:black\">Keyword Arguments </h3>\n",
    "\n",
    "- Keyword arguments are related to the function calls. When you use keyword arguments in a function call, the caller identifies the arguments by the parameter name.\n",
    "\n",
    "- This allows you to skip arguments or place them out of order because the Python interpreter is able to use the keywords provided to match the values with parameters.\n",
    "\n",
    "Example:-"
   ]
  },
  {
   "cell_type": "code",
   "execution_count": null,
   "metadata": {},
   "outputs": [],
   "source": [
    "# Function definition is here\n",
    "\n",
    "def printme( str ):\n",
    "    \"This prints a passed string into this function\"\n",
    "    print(str)\n",
    "    return;\n",
    "# Now you can call printme function\n",
    "\n",
    "printme( str = \"My string\")"
   ]
  },
  {
   "cell_type": "code",
   "execution_count": null,
   "metadata": {},
   "outputs": [],
   "source": [
    "# Function definition is here\n",
    "def printinfo( name, age ):\n",
    "    \"This prints a passed info into this function\"\n",
    "    print(\"Name: \", name)\n",
    "    print(\"Age \", age)\n",
    "    return\n",
    "# Now you can call printinfo function\n",
    "printinfo( age=50, name=\"miki\" )"
   ]
  },
  {
   "cell_type": "markdown",
   "metadata": {},
   "source": [
    "<h3 style=\"color:black\">Default Arguments </h3>\n",
    "\n",
    "- A default argument is an argument that assumes a default value if a value is not provided in the function call for that argument.\n",
    "\n",
    "Example:-"
   ]
  },
  {
   "cell_type": "code",
   "execution_count": null,
   "metadata": {},
   "outputs": [],
   "source": [
    "# Function definition is here\n",
    "\n",
    "def printinfo( name, age = 35 ):\n",
    "    \"This prints a passed info into this function\"\n",
    "    print(\"Name: \", name)\n",
    "    print(\"Age \", age)\n",
    "    return\n",
    "\n",
    "# Now you can call printinfo function\n",
    "\n",
    "printinfo( age=50, name=\"miki\" )\n",
    "\n",
    "printinfo( name=\"miki\" )"
   ]
  },
  {
   "cell_type": "markdown",
   "metadata": {},
   "source": [
    "<h2 style=\"color:black\">The return Statement </h2>\n",
    "\n",
    "- The statement return [expression] exits a function, optionally passing back an expression to the caller. A return statement with no arguments is the same as return None.\n",
    "\n",
    "Example:-"
   ]
  },
  {
   "cell_type": "code",
   "execution_count": null,
   "metadata": {},
   "outputs": [],
   "source": [
    "# Function definition is here\n",
    "def sum( arg1, arg2 ):\n",
    "# Add both the parameters and return them.\"\n",
    "    total = arg1 + arg2\n",
    "    print(\"Inside the function : \", total)\n",
    "    return total\n",
    "\n",
    "   # Now you can call sum function\n",
    "    \n",
    "total = sum( 10, 20 )\n",
    "\n",
    "print(\"Outside the function : \", total)"
   ]
  },
  {
   "cell_type": "markdown",
   "metadata": {},
   "source": [
    "<h3 style=\"color:black\">Scope of Variable </h3>\n",
    "\n",
    "All variables in a program may not be accessible at all locations in that program. This depends on where you have declared a variable.\n",
    "\n",
    "The scope of a variable determines the portion of the program where you can access a particular identifier. There are two basic scopes of variables in Python:\n",
    "- Global variables\n",
    "- Local variables\n",
    "\n",
    "<h3 style=\"color:black\">Global Vs. Local Variables </h3>\n",
    "\n",
    "- Variables that are defined inside a function body have a local scope, and those defined outside have a global scope.\n",
    "- This means that local variables can be accessed only inside the function in which they are declared, whereas global variables can be accessed throughout the program body by all functions. \n",
    "- When you call a function, the variables declared inside it are brought into scope. \n",
    "\n",
    "Example:-"
   ]
  },
  {
   "cell_type": "code",
   "execution_count": null,
   "metadata": {},
   "outputs": [],
   "source": [
    "total = 0 # This is global variable.\n",
    "# Function definition is here\n",
    "def sum( arg1, arg2 ):\n",
    "# Add both the parameters and return them.\"\n",
    "    total = arg1 + arg2 # Here total is local variable.\n",
    "    print(\"Inside the function local total : \", total)\n",
    "    return total\n",
    "# Now you can call sum function\n",
    "sum( 10, 20 )\n",
    "\n",
    "print(\"Outside the function global total : \", total)"
   ]
  },
  {
   "cell_type": "markdown",
   "metadata": {},
   "source": [
    "<h1 align=\"center\" style=\"color:green;\">OBJECT ORIENTED CENCEPTS IN PYTHON</h1>\n",
    "\n",
    "- Object oriented programming is a very popular paradigm of programming, where objetcs are created using classes, which are actually the focal point of OOP\n",
    "- The class describes what the object will be, but is separate from the object itself.\n",
    "- In other words, a class can be described as an object's blueprint, description, or definition. The same class as blueprint can be used for creating multiple objetcs.\n",
    "\n",
    "<h3 style=\"color:black\">Overview of OOP Terminologies </h3>\n",
    "\n",
    "- Class\n",
    "- Object\n",
    "- Attribute\n",
    "- Method\n",
    "- Constructor\n",
    "- Inheritance\n",
    "- Polymorphism"
   ]
  },
  {
   "cell_type": "code",
   "execution_count": null,
   "metadata": {},
   "outputs": [],
   "source": []
  },
  {
   "cell_type": "markdown",
   "metadata": {},
   "source": [
    "<h3 style=\"color:black\">Creating Classes </h3>\n",
    "\n",
    "Classes are created using the keyword **class** and an indented block, which contains class methods(which are functions)\n",
    "\n",
    "Below is an example of a simple class and its object\n"
   ]
  },
  {
   "cell_type": "code",
   "execution_count": null,
   "metadata": {},
   "outputs": [],
   "source": [
    "class Cat:\n",
    "    def __init__(self,color,legs):\n",
    "        self.color=color\n",
    "        self.legs=legs\n",
    "        \n",
    "felix=Cat(\"ginger\",4)\n",
    "rover=Cat(\"dog-colored\",4)\n",
    "print(\"felix color : \",felix.color)"
   ]
  },
  {
   "cell_type": "markdown",
   "metadata": {},
   "source": [
    "- The first method __init__() is a special method, which is called class constructor or initialization method that Python calls when you create a new instance of this class.\n",
    "-  You declare other class methods like normal functions with the exception that the first argument to each method is self. Python adds the self argument to the list for you; you do not need to include it when you call the methods."
   ]
  },
  {
   "cell_type": "code",
   "execution_count": null,
   "metadata": {},
   "outputs": [],
   "source": [
    "class Cat:\n",
    "    def __init__(self,color,legs):\n",
    "        self.color=color\n",
    "        self.legs=legs\n",
    "        \n",
    "#instance objects        \n",
    "felix=Cat(\"ginger\",4)\n",
    "rover=Cat(\"dog-colored\",4)\n",
    "\n",
    "print(\"felix color : \",rover.color)"
   ]
  },
  {
   "cell_type": "markdown",
   "metadata": {},
   "source": [
    "<h2 style=\"color:black\">Accessing Attributes </h2>\n",
    "\n",
    "You access the object's attributes using the dot operator with object. Class variable would be accessed using class name as follows:"
   ]
  },
  {
   "cell_type": "code",
   "execution_count": null,
   "metadata": {},
   "outputs": [],
   "source": [
    "class Cat:\n",
    "    def __init__(self,color,legs):\n",
    "        self.color=color\n",
    "        self.legs=legs \n",
    "        \n",
    "felix=Cat(\"ginger\",4)\n",
    "rover=Cat(\"dog-colored\",4)\n",
    "\n",
    "#accessing attributes \n",
    "print(\"felix color : \",rover.color)\n",
    "print(\"felix color : \",felix.color)"
   ]
  },
  {
   "cell_type": "markdown",
   "metadata": {},
   "source": [
    "Instead of using the normal statements to access attributes, you can use the following functions:\n",
    "- The **getattr(obj, name[, default])** : to access the attribute of object.\n",
    "- The **hasattr(obj,name)** : to check if an attribute exists or not.\n",
    "- The **setattr(obj,name,value)** : to set an attribute. If attribute does not exist, then it would be created.\n",
    "- The **delattr(obj, name)** : to delete an attribute."
   ]
  },
  {
   "cell_type": "markdown",
   "metadata": {},
   "source": [
    "<h2 style=\"color:red\">4.5.Class Inheritance</h2>\n",
    "\n",
    "- Instead of starting from scratch, you can create a class by deriving it from a preexisting class by listing the parent class in parentheses after the new class name.\n",
    "- The child class inherits the attributes of its parent class, and you can use those attributes as if they were defined in the child class. \n",
    "- A child class can also override data members and methods from the parent.\n",
    "\n",
    "### Syntax \n",
    "\n",
    "- Derived classes are declared much like their parent class; however, a list of base classes to inherit from is given after the class name:\n",
    "\n",
    "```python\n",
    "class SubClassName (ParentClass1[, ParentClass2, ...]):\n",
    "'Optional class documentation string'\n",
    "class_suite\n",
    "```"
   ]
  },
  {
   "cell_type": "code",
   "execution_count": null,
   "metadata": {},
   "outputs": [],
   "source": [
    "class Animal:\n",
    "    def __init__(self,name,color):\n",
    "        self.name=name\n",
    "        self.color=color\n",
    "\n",
    "class Cat(Animal):\n",
    "    \n",
    "    def purr(self):\n",
    "        print(\"Purr...\")\n",
    "        \n",
    "class Dog(Animal):\n",
    "    def bark(self):\n",
    "        print(\"Woof\")\n",
    "        \n",
    "fido=Dog(\"Fido\",\"Brown\")\n",
    "print(fido.color)\n",
    "fido.bark()"
   ]
  },
  {
   "cell_type": "markdown",
   "metadata": {},
   "source": [
    "<h3 style=\"color:red\">Overriding Methods</h3>\n",
    "\n",
    "You can always override your parent class methods. One reason for overriding parent's methods is because you may want special or different functionality in your subclass."
   ]
  },
  {
   "cell_type": "code",
   "execution_count": null,
   "metadata": {},
   "outputs": [],
   "source": [
    "class Animal:\n",
    "    def __init__(self,name,color):\n",
    "        self.name=name\n",
    "        self.color=color\n",
    "    def eat(self):\n",
    "        print(\"Animals eat\")\n",
    "        \n",
    "class Cat(Animal):\n",
    "    \n",
    "    def purr(self):\n",
    "        print(\"Purr...\")\n",
    "        \n",
    "class Dog(Animal):\n",
    "    def bark(self):\n",
    "        print(\"Woof\")\n",
    "        \n",
    "    def eat(self):#overriding\n",
    "        print(\"I like eating meat\")\n",
    "        \n",
    "fido=Dog(\"Fido\",\"Brown\")\n",
    "print(fido.color)\n",
    "fido.bark()\n",
    "fido.eat()"
   ]
  },
  {
   "cell_type": "code",
   "execution_count": null,
   "metadata": {},
   "outputs": [],
   "source": []
  }
 ],
 "metadata": {
  "hide_input": false,
  "kernelspec": {
   "display_name": "Python 3",
   "language": "python",
   "name": "python3"
  },
  "language_info": {
   "codemirror_mode": {
    "name": "ipython",
    "version": 3
   },
   "file_extension": ".py",
   "mimetype": "text/x-python",
   "name": "python",
   "nbconvert_exporter": "python",
   "pygments_lexer": "ipython3",
   "version": "3.8.5"
  },
  "toc": {
   "base_numbering": 1,
   "nav_menu": {},
   "number_sections": true,
   "sideBar": true,
   "skip_h1_title": false,
   "title_cell": "Table of Contents",
   "title_sidebar": "Contents",
   "toc_cell": false,
   "toc_position": {},
   "toc_section_display": true,
   "toc_window_display": false
  },
  "varInspector": {
   "cols": {
    "lenName": 16,
    "lenType": 16,
    "lenVar": 40
   },
   "kernels_config": {
    "python": {
     "delete_cmd_postfix": "",
     "delete_cmd_prefix": "del ",
     "library": "var_list.py",
     "varRefreshCmd": "print(var_dic_list())"
    },
    "r": {
     "delete_cmd_postfix": ") ",
     "delete_cmd_prefix": "rm(",
     "library": "var_list.r",
     "varRefreshCmd": "cat(var_dic_list()) "
    }
   },
   "types_to_exclude": [
    "module",
    "function",
    "builtin_function_or_method",
    "instance",
    "_Feature"
   ],
   "window_display": false
  }
 },
 "nbformat": 4,
 "nbformat_minor": 2
}
