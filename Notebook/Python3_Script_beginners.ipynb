{
 "cells": [
  {
   "cell_type": "markdown",
   "id": "accomplished-objective",
   "metadata": {},
   "source": [
    "<div>\n",
    "    </div>\n",
    "        <h1 style=\"text-align:center;\">Barmaga.io</h1>\n",
    "<!--     <img src=\"../assets/gdg.png\" width=400px> -->\n",
    "<hr>\n",
    "<h3 align=\"center\">Zephania Reuben</h3><br>\n",
    "<h4 align=\"center\">April, 2020</h4><br>\n",
    "<h3 style=\"text-align:center;\">Part 1 - Python for Data Science and Machine Learning</h3>\n",
    "\n",
    "\n",
    "---"
   ]
  },
  {
   "cell_type": "markdown",
   "id": "super-finland",
   "metadata": {},
   "source": [
    "### Course Content\n",
    "- Introduction\n",
    "    - Jupyter Notebook\n",
    "    - Getting Started with Python\n",
    "    - Data Types & Variables\n",
    "    - Operators\n",
    "    - Flow Control\n",
    "    - Loops\n",
    "- Functions & Modules\n",
    "    - Defining Functions \n",
    "    - Calling Functions\n",
    "    - Function Arguements\n",
    "    - Return Statement\n",
    "    - Scope of Variable\n",
    "    - Modules and Packages\n",
    "- Data Structures\n",
    "    - List\n",
    "    - Tuple\n",
    "    - Dictionary\n",
    "    - Set\n",
    "- Object Oriented Programming in Python\n",
    "    - General OOP Concepts\n",
    "    - Inheritance\n",
    "    - Encapsulation\n",
    "    - Polymorphism\n"
   ]
  },
  {
   "cell_type": "markdown",
   "id": "indoor-witch",
   "metadata": {},
   "source": [
    "<h3 style=\"text-align:center\"> Introduction</h3>\n",
    "\n",
    "#### Jupyter Notebook\n",
    "- Open-source web application for interactive and exploratory computing. It allows to create and share documents that contain live code, equations, visualizations and explanatory text.We will work in **Jupyter notebooks** for all lab sessions. \n",
    "\n",
    "- It is a platform for Data Science at scale as it covers all the life-cycle of scientific ideas :ideas to publications.\n",
    "\n",
    "- A **notebook** is a collection of `cells`, that can contain different content\n",
    "\n",
    "##### Basics notebook commands\n",
    "- Create cell\n",
    "- Excute cell\n",
    "- Change kernel"
   ]
  },
  {
   "cell_type": "markdown",
   "id": "different-alexander",
   "metadata": {},
   "source": [
    "##### Code"
   ]
  },
  {
   "cell_type": "code",
   "execution_count": null,
   "id": "reasonable-warrior",
   "metadata": {},
   "outputs": [],
   "source": []
  },
  {
   "cell_type": "code",
   "execution_count": 1,
   "id": "plastic-assets",
   "metadata": {
    "scrolled": true
   },
   "outputs": [
    {
     "name": "stdout",
     "output_type": "stream",
     "text": [
      "Hello! Barmaga.io\n"
     ]
    }
   ],
   "source": [
    "print(\"Hello! Barmaga.io\")"
   ]
  },
  {
   "cell_type": "markdown",
   "id": "realistic-polls",
   "metadata": {},
   "source": [
    "Karibu"
   ]
  },
  {
   "cell_type": "markdown",
   "id": "sorted-recycling",
   "metadata": {},
   "source": [
    "##### Text : Markdown\n",
    "\n",
    "This is markdow text"
   ]
  },
  {
   "cell_type": "markdown",
   "id": "perceived-bulletin",
   "metadata": {},
   "source": [
    "##### Mathematical Equations : LaTex\n",
    "\n",
    "Sample Math Equation\n",
    "\n",
    "$$a^2x + bx + c = 0$$"
   ]
  },
  {
   "cell_type": "markdown",
   "id": "known-advisory",
   "metadata": {},
   "source": [
    "$$ \\sqrt{49} = 7 $$"
   ]
  },
  {
   "cell_type": "markdown",
   "id": "minus-baltimore",
   "metadata": {},
   "source": [
    "##### HTML , CSS and Bootstrap\n",
    "\n",
    "<div class=\"alert alert-danger\">\n",
    "    This is a Bootstrap danger alert\n",
    "</div>    \n",
    "\n",
    "<div class=\"alert alert-info\">\n",
    "    Refer to help for Jupyter Notebook short cuts\n",
    "</div>   "
   ]
  },
  {
   "cell_type": "markdown",
   "id": "lovely-customer",
   "metadata": {},
   "source": [
    "#### Getting Started with Python\n",
    "Python is a very popular open source general-purpose programming language.\n",
    "- Dynamically semantics (rather than statically typed like Java or C/C++)\n",
    "- Interpreted (rather than compiled like Java or C/C++)\n",
    "- Object Oriented.\n",
    "\n",
    "Why is Python such an effective tool in scientific research ?\n",
    "- Interoperability with Other Languages : You can use it in the shell on microtasks, or interactively, or in scripts, or build enterprise software with GUIs.\n",
    "-  “Batteries Included” + Third-Party Modules : Python has built-in libraries and third-party liabraies for nearly everything.\n",
    "- Simplicity & Dynamic Nature : You can run your Python code on any architecture.\n",
    "- Open ethos well-fit to science : Easy to reproduce results with python\n",
    "\n",
    "Why is Python such an effective tool for Data Science and Machine learning research\n",
    "- Very rich scientific computing libraries (numpy, matplotlib, pandas, scipy etc) and machine learning frameworks (Pytorch, Tensorflow, keras, mxnet,  etc)\n",
    "- All DS and ML tasks can be performed with Python :\n",
    " - accessing, collecting, cleaning, analysing, visualising data  modelling, evaluating models, integrating in prod, scaling etc.\n",
    " \n",
    " \n",
    "##### Python 2(Support Ended 2020) VS. Python 3\n",
    "\n",
    "Two major versions of Python in widespread use : Python 2.x\n",
    "and Python 3.x\n",
    "- Some features in Python 3 are not backward compatible\n",
    "with Python 2\n",
    "- Some Python 2 libraries have not been updated to work\n",
    "with Python 3\n",
    "- Bottom-line : there is no wrong choice, as long as all the libraries you need are supported by the version you choose but most of libararies are phasing out python 2.x.\n",
    "- In this workshop : Python3\n",
    "\n",
    "##### Python Installation\n",
    "\n",
    " - To install Python open a web browser go to this [link](https://www.python.org/downloads).\n",
    "   Run the downloaded file.\n",
    " - Just accept the default settings and wait until the install is finished.\n",
    " \n",
    "##### Python IDLE\n",
    "\n",
    "- IDLE is a simple integrated development environment (IDE) that comes with Python.\n",
    "  It’s a program that allows us to type in our programs and run them.\n",
    "  You can find IDLE in the Python 3.7 folder on your computer. \n",
    " \n",
    "- When is started , the IDLE starts up in the shell, which is an interactive window where we can type   in Python code and see the output in the same window. \n",
    "- Most of the time we will want to open up a new window and type the program in there."
   ]
  },
  {
   "cell_type": "markdown",
   "id": "ahead-jones",
   "metadata": {},
   "source": [
    "<h5 style=\"color:red;\">Basic Syntax</h5>\n",
    " \n",
    " Let us excute our first python program in different modes:\n",
    " \n",
    " **Interactive mode:**\n",
    "```python \n",
    " print(\"Hello, World\")\n",
    "``` \n",
    " **Script mode**\n",
    " \n",
    " Write a simple Python program in a script. Python files have extension ``.py``. Type the following source code in a ``test.py`` file:\n",
    "```python\n",
    " print(\"Hello,World\")\n",
    "```\n",
    "\n",
    "Example:-"
   ]
  },
  {
   "cell_type": "code",
   "execution_count": null,
   "id": "several-fraction",
   "metadata": {},
   "outputs": [],
   "source": [
    "print(\"Welcome Once Again\")"
   ]
  },
  {
   "cell_type": "markdown",
   "id": "metropolitan-batman",
   "metadata": {},
   "source": [
    "##### Python Identifiers/Variable names\n",
    "Rules for naming variables:-\n",
    "\n",
    "- Variable names can contain letters, numbers, and the underscore.\n",
    "- Variable names cannot contain spaces\n",
    "- Variable names cannot start with a number.\n",
    "- Case matters - for instance, temp and Temp are different.\n",
    "\n",
    "Example:-"
   ]
  },
  {
   "cell_type": "code",
   "execution_count": null,
   "id": "legendary-affairs",
   "metadata": {},
   "outputs": [],
   "source": [
    "name = \"Tujifunze\"\n",
    "gender = 'Ke'\n",
    "age = 18"
   ]
  },
  {
   "cell_type": "markdown",
   "id": "interracial-canal",
   "metadata": {},
   "source": [
    "##### Python keywords\n",
    "\n",
    "These are reserved words and you cannot use them as constant or variable or any other identifier names. All the Python keywords contain lowercase letters only.\n",
    "      \n",
    " ##### Keywords\n",
    " \n",
    "``and``  ``is`` ``not`` ``exec`` ``lambda``  ``for`` ``def`` ``if`` ``return`` ``del``  ``import`` ``try`` ``elif`` ``in`` ``print`` ``raise`` ``while`` ``else`` ``with`` ``except`` ``lambda`` ``yield`` ``assert`` ``finally`` ``or`` ``break`` ``pass`` ``class`` ``from`` ``continue`` ``global``\n",
    "\n",
    "\n",
    "##### Lines and Indentation\n",
    "\n",
    "- Python provides no braces to indicate blocks of code for class and function definitions or flow control. \n",
    "- Blocks of code are denoted by line indentation. \n",
    "- The number of spaces in the indentation is variable.\n",
    "- All statements within the block must be indented the same amount.\n",
    "\n",
    "Example:-"
   ]
  },
  {
   "cell_type": "code",
   "execution_count": null,
   "id": "orange-lecture",
   "metadata": {},
   "outputs": [],
   "source": [
    "if 3 >= 8:\n",
    "    print(\"Three is greater\")\n",
    "else:\n",
    "    print(\"Eight is greater\")"
   ]
  },
  {
   "cell_type": "markdown",
   "id": "electric-explosion",
   "metadata": {},
   "source": [
    "##### Quotation in Python\n",
    "\n",
    "- Python accepts single ``(')``, double ``(\")`` and triple ``(''' or \"\"\")`` quotes to denote string literals, as long as the same type of quote starts and ends the string. \n",
    "- The triple quotes are used to span the string across multiple lines.\n",
    "\n",
    "``Note`` : Triple quotes also can be used for multiline commenting or docstring\n",
    "\n",
    "Example:-"
   ]
  },
  {
   "cell_type": "code",
   "execution_count": null,
   "id": "clinical-briefing",
   "metadata": {},
   "outputs": [],
   "source": [
    "name3 = \"\"\"balath\"\"\"\n",
    "name3 = '''balath'''"
   ]
  },
  {
   "cell_type": "code",
   "execution_count": null,
   "id": "sharp-grave",
   "metadata": {},
   "outputs": [],
   "source": [
    "name1 = \"Juma\"\n",
    "name2= 'Jacob'\n",
    "name3 = \"\"\"John\"\"\"\n",
    "\n",
    "print(name3)"
   ]
  },
  {
   "cell_type": "markdown",
   "id": "broke-mauritius",
   "metadata": {},
   "source": [
    "##### Comments in Python\n",
    "- A hash sign ``(#)`` that is not inside a string literal begins a comment.\n",
    "- All characters after the ``#`` and up to the end of the physical line are part of the comment and the - Python interpreter ignores them.\n",
    "\n",
    "Example:-"
   ]
  },
  {
   "cell_type": "code",
   "execution_count": null,
   "id": "unable-teacher",
   "metadata": {},
   "outputs": [],
   "source": [
    "#this is a comment"
   ]
  },
  {
   "cell_type": "markdown",
   "id": "distant-brook",
   "metadata": {},
   "source": [
    "##### Printing\n",
    "- The ```print()``` function requires parenthesis around its arguments.\n",
    "- To print several things at once, separate them by commas. Python will automatically insert spaces between them. \n",
    "- Python will insert a space between each of the arguments of the print function.\n",
    "- There is an optional argument called ```sep```, short for separator, that we can use to change that space to something else. \n",
    "- For example, using ```sep='##'``` would separate the arguments by two pound signs.\n",
    "- The print function will automatically advance to the next line."
   ]
  },
  {
   "cell_type": "code",
   "execution_count": null,
   "id": "lesser-pierre",
   "metadata": {},
   "outputs": [],
   "source": [
    "print(\"Hello\",\"python\",sep=\"##\")"
   ]
  },
  {
   "cell_type": "markdown",
   "id": "colored-relative",
   "metadata": {},
   "source": [
    "#### Data Types\n",
    "\n",
    "- Variables are nothing but reserved memory locations to store values\n",
    "- Based on the data type of a variable, the interpreter allocates memory and decides what can be stored in the reserved memory.\n",
    "- Therefore, by assigning different data types to variables, you can store integers, decimals, or characters in these variables.\n",
    "\n",
    "##### Standard Data Types In Python\n",
    "Python has five standard data types:\n",
    "- Numbers\n",
    "- String\n",
    "- List\n",
    "- Tuple\n",
    "- Dictionary\n",
    "\n",
    "##### Python Numbers\n",
    "- Number data types store numeric values. Number objects are created when you assign a value to them.\n",
    "- Python supports four different numerical types:-\n",
    " - ``int`` (signed integers)\n",
    " - ``long`` (long integers, they can also be represented in octal and hexadecimal)\n",
    " - ``float`` (floating point real values)\n",
    " - ``complex`` (complex numbers)\n",
    " \n",
    " Example:-"
   ]
  },
  {
   "cell_type": "code",
   "execution_count": null,
   "id": "atlantic-minority",
   "metadata": {},
   "outputs": [],
   "source": [
    "n = 7+7j\n",
    "n.real"
   ]
  },
  {
   "cell_type": "code",
   "execution_count": null,
   "id": "cultural-terrorism",
   "metadata": {},
   "outputs": [],
   "source": [
    "n.imag"
   ]
  },
  {
   "cell_type": "markdown",
   "id": "downtown-shell",
   "metadata": {},
   "source": [
    "##### Python Strings\n",
    "\n",
    "- Strings in Python are identified as a contiguous set of characters represented in the quotation marks. \n",
    "- Python allows for either pairs of single or double quotes.\n",
    "- Subsets of strings can be taken using the slice operator ``([ ] and [:] )`` \n",
    "- The plus ``(+)`` sign is the string concatenation operator and the asterisk ``(*)`` is the repetition operator.\n",
    "\n",
    "Example:-"
   ]
  },
  {
   "cell_type": "code",
   "execution_count": null,
   "id": "stopped-zealand",
   "metadata": {},
   "outputs": [],
   "source": [
    "title = \"Barmaga.io\"*2\n",
    "title"
   ]
  },
  {
   "cell_type": "markdown",
   "id": "governmental-lease",
   "metadata": {},
   "source": [
    "##### Data Type Conversion\n",
    "\n",
    "- To convert between types, we simply use the type name as a function. \n",
    "- There are several built-in functions to perform conversion from one data type to another. \n",
    "- Example: ```int()```,```str()```.\n",
    "\n",
    "Example:-"
   ]
  },
  {
   "cell_type": "code",
   "execution_count": null,
   "id": "indie-phase",
   "metadata": {},
   "outputs": [],
   "source": [
    "num_str = '12'\n",
    "type(num_str)"
   ]
  },
  {
   "cell_type": "code",
   "execution_count": null,
   "id": "square-belle",
   "metadata": {},
   "outputs": [],
   "source": [
    "int(num_str)\n",
    "type(num_str)"
   ]
  },
  {
   "cell_type": "markdown",
   "id": "gorgeous-filter",
   "metadata": {},
   "source": [
    "##### Python Basic Operators\n",
    "\n",
    "- Arithmetic Operators\n",
    "- Comparison (Relational) Operators\n",
    "- Assignment Operators\n",
    "- Logical Operators\n",
    "- Membership Operators\n",
    "- Identity Operators\n",
    "\n",
    "Examples: - "
   ]
  },
  {
   "cell_type": "code",
   "execution_count": null,
   "id": "eight-registration",
   "metadata": {
    "scrolled": true
   },
   "outputs": [],
   "source": [
    "print(\"Sum of numbers : \",(18+10))"
   ]
  },
  {
   "cell_type": "code",
   "execution_count": null,
   "id": "introductory-priest",
   "metadata": {},
   "outputs": [],
   "source": [
    "i = 10\n",
    "h = 17\n",
    "if i != h:\n",
    "    print(\"Numbers are not equal\")\n",
    "else:\n",
    "    print(\"Numbers are equal\")"
   ]
  },
  {
   "cell_type": "code",
   "execution_count": null,
   "id": "special-qualification",
   "metadata": {},
   "outputs": [],
   "source": [
    "a=True\n",
    "b=True\n",
    "\n",
    "if a and b ==True:\n",
    "    print(\"Same values\")\n",
    "else:\n",
    "    print(\"Different values\")"
   ]
  },
  {
   "cell_type": "code",
   "execution_count": null,
   "id": "expired-showcase",
   "metadata": {},
   "outputs": [],
   "source": [
    "lang = 'Python'\n",
    "\n",
    "if 'P' in lang and 't' in lang:\n",
    "    print(\"Found\")\n",
    "else:\n",
    "    print(\"Not found\")"
   ]
  },
  {
   "cell_type": "markdown",
   "id": "apart-harvey",
   "metadata": {},
   "source": [
    "##### Decision Making\n",
    "- Decision making is anticipation of conditions occurring while execution of the program and specifying actions taken according to the conditions.\n",
    "- Decision structures evaluate multiple expressions which produce ```TRUE``` or ```FALSE``` as outcome.\n",
    "- Python programming language assumes any non-zero and non-null values as ```TRUE```, and if it is either zero or null, then it is assumed as ```FALSE``` value.\n",
    "\n",
    "- Python programming language provides following types of decision making statements. \n",
    "\n",
    "**Statement**              |        **Description**      \n",
    "---------------------------|------------------------------\n",
    "``if`` statements          | ``if`` statement consists of a boolean expression followed by one or more statements.\n",
    "**if**...**else** statements | ``if`` statement can be followed by an optional ``else`` statement, which executes when the boolean expression is FALSE.\n",
    "nested **if**  statements      | You can use one ``if`` or ``else if`` statement inside another ``if`` or ``else if`` statement(s). \n",
    "\n",
    "##### ``if`` statements\n",
    "\n",
    "The ``if`` statement contains a logical expression using which data is compared and a decision is made based on the result of the comparison.\n",
    "##### Syntax\n",
    "\n",
    "```python\n",
    "             if expression:\n",
    "             \n",
    "                statement(s)\n",
    "```    \n",
    "                \n",
    "If the boolean expression evaluates to ``TRUE``, then the block of statement(s) inside the if statement is executed. If boolean expression evaluates to ``FALSE``, then the first set of code after the end of the if statement(s) is executed.                \n",
    "\n",
    "Examples:-"
   ]
  },
  {
   "cell_type": "code",
   "execution_count": null,
   "id": "collected-smart",
   "metadata": {},
   "outputs": [],
   "source": [
    "var1 = 10\n",
    "if var1:\n",
    "    print(\"2 - Got a true expression value\")\n",
    "    print(var1)"
   ]
  },
  {
   "cell_type": "markdown",
   "id": "color-knowing",
   "metadata": {},
   "source": [
    "##### ``if...else`` statement\n",
    "\n",
    "An ``else`` statement can be combined with an ``if`` statement. An ``else`` statement contains the block of code that executes if the conditional expression in the ``if`` statement resolves to ``0`` or a ``FALSE`` value.\n",
    "\n",
    "The ``else`` statement is an optional statement and there could be at most only one ``else`` statement following ``if``.\n",
    "\n",
    "##### Syntax\n",
    "```python \n",
    "             if expression:\n",
    "        \n",
    "                statement(s) \n",
    "            \n",
    "            else:\n",
    "                \n",
    "                statement(s) \n",
    "```                \n",
    "Examples:-  "
   ]
  },
  {
   "cell_type": "code",
   "execution_count": null,
   "id": "concerned-organization",
   "metadata": {},
   "outputs": [],
   "source": [
    "var1 = 100\n",
    "\n",
    "if var1:\n",
    "    print(\"2 - Got a true expression value\")\n",
    "    print(var1)\n",
    "else:\n",
    "    print(\"2 - Got a false expression value\")\n",
    "    print(var1)"
   ]
  },
  {
   "cell_type": "markdown",
   "id": "worse-methodology",
   "metadata": {},
   "source": [
    "##### The ``elif`` Statement\n",
    "\n",
    "The ``elif`` statement allows you to check multiple expressions for TRUE and execute a block of code as soon as one of the conditions evaluates to ``TRUE``.\n",
    "\n",
    "Similar to the ``else``, the ``elif`` statement is optional. However, unlike ``else``, for which there can be at most one statement, there can be an arbitrary number of ``elif`` statements following an ``if``.\n",
    "\n",
    "##### Syntax \n",
    "```python\n",
    "    if expression1:\n",
    "                     \n",
    "         statement(s)\n",
    "                        \n",
    "    elif expression2:\n",
    "                     \n",
    "        statement(s)\n",
    "                        \n",
    "    else:\n",
    "                     \n",
    "        statement(s)\n",
    "```                        \n",
    "                    \n",
    "Example:-                    "
   ]
  },
  {
   "cell_type": "code",
   "execution_count": null,
   "id": "extended-payday",
   "metadata": {},
   "outputs": [],
   "source": [
    "var = 100\n",
    "if var == 200:\n",
    "    print(var)\n",
    "elif var == 150:\n",
    "    print(var)\n",
    "elif var == 100:\n",
    "    print(var)\n",
    "else:\n",
    "    print(var)"
   ]
  },
  {
   "cell_type": "markdown",
   "id": "advance-index",
   "metadata": {},
   "source": [
    "##### Nested ``if`` statements\n",
    "\n",
    "##### Syntax  \n",
    "\n",
    "```python\n",
    "   if expression:\n",
    "    \n",
    "      if innerExpression: \n",
    "        \n",
    "           statement(s) \n",
    "        \n",
    "      elif secInnerExp:\n",
    "            \n",
    "           statement(s)\n",
    "            \n",
    "      else:    \n",
    "                \n",
    "          statement(s) \n",
    "                \n",
    "    else:       \n",
    "                    \n",
    "        statement(s)                \n",
    "```\n",
    "Examples:-   "
   ]
  },
  {
   "cell_type": "code",
   "execution_count": null,
   "id": "expensive-chapel",
   "metadata": {},
   "outputs": [],
   "source": [
    "var = 100\n",
    "if var == 100:\n",
    "    if var + 100 == 200:\n",
    "        print(\"Pass\")\n",
    "    else:\n",
    "        print(\"Fail\")\n",
    "else:\n",
    "    print(var)"
   ]
  },
  {
   "cell_type": "markdown",
   "id": "conceptual-special",
   "metadata": {},
   "source": [
    "##### Loops\n",
    "\n",
    "- In general, statements are executed sequentially: The first statement in a function is executed first, followed by the second, and so on.\n",
    "- There may be a situation when you need to execute a block of code several number of times.\n",
    "- A loop statement allows us to execute a statement or group of statements multiple times.\n",
    "\n",
    "\n",
    "Python programming language provides following types of loops to handle looping requirements.\n",
    "\n",
    "**Loop Type**              |        **Description**      \n",
    "---------------------------|------------------------------\n",
    "``while`` loop             |  Repeats a statement or group of statements while a given condition is TRUE. It tests the condition before executing the loop body.\n",
    "``for`` loop               | Executes a sequence of statements multiple times and abbreviates the code that manages the loop variable.\n",
    "nested loop            | You can use one or more loop inside any another ``while``, for or ``do..while`` loop\n",
    "\n",
    "\n",
    "##### ``while`` loop\n",
    "\n",
    "A ``while`` loop statement in Python programming language repeatedly executes a target statement as long as a given condition is true.\n",
    "\n",
    "##### Syntax\n",
    "\n",
    "  The syntax of a while loop in Python programming language is:\n",
    "```python\n",
    "          while expression:\n",
    "          \n",
    "                statement(s)\n",
    "```    \n",
    "Example:-"
   ]
  },
  {
   "cell_type": "code",
   "execution_count": null,
   "id": "signed-catalyst",
   "metadata": {},
   "outputs": [],
   "source": [
    "count = 0\n",
    "while (count < 9):\n",
    "        print('The count is:', count)\n",
    "        count = count + 1 "
   ]
  },
  {
   "cell_type": "markdown",
   "id": "narrative-boulder",
   "metadata": {},
   "source": [
    "##### ``for`` Loop\n",
    "\n",
    "It has the ability to iterate over the items of any sequence, such as a list or a string\n",
    "\n",
    "###### Syntax\n",
    "```python\n",
    "         for iterating_var in sequence:\n",
    "         \n",
    "              statements(s)\n",
    "```    \n",
    "              \n",
    " If a sequence contains an expression list, it is evaluated first. Then, the first item in the sequence is assigned to the iterating variable ``iterating_var``. Next, the statements block is executed.\n",
    " \n",
    " Each item in the list is assigned to ``iterating_var``, and the statement(s) block is executed until the entire sequence is exhausted.     "
   ]
  },
  {
   "cell_type": "code",
   "execution_count": null,
   "id": "plastic-relay",
   "metadata": {},
   "outputs": [],
   "source": [
    "for letter in 'Python': # First Example\n",
    "      print('Current Letter :', letter)\n",
    "        \n",
    "#fruits = ['banana', 'apple', 'mango']\n",
    "\n",
    "#for fruit in fruits: # Second Example\n",
    "    #   print 'Current fruit :', fruit"
   ]
  },
  {
   "cell_type": "markdown",
   "id": "humanitarian-forge",
   "metadata": {},
   "source": [
    "##### Using ``else`` Statement with Loops\n",
    "\n",
    "Python supports to have an else statement associated with a loop statement.\n",
    "- If the ``else`` statement is used with a ``for`` loop, the ``else`` statement is executed when the loop has exhausted iterating the list.\n",
    "\n",
    "- If the ``else`` statement is used with a ``while`` loop, the ``else`` statement is executed when the condition becomes false.\n",
    "\n",
    "Examples:-"
   ]
  },
  {
   "cell_type": "markdown",
   "id": "fatty-sigma",
   "metadata": {},
   "source": [
    "##### Nested Loops\n",
    "\n",
    "Python programming language allows to use one loop inside another loop. Following section shows few examples to illustrate the concept.\n",
    "\n",
    "##### Syntax nested ``for``\n",
    "\n",
    "```python\n",
    "for iterating_var in sequence:\n",
    "    for iterating_var in sequence:\n",
    "        statements(s)\n",
    "    statements(s)\n",
    "\n",
    "```\n",
    "\n",
    "##### Syntax nested *while*\n",
    "\n",
    "```python\n",
    "while expression:\n",
    "      while expression:\n",
    "            statement(s)\n",
    "      statement(s)\n",
    "```\n",
    "\n",
    "A final note on loop nesting is that you can put any type of loop inside of any other type of loop\n",
    "\n",
    "Example:-"
   ]
  },
  {
   "cell_type": "code",
   "execution_count": null,
   "id": "conditional-oklahoma",
   "metadata": {},
   "outputs": [],
   "source": []
  },
  {
   "cell_type": "markdown",
   "id": "electronic-valve",
   "metadata": {},
   "source": [
    "##### Loop Control Statements\n",
    "\n",
    "Loop control statements change execution from its normal sequence. When execution leaves a scope, all automatic objects that were created in that scope are destroyed.\n",
    "Python supports the following control statements.\n",
    "\n",
    "Control statement             | Description\n",
    "------------------------------|----------------\n",
    "**continue**        | Causes the loop to skip the remainder of its body and immediately retest its condition prior to reiterating.\n",
    "**break**                     | Terminates the loop statement and transfers execution to the statement immediately following the loop.\n",
    "**pass**                      | The pass statement in Python is used when a statement is required syntactically but you do not want any command or code to execute.\n",
    "\n",
    "\n",
    "##### break statement\n",
    "\n",
    "It terminates the current loop and resumes execution at the next statement.\n",
    "\n",
    "The most common use for break is when some external condition is triggered requiring a hasty exit from a loop. The break statement can be used in both ***while*** and ***for*** loops.\n",
    "\n",
    "If you are using nested loops, the **break** statement stops the execution of the innermost loop and start executing the next line of code after the block.\n",
    "\n",
    "Examples:-"
   ]
  },
  {
   "cell_type": "code",
   "execution_count": null,
   "id": "unlimited-incident",
   "metadata": {},
   "outputs": [],
   "source": [
    "for letter in 'Python': # First Example\n",
    "    if letter == 'h':\n",
    "        break\n",
    "    print('Current Letter :', letter)"
   ]
  },
  {
   "cell_type": "markdown",
   "id": "breeding-history",
   "metadata": {},
   "source": [
    "##### ``continue`` statement\n",
    "\n",
    "It returns the control to the beginning of the while loop. The continue statement rejects all the remaining statements in the current iteration of the loop and moves the control back to the top of the loop.\n",
    "\n",
    "The **continue** statement can be used in both ***while*** and ***for*** loops.\n",
    "\n",
    "Examples:-"
   ]
  },
  {
   "cell_type": "code",
   "execution_count": null,
   "id": "efficient-agreement",
   "metadata": {},
   "outputs": [],
   "source": [
    "for letter in 'Python': # First Example\n",
    "    if letter == 'h':\n",
    "        continue\n",
    "    print('Current Letter :', letter)"
   ]
  },
  {
   "cell_type": "markdown",
   "id": "designed-wisdom",
   "metadata": {},
   "source": [
    "##### pass statement\n",
    "\n",
    "It is used when a statement is required syntactically but you do not want any command or code to execute\n",
    "\n",
    "The **pass** statement is a null operation; nothing happens when it executes. The pass is also useful in places where your code will eventually go, but has not been written yet:\n",
    "\n",
    "Examples:-"
   ]
  },
  {
   "cell_type": "code",
   "execution_count": null,
   "id": "unlike-amazon",
   "metadata": {},
   "outputs": [],
   "source": [
    "for letter in 'Python':\n",
    "    if letter == 'h':\n",
    "        pass\n",
    "        print('This is pass block')\n",
    "    print('Current Letter :', letter)"
   ]
  },
  {
   "cell_type": "markdown",
   "id": "adolescent-cisco",
   "metadata": {},
   "source": [
    "<h3 style=\"color:green\" align=\"center\">Functions and Modules</h3>\n",
    "- A function is a block of organized, reusable code that is used to perform a single, related action.\n",
    "- As you already know, Python gives us many built-in functions such as print(), but we can also create our own functions. These functions are called user-defined functions\n",
    "\n",
    "<h5 style=\"color:black\">Defining a function</h5>\n",
    "\n",
    "You can define functions to provide the required functionality. Here are simple rules to define a function in Python.\n",
    "- Function blocks begin with the keyword def followed by the function name and parentheses ( ( ) ).\n",
    "- Any input parameters or arguments should be placed within these parentheses. You can also define parameters inside these parentheses.\n",
    "- The first statement of a function can be an optional statement - the documentation string of the function or docstring.\n",
    "- The code block within every function starts with a colon (:) and is indented.\n",
    "- The statement return [expression] exits a function, optionally passing back an expression to the caller. A return statement with no arguments is the same as return None.\n",
    "\n",
    "```python\n",
    "def function_name( parameters ):\n",
    "\"function_docstring\"\n",
    "function_suite\n",
    "return [expression]\n",
    "```\n",
    "\n",
    "Examples:\n"
   ]
  },
  {
   "cell_type": "code",
   "execution_count": null,
   "id": "banned-comfort",
   "metadata": {},
   "outputs": [],
   "source": []
  },
  {
   "cell_type": "markdown",
   "id": "every-valve",
   "metadata": {},
   "source": [
    "<h5 style=\"color:black\">Calling a Function</h5>\n",
    "\n",
    "- Defining a function only gives it a name, specifies the parameters that are to be included in the function and structures the blocks of code.\n",
    "- Once the basic structure of a function is finalized, you can execute it by calling it from another function or directly from the Python prompt. Following is the example to call normalize() function:"
   ]
  },
  {
   "cell_type": "code",
   "execution_count": null,
   "id": "elegant-wesley",
   "metadata": {},
   "outputs": [],
   "source": [
    "def normalize(data=None, mean=None, std=None):\n",
    "    '''\n",
    "    Normalization function\n",
    "    arguments:\n",
    "             data: the data value you want to normalize\n",
    "             mean: mean value of your data\n",
    "             std: standard deviation of your data\n",
    "    return:\n",
    "          z-score: normalized value   \n",
    "    '''\n",
    "    \n",
    "    return (data - mean)/ std"
   ]
  },
  {
   "cell_type": "code",
   "execution_count": null,
   "id": "israeli-jenny",
   "metadata": {},
   "outputs": [],
   "source": [
    "result = normalize(data=27.8, mean=18, std=6)\n",
    "print(\"Normalized value is {:.2f}\".format(result))"
   ]
  },
  {
   "cell_type": "markdown",
   "id": "medieval-jones",
   "metadata": {},
   "source": [
    "<h5 style=\"color:black\">Function Arguments </h5>\n",
    "\n",
    "You can call a function by using the following types of formal arguments:\n",
    "- Required arguments\n",
    "- Keyword arguments\n",
    "- Default arguments\n",
    "- Variable-length arguments\n",
    "\n",
    "<h5 style=\"color:black\">Required Arguments </h5>\n",
    "\n",
    "- Required arguments are the arguments passed to a function in correct positional order. Here, the number of arguments in the function call should match exactly with the function definition.\n",
    "\n",
    "Example : "
   ]
  },
  {
   "cell_type": "code",
   "execution_count": null,
   "id": "norman-endorsement",
   "metadata": {},
   "outputs": [],
   "source": [
    "# Function definition is here\n",
    "\n",
    "def printme( str ):\n",
    "    \"This prints a passed string into this function\"\n",
    "    print(str)\n",
    "    return\n",
    "\n",
    "# Now you can call printme function\n",
    "\n",
    "printme(\"Nyala.dev\")"
   ]
  },
  {
   "cell_type": "markdown",
   "id": "respiratory-franklin",
   "metadata": {},
   "source": [
    "<h5 style=\"color:black\">Keyword Arguments </h5>\n",
    "\n",
    "- Keyword arguments are related to the function calls. When you use keyword arguments in a function call, the caller identifies the arguments by the parameter name.\n",
    "\n",
    "- This allows you to skip arguments or place them out of order because the Python interpreter is able to use the keywords provided to match the values with parameters.\n",
    "\n",
    "Example:-"
   ]
  },
  {
   "cell_type": "code",
   "execution_count": null,
   "id": "figured-advertising",
   "metadata": {},
   "outputs": [],
   "source": [
    "# Function definition is here\n",
    "\n",
    "def printme( str ):\n",
    "    \"This prints a passed string into this function\"\n",
    "    print(str)\n",
    "    return;\n",
    "# Now you can call printme function\n",
    "\n",
    "printme( str = \"My string\")"
   ]
  },
  {
   "cell_type": "code",
   "execution_count": null,
   "id": "considered-regression",
   "metadata": {},
   "outputs": [],
   "source": [
    "# Function definition is here\n",
    "def printinfo( name, age ):\n",
    "    \"This prints a passed info into this function\"\n",
    "    print(\"Name: \", name)\n",
    "    print(\"Age \", age)\n",
    "    return\n",
    "# Now you can call printinfo function\n",
    "printinfo( age=50, name=\"miki\" )"
   ]
  },
  {
   "cell_type": "markdown",
   "id": "logical-struggle",
   "metadata": {},
   "source": [
    "<h5 style=\"color:black\">Default Arguments </h5>\n",
    "\n",
    "- A default argument is an argument that assumes a default value if a value is not provided in the function call for that argument.\n",
    "\n",
    "Example:-"
   ]
  },
  {
   "cell_type": "code",
   "execution_count": null,
   "id": "independent-russian",
   "metadata": {},
   "outputs": [],
   "source": [
    "# Function definition is here\n",
    "\n",
    "def printinfo( name, age = 35 ):\n",
    "    \"This prints a passed info into this function\"\n",
    "    print(\"Name: \", name)\n",
    "    print(\"Age \", age)\n",
    "    return\n",
    "\n",
    "# Now you can call printinfo function\n",
    "\n",
    "printinfo( age=50, name=\"miki\" )\n",
    "\n",
    "printinfo( name=\"miki\" )"
   ]
  },
  {
   "cell_type": "markdown",
   "id": "touched-consumption",
   "metadata": {},
   "source": [
    "<h5 style=\"color:black\">The return Statement </h5>\n",
    "\n",
    "- The statement return [expression] exits a function, optionally passing back an expression to the caller. A return statement with no arguments is the same as return None.\n",
    "\n",
    "Example:-"
   ]
  },
  {
   "cell_type": "code",
   "execution_count": null,
   "id": "forbidden-necessity",
   "metadata": {},
   "outputs": [],
   "source": [
    "# Function definition is here\n",
    "def sum( arg1, arg2 ):\n",
    "# Add both the parameters and return them.\"\n",
    "    total = arg1 + arg2\n",
    "    print(\"Inside the function : \", total)\n",
    "    return total\n",
    "\n",
    "   # Now you can call sum function\n",
    "    \n",
    "total = sum( 10, 20 )\n",
    "\n",
    "print(\"Outside the function : \", total)"
   ]
  },
  {
   "cell_type": "markdown",
   "id": "victorian-registrar",
   "metadata": {},
   "source": [
    "<h5 style=\"color:black\">Scope of Variable </h5>\n",
    "\n",
    "All variables in a program may not be accessible at all locations in that program. This depends on where you have declared a variable.\n",
    "\n",
    "The scope of a variable determines the portion of the program where you can access a particular identifier. There are two basic scopes of variables in Python:\n",
    "- Global variables\n",
    "- Local variables\n",
    "\n",
    "<h5 style=\"color:black\">Global Vs. Local Variables </h5>\n",
    "\n",
    "- Variables that are defined inside a function body have a local scope, and those defined outside have a global scope.\n",
    "- This means that local variables can be accessed only inside the function in which they are declared, whereas global variables can be accessed throughout the program body by all functions. \n",
    "- When you call a function, the variables declared inside it are brought into scope. \n",
    "\n",
    "Example:-"
   ]
  },
  {
   "cell_type": "code",
   "execution_count": null,
   "id": "agricultural-howard",
   "metadata": {},
   "outputs": [],
   "source": [
    "total = 0 # This is global variable.\n",
    "# Function definition is here\n",
    "def sum( arg1, arg2 ):\n",
    "# Add both the parameters and return them.\"\n",
    "    total = arg1 + arg2 # Here total is local variable.\n",
    "    print(\"Inside the function local total : \", total)\n",
    "    return total\n",
    "# Now you can call sum function\n",
    "sum( 10, 20 )\n",
    "\n",
    "print(\"Outside the function global total : \", total)"
   ]
  },
  {
   "cell_type": "markdown",
   "id": "successful-imperial",
   "metadata": {},
   "source": [
    "##### Module\n",
    "\n",
    "Modules are organized units (written as files) which contain functions, statements and other definitions.\n",
    "\n",
    "* Any file ending in `.py` is treated as a module (e.g., `my_function.py`, which names and defines a function `my_function`)\n",
    "\n",
    "* Modules: own global names/functions so you can name things whatever you want there and not conflict with the names in other modules."
   ]
  },
  {
   "cell_type": "code",
   "execution_count": null,
   "id": "raised-ambassador",
   "metadata": {},
   "outputs": [],
   "source": [
    "%%writefile normalizer.py\n",
    "def normalize(data=None, mean=None, std=None):\n",
    "    '''\n",
    "    Normalization function\n",
    "    arguments:\n",
    "             data: the data value you want to normalize\n",
    "             mean: mean value of your data\n",
    "             std: standard deviation of your data\n",
    "    return:\n",
    "          z-score: normalized value   \n",
    "    '''\n",
    "    \n",
    "    return (data - mean)/ std"
   ]
  },
  {
   "cell_type": "markdown",
   "id": "cosmetic-sherman",
   "metadata": {},
   "source": [
    "##### Packages\n",
    "-  Packages are name-spaces which contain multiple packages and modules themselves. They are simply directories, but with a twist.\n",
    "- Each package in Python is a directory which MUST contain a special file called `__init__.py.` This file can be empty, and it indicates that the directory it contains is a Python package, so it can be imported the same way a module can be imported.\n",
    "\n",
    "##### To Import modules and packages \n",
    "\n",
    "Different options are available:\n",
    "\n",
    "``import package-name``\n",
    "\n",
    "- importing all functionalities as such\n",
    "\n",
    "``from package-name import specific function or method``\n",
    "\n",
    "- importing a specific function or subset of the package/module\n",
    "\n",
    "``from package-name import *``    \n",
    "\n",
    "- importing all definitions and actions of the package (sometimes better than option 1)\n",
    "\n",
    "`` import package-name as short-package-name ``\n",
    "\n",
    "- Very good way to keep a good insight in where you use what package"
   ]
  },
  {
   "cell_type": "code",
   "execution_count": null,
   "id": "interesting-shipping",
   "metadata": {},
   "outputs": [],
   "source": [
    "import normalizer as norm\n",
    "result = norm.normalize(data=27.8, mean=18, std=6)\n",
    "print(\"Normalized value is {:.2f}\".format(result))"
   ]
  },
  {
   "cell_type": "code",
   "execution_count": null,
   "id": "institutional-vocabulary",
   "metadata": {},
   "outputs": [],
   "source": [
    "#Alternatively\n",
    "from normalizer import normalize\n",
    "result = normalize(data=27.8, mean=18, std=6)\n",
    "print(\"Normalized value is {:.2f}\".format(result))"
   ]
  },
  {
   "cell_type": "markdown",
   "id": "modular-hardware",
   "metadata": {},
   "source": [
    "##### Import modules from another directory"
   ]
  },
  {
   "cell_type": "code",
   "execution_count": null,
   "id": "frozen-louis",
   "metadata": {},
   "outputs": [],
   "source": [
    "import sys\n",
    "sys.path.append('src/')\n",
    "import normalizer as norm \n",
    "result = norm.normalize(data=27.8, mean=18, std=6)\n",
    "print(\"Normalized value is {:.2f}\".format(result))"
   ]
  },
  {
   "cell_type": "markdown",
   "id": "sophisticated-pencil",
   "metadata": {},
   "source": [
    "<h3 align=\"center\" style=\"color:green;\">Data Structures</h3>\n",
    "\n",
    "\n",
    "<h5 style=\"color:red\">Lists </h5>\n",
    "\n",
    "- The list is a most versatile datatype available in Python which can be written as a list of comma-separated values (items) between square brackets. \n",
    "- Important thing about a list is that items in a list need not be of the same type.\n",
    "\n",
    "- Creating a list is as simple as putting different comma-separated values between square brackets.\n",
    "\n",
    "For example:"
   ]
  },
  {
   "cell_type": "code",
   "execution_count": null,
   "id": "outside-acquisition",
   "metadata": {},
   "outputs": [],
   "source": []
  },
  {
   "cell_type": "markdown",
   "id": "significant-pulse",
   "metadata": {},
   "source": [
    "##### Accessing Values in Lists\n",
    "\n",
    "To access values in lists, use the square brackets for slicing along with the index or indices to obtain value available at that index.\n",
    "\n",
    "For example:"
   ]
  },
  {
   "cell_type": "code",
   "execution_count": null,
   "id": "alien-isolation",
   "metadata": {},
   "outputs": [],
   "source": [
    "list1 = ['physics', 'chemistry', 1997, 2000]\n",
    "list2 = [1, 2, 3, 4, 5, 6, 7 ]\n",
    "\n",
    "print(\"list1[0]: \", list1[0])\n",
    "print(\"list2[1:5]: \", list2[1:5])"
   ]
  },
  {
   "cell_type": "markdown",
   "id": "attached-column",
   "metadata": {},
   "source": [
    "##### Basic List Operation\n",
    "\n",
    "Lists respond to the + and * operators much like strings; they mean concatenation and repetition here too, except that the result is a new list, not a string.\n",
    "\n",
    "**Python Expresion** | **results** |  **Description**\n",
    "--------|--------|-------------\n",
    "len([1,2,3])| 3  | Length\n",
    "[1,2,3]+[4,5,6] | [1,2,3,4,5,6] | concatination\n",
    "['AI']*4        | ['AI','AI','AI','AI'] | Repetition\n",
    "3 in [1,2,3]   | True  |   Membership\n",
    "for x in [1,2,3]: print(x) | 1 2 3 | Iteration\n",
    "\n",
    "##### Indexing and Slicing\n",
    "\n",
    "Because lists are sequences, indexing and slicing work the same way for lists as they do for strings.\n",
    "\n",
    "Assume the following input:\n",
    "\n",
    "```python\n",
    "L=['jump','run','go']\n",
    "```\n",
    "\n",
    "**Python** | **Results** | **Description**\n",
    "-------|---------|--------\n",
    "L[2]   |'jump'   | Offsets start at zero\n",
    "L[-2]  | 'run'  |Negative:count from the right\n",
    "L[1:]  | ['jump','run'] | Slicing fetches sections\n",
    "\n",
    "##### Built-inList Fuctions and Methods\n",
    "\n",
    "Python includes the following list functions\n",
    "\n",
    "**Function** | **Description**\n",
    "---------|-----------\n",
    "cmp(list1, list2) | Compares elements of both lists.\n",
    "len(list)    |  Gives the total length of the list.\n",
    "max(list)    | Returns item from the list with max value.\n",
    "min(list)    | Returns item from the list with min value.\n",
    "list(seq)    | Converts a tuple into list.\n",
    "\n",
    "\n",
    "Python includes the following list functions\n",
    "\n",
    "**Method** | **Description**\n",
    "---------|-----------\n",
    "list.append(obj) | Appends object obj to list\n",
    "list.count(obj) | Returns count of how many times obj occurs in list\n",
    "list.extend(seq) | Appends the contents of seq to list\n",
    "list.index(obj) | Returns the lowest index in list that obj appears\n",
    "list.insert(index, obj) | Inserts object obj into list at offset index\n",
    "list.pop(obj=list[-1]) | Removes and returns last object or obj from lis\n",
    "list.remove(obj) |  Removes object obj from list\n",
    "list.reverse() |  Reverses objects of list in place\n",
    "list.sort([func]) | Sorts objects of list, use compare func if given\\\n",
    "\n",
    "Examples:\n"
   ]
  },
  {
   "cell_type": "code",
   "execution_count": null,
   "id": "insured-vienna",
   "metadata": {},
   "outputs": [],
   "source": [
    "list = [\"one\",\"two\",\"three\"]\n",
    "\n",
    "list.append(\"four\")\n",
    "\n",
    "print(list)"
   ]
  },
  {
   "cell_type": "markdown",
   "id": "buried-scotland",
   "metadata": {},
   "source": [
    "<h5 style=\"color:red\"> Tuples</h5>\n",
    "- A tuple is a sequence of immutable Python objects. Tuples are sequences, just like lists. \n",
    "- The differences between tuples and lists are, the tuples cannot be changed unlike lists and tuples use **parentheses**, whereas lists use **square brackets**\n",
    "For example:\n",
    "\n",
    "```python\n",
    "tup1 = ('physics', 'chemistry', 1997, 2000);\n",
    "tup2 = (1, 2, 3, 4, 5 );\n",
    "tup3 = \"a\", \"b\", \"c\", \"d\";\n",
    "```\n",
    "##### Accessing Values in Tuples\n",
    "\n",
    "To access values in tuple, use the square brackets for slicing along with the index or indices to obtain value available at that index.\n",
    "\n",
    "For example:"
   ]
  },
  {
   "cell_type": "code",
   "execution_count": null,
   "id": "dated-breath",
   "metadata": {},
   "outputs": [],
   "source": [
    "tup1 = ('physics', 'chemistry', 1997, 2000)\n",
    "\n",
    "tup2 = (1, 2, 3, 4, 5, 6, 7 )\n",
    "\n",
    "print(\"tup1[0]: \",tup1[0])\n",
    "\n",
    "print(\"tup2[1:5]: \", tup2[1:5])"
   ]
  },
  {
   "cell_type": "markdown",
   "id": "valuable-freeware",
   "metadata": {},
   "source": [
    "##### Basic Tuple Operation\n",
    "\n",
    "Lists respond to the + and * operators much like strings; they mean concatenation and repetition here too, except that the result is a new list, not a string.\n",
    "\n",
    "**Python Expresion** | **results** |  **Description**\n",
    "--------|--------|-------------\n",
    "len((1,2,3))| 3  | Length\n",
    "(1,2,3)+(4,5,6) | (1,2,3,4,5,6) | concatination\n",
    "['AI']*4        | ('AI','AI','AI','AI') | Repetition\n",
    "3 in (1,2,3)   | True  |   Membership\n",
    "for x in (1,2,3): print(x) | 1 2 3 | Iteration\n",
    "\n",
    "##### Indexing and Slicing\n",
    "\n",
    "Because lists are sequences, indexing and slicing work the same way for lists as they do for strings.\n",
    "\n",
    "Assume the following input:\n",
    "\n",
    "```python\n",
    "T=('PHP','Python','ReactJS')\n",
    "```\n",
    "\n",
    "**Python** | **Results** | **Description**\n",
    "-------|---------|--------\n",
    "T[2]   |'PHP'   | Offsets start at zero\n",
    "T[-2]  | 'Python'  |Negative:count from the right\n",
    "T[1:]  | ['NodeJS','AngularJS'] | Slicing fetches sections\n",
    "\n",
    "\n",
    "##### Built-inList Fuctions\n",
    "\n",
    "Python includes the following list functions\n",
    "\n",
    "**Function** | **Description**\n",
    "---------|-----------\n",
    "cmp(tuple1, tuple2) | Compares elements of both lists.\n",
    "len(tuple)    |  Gives the total length of the list.\n",
    "max(tuple)    | Returns item from the list with max value.\n",
    "min(tuple)    | Returns item from the list with min value.\n",
    "tuple(seq)    | Converts a tuple into list.\n",
    "\n",
    "Example:"
   ]
  },
  {
   "cell_type": "code",
   "execution_count": null,
   "id": "graduate-evidence",
   "metadata": {},
   "outputs": [],
   "source": [
    "tuple = (\"Tomato\",\"Mango\",\"Orange\")\n",
    "\n",
    "print(tuple)"
   ]
  },
  {
   "cell_type": "markdown",
   "id": "bizarre-economics",
   "metadata": {},
   "source": [
    "<h5 style=\"color:red\">Dictionary</h5>\n",
    "\n",
    "- Dictionary this is a collection data type which have pairs of **keys** and **values**.\n",
    "\n",
    "- Each key is separated from its value by a colon (:), the items are separated by commas, and the whole thing is enclosed in curly braces.\n",
    "- An empty dictionary without any items is written with just two curly braces, like this: {}.\n",
    "- Keys are unique within a dictionary while values may not be. The values of a dictionary can be of any type, but the keys must be of an immutable data type such as strings, numbers, or tuples.\n",
    "\n",
    "Example \n",
    "\n",
    "```python\n",
    "dict ={'name':'Juma','Gender':'Male'}\n",
    "```\n",
    "\n",
    "#### Accessing Values in Dictionary\n",
    "\n",
    "To access dictionary elements, you can use the familiar square brackets along with the key to obtain its value.\n",
    "\n",
    "Example:"
   ]
  },
  {
   "cell_type": "code",
   "execution_count": null,
   "id": "previous-secretary",
   "metadata": {},
   "outputs": [],
   "source": [
    "dict = {'Name': 'Zara', 'Age': 7, 'Class': 'First'}\n",
    "\n",
    "print(\"dict['Name']: \", dict['Name'])\n",
    "\n",
    "print(\"dict['Age']: \", dict['Age'])"
   ]
  },
  {
   "cell_type": "markdown",
   "id": "hungarian-hollow",
   "metadata": {},
   "source": [
    "##### Built-in Dictionary Functions and Methods\n",
    "\n",
    "Python includes the following dictionary functions:\n",
    "\n",
    "\n",
    "**Function** | **Description**\n",
    "---------|-----------\n",
    "cmp(dict1, dict2) | Compares elements of both dict.\n",
    "len(dict) | Gives the total length of the dictionary. This would be equal to the number of items in the dictionary.\n",
    "str(dict) |  Produces a printable string representation of a dictionary\n",
    "type(variable) |Returns the type of the passed variable. If passed variable is dictionary, then it would return a dictionary type\n",
    "\n",
    "Python includes the following dictionary methods:\n",
    "\n",
    "**Method** | **Description**\n",
    "---------|-----------\n",
    "dict.clear() | Removes all elements of dictionary dict\n",
    "dict.copy() | Returns a shallow copy of dictionary dict\n",
    "dict.fromkeys() | Create a new dictionary with keys from seq and values set to value.\n",
    "dict.get(key, default=None) | For key key, returns value or default if key not in dictionary\n",
    "dict.has_key(key) | Returns true if key in dictionary dict, false otherwise\n",
    "dict.items() | Returns a list of dict's (key, value) tuple pairs\n",
    "dict.keys() | Returns list of dictionary dict's keys\n",
    "dict.setdefault(key, default=None) | Similar to get(), but will set dict[key]=default if key is not already in dict \n",
    "dict.update(dict2) | Adds dictionary dict2's key-values pairs to dict\n",
    "dict.values() | Returns list of dictionary dict's values\n",
    "\n",
    "Examples:"
   ]
  },
  {
   "cell_type": "code",
   "execution_count": null,
   "id": "everyday-trauma",
   "metadata": {},
   "outputs": [],
   "source": []
  },
  {
   "cell_type": "markdown",
   "id": "brilliant-darwin",
   "metadata": {},
   "source": [
    "##### Sets\n",
    "Python’s built-in set type has the following characteristics:\n",
    "\n",
    "- Sets are unordered.\n",
    "- Set elements are unique.\n",
    "- Duplicate elements are not allowed.\n",
    "- A set itself may be modified, but the elements contained in the set must be of an immutable type.\n",
    "\n",
    "##### Defining Set Syntax\n",
    "\n",
    "```python\n",
    "set1 = set(1,2,4)\n",
    "set2 = {8,4,5}\n",
    "```"
   ]
  },
  {
   "cell_type": "markdown",
   "id": "invisible-florist",
   "metadata": {},
   "source": [
    "##### Operations on sets with other sets"
   ]
  },
  {
   "cell_type": "code",
   "execution_count": null,
   "id": "dense-bumper",
   "metadata": {},
   "outputs": [],
   "source": [
    "# Intersection\n",
    "{1, 2, 3, 4, 5}.intersection({3, 4, 5, 6})\n",
    "{1, 2, 3, 4, 5} & {3, 4, 5, 6}"
   ]
  },
  {
   "cell_type": "code",
   "execution_count": null,
   "id": "ethical-aaron",
   "metadata": {},
   "outputs": [],
   "source": [
    "# Union\n",
    "{1, 2, 3, 4, 5}.union({3, 4, 5, 6})\n",
    "{1, 2, 3, 4, 5} | {3, 4, 5, 6}"
   ]
  },
  {
   "cell_type": "code",
   "execution_count": null,
   "id": "living-monthly",
   "metadata": {},
   "outputs": [],
   "source": [
    "# Difference\n",
    "{1, 2, 3, 4}.difference({2, 3, 5})\n",
    "{1, 2, 3, 4} - {2, 3, 5}"
   ]
  },
  {
   "cell_type": "code",
   "execution_count": null,
   "id": "affiliated-tanzania",
   "metadata": {},
   "outputs": [],
   "source": [
    "# Symmetric difference with\n",
    "{1, 2, 3, 4}.symmetric_difference({2, 3, 5})\n",
    "{1, 2, 3, 4} ^ {2, 3, 5}"
   ]
  },
  {
   "cell_type": "code",
   "execution_count": null,
   "id": "positive-savings",
   "metadata": {},
   "outputs": [],
   "source": [
    "# Superset check\n",
    "{1, 2}.issuperset({1, 2, 3})\n",
    "{1, 2} >= {1, 2, 3}"
   ]
  },
  {
   "cell_type": "code",
   "execution_count": null,
   "id": "premium-reggae",
   "metadata": {},
   "outputs": [],
   "source": [
    "# Subset check\n",
    "{1, 2}.issubset({1, 2, 3})\n",
    "{1, 2} <= {1, 2, 3}"
   ]
  },
  {
   "cell_type": "code",
   "execution_count": null,
   "id": "altered-worcester",
   "metadata": {
    "scrolled": true
   },
   "outputs": [],
   "source": [
    "# Disjoint check\n",
    "{1, 2}.isdisjoint({3, 4})\n",
    "{1, 2}.isdisjoint({1, 4})"
   ]
  },
  {
   "cell_type": "markdown",
   "id": "overall-courtesy",
   "metadata": {},
   "source": [
    "##### Operations on sets with single elements"
   ]
  },
  {
   "cell_type": "code",
   "execution_count": null,
   "id": "handled-jaguar",
   "metadata": {},
   "outputs": [],
   "source": [
    "#Existence check\n",
    "2 in {1,2,3}"
   ]
  },
  {
   "cell_type": "code",
   "execution_count": null,
   "id": "traditional-hello",
   "metadata": {},
   "outputs": [],
   "source": [
    "4 in {1,2,3}"
   ]
  },
  {
   "cell_type": "code",
   "execution_count": null,
   "id": "personalized-thunder",
   "metadata": {},
   "outputs": [],
   "source": [
    "4 not in {1,2,3}"
   ]
  },
  {
   "cell_type": "code",
   "execution_count": null,
   "id": "legal-paper",
   "metadata": {
    "scrolled": true
   },
   "outputs": [],
   "source": [
    "# Add and Remove\n",
    "s = {1,2,3}\n",
    "s.add(4)\n",
    "s"
   ]
  },
  {
   "cell_type": "code",
   "execution_count": null,
   "id": "rough-specialist",
   "metadata": {},
   "outputs": [],
   "source": [
    "s.discard(3)\n",
    "s.discard(5) \n",
    "s"
   ]
  },
  {
   "cell_type": "code",
   "execution_count": null,
   "id": "convinced-favor",
   "metadata": {
    "scrolled": true
   },
   "outputs": [],
   "source": [
    "s.remove(2)\n",
    "# s.remove(2)\n",
    "# s"
   ]
  },
  {
   "cell_type": "code",
   "execution_count": null,
   "id": "adverse-booking",
   "metadata": {},
   "outputs": [],
   "source": []
  },
  {
   "cell_type": "markdown",
   "id": "floppy-design",
   "metadata": {},
   "source": [
    "<h3 align=\"center\" style=\"color:green;\">Object Oriented Programming in Python</h3>\n",
    "\n",
    "- Object oriented programming is a very popular paradigm of programming, where objetcs are created using classes, which are actually the focal point of OOP\n",
    "- The class describes what the object will be, but is separate from the object itself.\n",
    "- In other words, a class can be described as an object's blueprint, description, or definition. The same class as blueprint can be used for creating multiple objetcs.\n",
    "\n",
    "The goals of OOP are:\n",
    "\n",
    "* to organize the code, and\n",
    "* to re-use code in similar contexts.\n",
    "\n",
    "\n",
    "<h5 style=\"color:black\">Overview of OOP Terminologies </h5>\n",
    "\n",
    "- Class\n",
    "- Object\n",
    "- Attribute\n",
    "- Method\n",
    "- Constructor\n",
    "- Inheritance\n",
    "- Polymorphism"
   ]
  },
  {
   "cell_type": "markdown",
   "id": "automated-health",
   "metadata": {},
   "source": [
    "<h5 style=\"color:black\">Creating Classes </h5>\n",
    "\n",
    "Classes are created using the keyword **class** and an indented block, which contains class methods(which are functions)\n",
    "\n",
    "Below is an example of a simple class and its object"
   ]
  },
  {
   "cell_type": "code",
   "execution_count": null,
   "id": "funded-lunch",
   "metadata": {},
   "outputs": [],
   "source": [
    "class Cat:\n",
    "    def __init__(self,color,legs):\n",
    "        self.color=color\n",
    "        self.legs=legs\n",
    "        \n",
    "felix=Cat(\"ginger\",4)\n",
    "rover=Cat(\"dog-colored\",4)\n",
    "print(\"felix color : \",felix.color)"
   ]
  },
  {
   "cell_type": "markdown",
   "id": "complex-cambodia",
   "metadata": {},
   "source": [
    "- The first method __init__() is a special method, which is called class constructor or initialization method that Python calls when you create a new instance of this class.\n",
    "-  You declare other class methods like normal functions with the exception that the first argument to each method is self. Python adds the self argument to the list for you; you do not need to include it when you call the methods."
   ]
  },
  {
   "cell_type": "code",
   "execution_count": null,
   "id": "finnish-athens",
   "metadata": {},
   "outputs": [],
   "source": [
    "class Cat:\n",
    "    def __init__(self,color,legs):\n",
    "        self.color=color\n",
    "        self.legs=legs\n",
    "        \n",
    "#instance objects        \n",
    "felix=Cat(\"ginger\",4)\n",
    "rover=Cat(\"dog-colored\",4)\n",
    "\n",
    "print(\"felix color : \",rover.color)"
   ]
  },
  {
   "cell_type": "markdown",
   "id": "raised-stand",
   "metadata": {},
   "source": [
    "<h5 style=\"color:black\">Accessing Attributes </h5>\n",
    "\n",
    "You access the object's attributes using the dot operator with object. Class variable would be accessed using class name as follows:"
   ]
  },
  {
   "cell_type": "code",
   "execution_count": null,
   "id": "trying-delhi",
   "metadata": {},
   "outputs": [],
   "source": [
    "class Cat:\n",
    "    def __init__(self,color,legs):\n",
    "        self.color=color\n",
    "        self.legs=legs \n",
    "        \n",
    "felix=Cat(\"ginger\",4)\n",
    "rover=Cat(\"dog-colored\",4)\n",
    "\n",
    "#accessing attributes \n",
    "print(\"felix color : \",rover.color)\n",
    "print(\"felix color : \",felix.color)"
   ]
  },
  {
   "cell_type": "markdown",
   "id": "statewide-times",
   "metadata": {},
   "source": [
    "Instead of using the normal statements to access attributes, you can use the following functions:\n",
    "- The ``getattr(obj, name[, default])`` : to access the attribute of object.\n",
    "- The ``hasattr(obj,name)`` : to check if an attribute exists or not.\n",
    "- The ``setattr(obj,name,value)`` : to set an attribute. If attribute does not exist, then it would be created.\n",
    "- The ``delattr(obj, name)`` : to delete an attribute."
   ]
  },
  {
   "cell_type": "markdown",
   "id": "powerful-money",
   "metadata": {},
   "source": [
    "<h5 style=\"color:red\">Class Inheritance</h5>\n",
    "\n",
    "- Instead of starting from scratch, you can create a class by deriving it from a preexisting class by listing the parent class in parentheses after the new class name.\n",
    "- The child class inherits the attributes of its parent class, and you can use those attributes as if they were defined in the child class. \n",
    "- A child class can also override data members and methods from the parent.\n",
    "\n",
    "##### Syntax \n",
    "\n",
    "- Derived classes are declared much like their parent class; however, a list of base classes to inherit from is given after the class name:\n",
    "\n",
    "```python\n",
    "class SubClassName (ParentClass1[, ParentClass2, ...]):\n",
    "'Optional class documentation string'\n",
    "class_suite\n",
    "```"
   ]
  },
  {
   "cell_type": "code",
   "execution_count": null,
   "id": "immune-usage",
   "metadata": {},
   "outputs": [],
   "source": [
    "class Animal:\n",
    "    def __init__(self,name,color):\n",
    "        self.name=name\n",
    "        self.color=color\n",
    "\n",
    "class Cat(Animal):\n",
    "    \n",
    "    def purr(self):\n",
    "        print(\"Purr...\")\n",
    "        \n",
    "class Dog(Animal):\n",
    "    def bark(self):\n",
    "        print(\"Woof\")\n",
    "        \n",
    "fido=Dog(\"Fido\",\"Brown\")\n",
    "print(fido.color)\n",
    "fido.bark()"
   ]
  },
  {
   "cell_type": "markdown",
   "id": "broadband-marina",
   "metadata": {},
   "source": [
    "<h5 style=\"color:red\">Overriding Methods</h5>\n",
    "\n",
    "- You can always override your parent class methods.\n",
    "- One reason for overriding parent's methods is because you may want special or different functionality in your subclass."
   ]
  },
  {
   "cell_type": "code",
   "execution_count": null,
   "id": "intimate-driving",
   "metadata": {},
   "outputs": [],
   "source": [
    "class Animal:\n",
    "    def __init__(self,name,color):\n",
    "        self.name=name\n",
    "        self.color=color\n",
    "    def eat(self):\n",
    "        print(\"Animals eat\")\n",
    "        \n",
    "class Cat(Animal):\n",
    "    \n",
    "    def purr(self):\n",
    "        print(\"Purr...\")\n",
    "        \n",
    "class Dog(Animal):\n",
    "    def bark(self):\n",
    "        print(\"Woof\")\n",
    "        \n",
    "    def eat(self):#overriding\n",
    "        print(\"I like eating meat\")\n",
    "        \n",
    "fido=Dog(\"Fido\",\"Brown\")\n",
    "print(fido.color)\n",
    "fido.bark()\n",
    "fido.eat()"
   ]
  }
 ],
 "metadata": {
  "kernelspec": {
   "display_name": "Python 3",
   "language": "python",
   "name": "python3"
  },
  "language_info": {
   "codemirror_mode": {
    "name": "ipython",
    "version": 3
   },
   "file_extension": ".py",
   "mimetype": "text/x-python",
   "name": "python",
   "nbconvert_exporter": "python",
   "pygments_lexer": "ipython3",
   "version": "3.8.5"
  }
 },
 "nbformat": 4,
 "nbformat_minor": 5
}
