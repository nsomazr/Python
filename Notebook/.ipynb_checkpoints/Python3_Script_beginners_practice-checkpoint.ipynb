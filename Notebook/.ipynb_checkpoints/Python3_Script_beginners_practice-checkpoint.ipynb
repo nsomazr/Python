{
 "cells": [
  {
   "cell_type": "markdown",
   "id": "accomplished-objective",
   "metadata": {},
   "source": [
    "<div>\n",
    "    </div>\n",
    "        <h1 style=\"text-align:center;\">Barmaga.io</h1>\n",
    "<!--     <img src=\"../assets/gdg.png\" width=400px> -->\n",
    "<hr>\n",
    "<h3 align=\"center\">Zephania Reuben</h3><br>\n",
    "<h4 align=\"center\">April, 2020</h4><br>\n",
    "<h3 style=\"text-align:center;\">Part 1 - Python for Data Science and Machine Learning</h3>\n",
    "\n",
    "\n",
    "---"
   ]
  },
  {
   "cell_type": "markdown",
   "id": "super-finland",
   "metadata": {},
   "source": [
    "### Course Content\n",
    "- Introduction\n",
    "    - Jupyter Notebook\n",
    "    - Getting Started with Python\n",
    "    - Data Types & Variables\n",
    "    - Operators\n",
    "    - Flow Control\n",
    "    - Loops\n",
    "- Functions & Modules\n",
    "    - Defining Functions \n",
    "    - Calling Functions\n",
    "    - Function Arguements\n",
    "    - Return Statement\n",
    "    - Scope of Variable\n",
    "    - Modules and Packages\n",
    "- Data Structures\n",
    "    - List\n",
    "    - Tuple\n",
    "    - Dictionary\n",
    "    - Set\n",
    "- Object Oriented Programming in Python\n",
    "    - General OOP Concepts\n",
    "    - Inheritance\n",
    "    - Encapsulation\n",
    "    - Polymorphism\n"
   ]
  },
  {
   "cell_type": "markdown",
   "id": "indoor-witch",
   "metadata": {},
   "source": [
    "<h3 style=\"text-align:center\"> Introduction</h3>\n",
    "\n",
    "#### Jupyter Notebook\n"
   ]
  },
  {
   "cell_type": "code",
   "execution_count": null,
   "id": "extensive-heading",
   "metadata": {},
   "outputs": [],
   "source": []
  },
  {
   "cell_type": "markdown",
   "id": "different-alexander",
   "metadata": {},
   "source": [
    "##### Code"
   ]
  },
  {
   "cell_type": "code",
   "execution_count": 3,
   "id": "fifth-simple",
   "metadata": {},
   "outputs": [
    {
     "name": "stdout",
     "output_type": "stream",
     "text": [
      "Barmaga.io\n"
     ]
    }
   ],
   "source": [
    "print(\"Barmaga.io\")"
   ]
  },
  {
   "cell_type": "code",
   "execution_count": null,
   "id": "reasonable-warrior",
   "metadata": {},
   "outputs": [],
   "source": []
  },
  {
   "cell_type": "markdown",
   "id": "sorted-recycling",
   "metadata": {},
   "source": [
    "##### Text : Markdown\n",
    "\n",
    "This is markdow text"
   ]
  },
  {
   "cell_type": "markdown",
   "id": "behind-reproduction",
   "metadata": {},
   "source": [
    "Karibu"
   ]
  },
  {
   "cell_type": "markdown",
   "id": "perceived-bulletin",
   "metadata": {},
   "source": [
    "##### Mathematical Equations : LaTex\n",
    "\n",
    "Sample Math Equation\n",
    "\n",
    "$$a^2x + bx + c = 0$$"
   ]
  },
  {
   "cell_type": "markdown",
   "id": "answering-exhaust",
   "metadata": {},
   "source": [
    " $$ \\sqrt{49} = 7$$ "
   ]
  },
  {
   "cell_type": "markdown",
   "id": "minus-baltimore",
   "metadata": {},
   "source": [
    "##### HTML , CSS and Bootstrap\n",
    "\n",
    "<div class=\"alert alert-danger\">\n",
    "    This is a Bootstrap danger alert\n",
    "</div>    \n",
    "\n",
    "<div class=\"alert alert-info\">\n",
    "    Refer to help for Jupyter Notebook short cuts\n",
    "</div> \n",
    "\n",
    "<h2>Head 2</h2>"
   ]
  },
  {
   "cell_type": "markdown",
   "id": "lovely-customer",
   "metadata": {},
   "source": [
    "#### Getting Started with Python"
   ]
  },
  {
   "cell_type": "markdown",
   "id": "ahead-jones",
   "metadata": {},
   "source": [
    "<h5 style=\"color:red;\">Basic Syntax</h5>\n",
    " \n",
    " \n",
    " **Interactive mode:**\n",
    "\n",
    " **Script mode**\n"
   ]
  },
  {
   "cell_type": "code",
   "execution_count": 4,
   "id": "fatal-tours",
   "metadata": {},
   "outputs": [
    {
     "name": "stdout",
     "output_type": "stream",
     "text": [
      "Hello! Python\n"
     ]
    }
   ],
   "source": [
    "print(\"Hello! Python\")"
   ]
  },
  {
   "cell_type": "markdown",
   "id": "metropolitan-batman",
   "metadata": {},
   "source": [
    "##### Python Identifiers/Variable names"
   ]
  },
  {
   "cell_type": "code",
   "execution_count": 17,
   "id": "choice-degree",
   "metadata": {},
   "outputs": [
    {
     "ename": "SyntaxError",
     "evalue": "invalid syntax (<ipython-input-17-51bc52fb3a88>, line 1)",
     "output_type": "error",
     "traceback": [
      "\u001b[0;36m  File \u001b[0;32m\"<ipython-input-17-51bc52fb3a88>\"\u001b[0;36m, line \u001b[0;32m1\u001b[0m\n\u001b[0;31m    return = 20\u001b[0m\n\u001b[0m           ^\u001b[0m\n\u001b[0;31mSyntaxError\u001b[0m\u001b[0;31m:\u001b[0m invalid syntax\n"
     ]
    }
   ],
   "source": [
    "return = 20"
   ]
  },
  {
   "cell_type": "code",
   "execution_count": 16,
   "id": "reasonable-institute",
   "metadata": {},
   "outputs": [
    {
     "ename": "NameError",
     "evalue": "name 'Temp' is not defined",
     "output_type": "error",
     "traceback": [
      "\u001b[0;31m---------------------------------------------------------------------------\u001b[0m",
      "\u001b[0;31mNameError\u001b[0m                                 Traceback (most recent call last)",
      "\u001b[0;32m<ipython-input-16-086e40c91607>\u001b[0m in \u001b[0;36m<module>\u001b[0;34m\u001b[0m\n\u001b[0;32m----> 1\u001b[0;31m \u001b[0mprint\u001b[0m\u001b[0;34m(\u001b[0m\u001b[0mTemp\u001b[0m\u001b[0;34m)\u001b[0m\u001b[0;34m\u001b[0m\u001b[0;34m\u001b[0m\u001b[0m\n\u001b[0m",
      "\u001b[0;31mNameError\u001b[0m: name 'Temp' is not defined"
     ]
    }
   ],
   "source": [
    "print(Temp)"
   ]
  },
  {
   "cell_type": "markdown",
   "id": "interracial-canal",
   "metadata": {},
   "source": [
    "##### Python keywords\n",
    " \n",
    "``and``  ``is`` ``not`` ``exec`` ``lambda``  ``for`` ``def`` ``if`` ``return`` ``del``  ``import`` ``try`` ``elif`` ``in`` ``print`` ``raise`` ``while`` ``else`` ``with`` ``except`` ``lambda`` ``yield`` ``assert`` ``finally`` ``or`` ``break`` ``pass`` ``class`` ``from`` ``continue`` ``global``\n",
    "\n",
    "\n",
    "##### Lines and Indentation\n",
    "\n"
   ]
  },
  {
   "cell_type": "code",
   "execution_count": 24,
   "id": "judicial-hypothetical",
   "metadata": {},
   "outputs": [
    {
     "name": "stdout",
     "output_type": "stream",
     "text": [
      "kjdh  0\n",
      "kjdh  1\n",
      "kjdh  2\n",
      "kjdh  3\n",
      "kjdh  4\n",
      "kjdh  5\n",
      "kjdh  6\n",
      "kjdh  7\n",
      "kjdh  8\n",
      "kjdh  9\n"
     ]
    }
   ],
   "source": [
    "for h in range(0,10):\n",
    "    print(\"kjdh \",h)"
   ]
  },
  {
   "cell_type": "markdown",
   "id": "electric-explosion",
   "metadata": {},
   "source": [
    "##### Quotation in Python"
   ]
  },
  {
   "cell_type": "code",
   "execution_count": 29,
   "id": "future-wallace",
   "metadata": {},
   "outputs": [],
   "source": [
    "gender = \"\"\" jkdfshkj\"\"\""
   ]
  },
  {
   "cell_type": "code",
   "execution_count": 30,
   "id": "beautiful-click",
   "metadata": {},
   "outputs": [
    {
     "name": "stdout",
     "output_type": "stream",
     "text": [
      " jkdfshkj\n"
     ]
    }
   ],
   "source": [
    "print(gender)"
   ]
  },
  {
   "cell_type": "markdown",
   "id": "broke-mauritius",
   "metadata": {},
   "source": [
    "##### Comments in Python"
   ]
  },
  {
   "cell_type": "code",
   "execution_count": 35,
   "id": "improved-viking",
   "metadata": {},
   "outputs": [],
   "source": [
    "# hsgjksdhfhfks\n",
    "# vmdbsjkkkfk\n"
   ]
  },
  {
   "cell_type": "markdown",
   "id": "protective-occasion",
   "metadata": {},
   "source": [
    "##### Printing"
   ]
  },
  {
   "cell_type": "code",
   "execution_count": 39,
   "id": "human-carry",
   "metadata": {},
   "outputs": [
    {
     "name": "stdout",
     "output_type": "stream",
     "text": [
      "Barmaga.io|Nyala.devTujifunze\n"
     ]
    }
   ],
   "source": [
    "print(\"Barmaga.io\",\"Nyala.dev\", sep=\"|\", end=\"\")\n",
    "print(\"Tujifunze\")"
   ]
  },
  {
   "cell_type": "markdown",
   "id": "colored-relative",
   "metadata": {},
   "source": [
    "#### Data Types\n",
    "\n",
    "\n",
    "##### Standard Data Types In Python\n",
    "Python has five standard data types:\n",
    "- Numbers\n",
    "- String\n",
    "- List\n",
    "- Tuple\n",
    "- Dictionary\n",
    "\n",
    "##### Python Numbers\n",
    "\n",
    "- Python supports four different numerical types:-\n",
    " - ``int`` \n",
    " - ``long`` \n",
    " - ``float`` \n",
    " - ``complex`` \n",
    " "
   ]
  },
  {
   "cell_type": "code",
   "execution_count": 40,
   "id": "athletic-motorcycle",
   "metadata": {},
   "outputs": [],
   "source": [
    "comp = 8+7j"
   ]
  },
  {
   "cell_type": "code",
   "execution_count": 41,
   "id": "caroline-prospect",
   "metadata": {},
   "outputs": [
    {
     "data": {
      "text/plain": [
       "8.0"
      ]
     },
     "execution_count": 41,
     "metadata": {},
     "output_type": "execute_result"
    }
   ],
   "source": [
    "comp.real"
   ]
  },
  {
   "cell_type": "code",
   "execution_count": 42,
   "id": "raised-combination",
   "metadata": {},
   "outputs": [
    {
     "data": {
      "text/plain": [
       "7.0"
      ]
     },
     "execution_count": 42,
     "metadata": {},
     "output_type": "execute_result"
    }
   ],
   "source": [
    "comp.imag"
   ]
  },
  {
   "cell_type": "code",
   "execution_count": 43,
   "id": "incredible-guitar",
   "metadata": {},
   "outputs": [],
   "source": [
    "a  = 1.4"
   ]
  },
  {
   "cell_type": "code",
   "execution_count": 44,
   "id": "incorporate-garden",
   "metadata": {},
   "outputs": [
    {
     "data": {
      "text/plain": [
       "float"
      ]
     },
     "execution_count": 44,
     "metadata": {},
     "output_type": "execute_result"
    }
   ],
   "source": [
    "type(a)"
   ]
  },
  {
   "cell_type": "markdown",
   "id": "downtown-shell",
   "metadata": {},
   "source": [
    "##### Python Strings"
   ]
  },
  {
   "cell_type": "code",
   "execution_count": 45,
   "id": "subsequent-salem",
   "metadata": {},
   "outputs": [],
   "source": [
    "name= \"Hassan\""
   ]
  },
  {
   "cell_type": "code",
   "execution_count": 48,
   "id": "light-vegetation",
   "metadata": {},
   "outputs": [
    {
     "data": {
      "text/plain": [
       "'nassaH'"
      ]
     },
     "execution_count": 48,
     "metadata": {},
     "output_type": "execute_result"
    }
   ],
   "source": [
    "name[::-1]"
   ]
  },
  {
   "cell_type": "code",
   "execution_count": 50,
   "id": "alone-yacht",
   "metadata": {},
   "outputs": [
    {
     "data": {
      "text/plain": [
       "'Hassan Juma'"
      ]
     },
     "execution_count": 50,
     "metadata": {},
     "output_type": "execute_result"
    }
   ],
   "source": [
    "name + \" Juma\""
   ]
  },
  {
   "cell_type": "markdown",
   "id": "governmental-lease",
   "metadata": {},
   "source": [
    "##### Data Type Conversion\n",
    "```int()```,```str()```.\n"
   ]
  },
  {
   "cell_type": "code",
   "execution_count": 52,
   "id": "viral-belgium",
   "metadata": {},
   "outputs": [],
   "source": [
    "a  = \"13\""
   ]
  },
  {
   "cell_type": "code",
   "execution_count": 53,
   "id": "friendly-flavor",
   "metadata": {},
   "outputs": [
    {
     "data": {
      "text/plain": [
       "str"
      ]
     },
     "execution_count": 53,
     "metadata": {},
     "output_type": "execute_result"
    }
   ],
   "source": [
    "type(a)"
   ]
  },
  {
   "cell_type": "code",
   "execution_count": 56,
   "id": "angry-reply",
   "metadata": {},
   "outputs": [],
   "source": [
    "a = int(a)"
   ]
  },
  {
   "cell_type": "code",
   "execution_count": 57,
   "id": "impossible-castle",
   "metadata": {
    "scrolled": true
   },
   "outputs": [
    {
     "data": {
      "text/plain": [
       "int"
      ]
     },
     "execution_count": 57,
     "metadata": {},
     "output_type": "execute_result"
    }
   ],
   "source": [
    "type(a)"
   ]
  },
  {
   "cell_type": "code",
   "execution_count": 58,
   "id": "necessary-approval",
   "metadata": {
    "scrolled": false
   },
   "outputs": [
    {
     "name": "stdout",
     "output_type": "stream",
     "text": [
      "Help on class int in module builtins:\n",
      "\n",
      "class int(object)\n",
      " |  int([x]) -> integer\n",
      " |  int(x, base=10) -> integer\n",
      " |  \n",
      " |  Convert a number or string to an integer, or return 0 if no arguments\n",
      " |  are given.  If x is a number, return x.__int__().  For floating point\n",
      " |  numbers, this truncates towards zero.\n",
      " |  \n",
      " |  If x is not a number or if base is given, then x must be a string,\n",
      " |  bytes, or bytearray instance representing an integer literal in the\n",
      " |  given base.  The literal can be preceded by '+' or '-' and be surrounded\n",
      " |  by whitespace.  The base defaults to 10.  Valid bases are 0 and 2-36.\n",
      " |  Base 0 means to interpret the base from the string as an integer literal.\n",
      " |  >>> int('0b100', base=0)\n",
      " |  4\n",
      " |  \n",
      " |  Built-in subclasses:\n",
      " |      bool\n",
      " |  \n",
      " |  Methods defined here:\n",
      " |  \n",
      " |  __abs__(self, /)\n",
      " |      abs(self)\n",
      " |  \n",
      " |  __add__(self, value, /)\n",
      " |      Return self+value.\n",
      " |  \n",
      " |  __and__(self, value, /)\n",
      " |      Return self&value.\n",
      " |  \n",
      " |  __bool__(self, /)\n",
      " |      self != 0\n",
      " |  \n",
      " |  __ceil__(...)\n",
      " |      Ceiling of an Integral returns itself.\n",
      " |  \n",
      " |  __divmod__(self, value, /)\n",
      " |      Return divmod(self, value).\n",
      " |  \n",
      " |  __eq__(self, value, /)\n",
      " |      Return self==value.\n",
      " |  \n",
      " |  __float__(self, /)\n",
      " |      float(self)\n",
      " |  \n",
      " |  __floor__(...)\n",
      " |      Flooring an Integral returns itself.\n",
      " |  \n",
      " |  __floordiv__(self, value, /)\n",
      " |      Return self//value.\n",
      " |  \n",
      " |  __format__(self, format_spec, /)\n",
      " |      Default object formatter.\n",
      " |  \n",
      " |  __ge__(self, value, /)\n",
      " |      Return self>=value.\n",
      " |  \n",
      " |  __getattribute__(self, name, /)\n",
      " |      Return getattr(self, name).\n",
      " |  \n",
      " |  __getnewargs__(self, /)\n",
      " |  \n",
      " |  __gt__(self, value, /)\n",
      " |      Return self>value.\n",
      " |  \n",
      " |  __hash__(self, /)\n",
      " |      Return hash(self).\n",
      " |  \n",
      " |  __index__(self, /)\n",
      " |      Return self converted to an integer, if self is suitable for use as an index into a list.\n",
      " |  \n",
      " |  __int__(self, /)\n",
      " |      int(self)\n",
      " |  \n",
      " |  __invert__(self, /)\n",
      " |      ~self\n",
      " |  \n",
      " |  __le__(self, value, /)\n",
      " |      Return self<=value.\n",
      " |  \n",
      " |  __lshift__(self, value, /)\n",
      " |      Return self<<value.\n",
      " |  \n",
      " |  __lt__(self, value, /)\n",
      " |      Return self<value.\n",
      " |  \n",
      " |  __mod__(self, value, /)\n",
      " |      Return self%value.\n",
      " |  \n",
      " |  __mul__(self, value, /)\n",
      " |      Return self*value.\n",
      " |  \n",
      " |  __ne__(self, value, /)\n",
      " |      Return self!=value.\n",
      " |  \n",
      " |  __neg__(self, /)\n",
      " |      -self\n",
      " |  \n",
      " |  __or__(self, value, /)\n",
      " |      Return self|value.\n",
      " |  \n",
      " |  __pos__(self, /)\n",
      " |      +self\n",
      " |  \n",
      " |  __pow__(self, value, mod=None, /)\n",
      " |      Return pow(self, value, mod).\n",
      " |  \n",
      " |  __radd__(self, value, /)\n",
      " |      Return value+self.\n",
      " |  \n",
      " |  __rand__(self, value, /)\n",
      " |      Return value&self.\n",
      " |  \n",
      " |  __rdivmod__(self, value, /)\n",
      " |      Return divmod(value, self).\n",
      " |  \n",
      " |  __repr__(self, /)\n",
      " |      Return repr(self).\n",
      " |  \n",
      " |  __rfloordiv__(self, value, /)\n",
      " |      Return value//self.\n",
      " |  \n",
      " |  __rlshift__(self, value, /)\n",
      " |      Return value<<self.\n",
      " |  \n",
      " |  __rmod__(self, value, /)\n",
      " |      Return value%self.\n",
      " |  \n",
      " |  __rmul__(self, value, /)\n",
      " |      Return value*self.\n",
      " |  \n",
      " |  __ror__(self, value, /)\n",
      " |      Return value|self.\n",
      " |  \n",
      " |  __round__(...)\n",
      " |      Rounding an Integral returns itself.\n",
      " |      Rounding with an ndigits argument also returns an integer.\n",
      " |  \n",
      " |  __rpow__(self, value, mod=None, /)\n",
      " |      Return pow(value, self, mod).\n",
      " |  \n",
      " |  __rrshift__(self, value, /)\n",
      " |      Return value>>self.\n",
      " |  \n",
      " |  __rshift__(self, value, /)\n",
      " |      Return self>>value.\n",
      " |  \n",
      " |  __rsub__(self, value, /)\n",
      " |      Return value-self.\n",
      " |  \n",
      " |  __rtruediv__(self, value, /)\n",
      " |      Return value/self.\n",
      " |  \n",
      " |  __rxor__(self, value, /)\n",
      " |      Return value^self.\n",
      " |  \n",
      " |  __sizeof__(self, /)\n",
      " |      Returns size in memory, in bytes.\n",
      " |  \n",
      " |  __sub__(self, value, /)\n",
      " |      Return self-value.\n",
      " |  \n",
      " |  __truediv__(self, value, /)\n",
      " |      Return self/value.\n",
      " |  \n",
      " |  __trunc__(...)\n",
      " |      Truncating an Integral returns itself.\n",
      " |  \n",
      " |  __xor__(self, value, /)\n",
      " |      Return self^value.\n",
      " |  \n",
      " |  as_integer_ratio(self, /)\n",
      " |      Return integer ratio.\n",
      " |      \n",
      " |      Return a pair of integers, whose ratio is exactly equal to the original int\n",
      " |      and with a positive denominator.\n",
      " |      \n",
      " |      >>> (10).as_integer_ratio()\n",
      " |      (10, 1)\n",
      " |      >>> (-10).as_integer_ratio()\n",
      " |      (-10, 1)\n",
      " |      >>> (0).as_integer_ratio()\n",
      " |      (0, 1)\n",
      " |  \n",
      " |  bit_length(self, /)\n",
      " |      Number of bits necessary to represent self in binary.\n",
      " |      \n",
      " |      >>> bin(37)\n",
      " |      '0b100101'\n",
      " |      >>> (37).bit_length()\n",
      " |      6\n",
      " |  \n",
      " |  conjugate(...)\n",
      " |      Returns self, the complex conjugate of any int.\n",
      " |  \n",
      " |  to_bytes(self, /, length, byteorder, *, signed=False)\n",
      " |      Return an array of bytes representing an integer.\n",
      " |      \n",
      " |      length\n",
      " |        Length of bytes object to use.  An OverflowError is raised if the\n",
      " |        integer is not representable with the given number of bytes.\n",
      " |      byteorder\n",
      " |        The byte order used to represent the integer.  If byteorder is 'big',\n",
      " |        the most significant byte is at the beginning of the byte array.  If\n",
      " |        byteorder is 'little', the most significant byte is at the end of the\n",
      " |        byte array.  To request the native byte order of the host system, use\n",
      " |        `sys.byteorder' as the byte order value.\n",
      " |      signed\n",
      " |        Determines whether two's complement is used to represent the integer.\n",
      " |        If signed is False and a negative integer is given, an OverflowError\n",
      " |        is raised.\n",
      " |  \n",
      " |  ----------------------------------------------------------------------\n",
      " |  Class methods defined here:\n",
      " |  \n",
      " |  from_bytes(bytes, byteorder, *, signed=False) from builtins.type\n",
      " |      Return the integer represented by the given array of bytes.\n",
      " |      \n",
      " |      bytes\n",
      " |        Holds the array of bytes to convert.  The argument must either\n",
      " |        support the buffer protocol or be an iterable object producing bytes.\n",
      " |        Bytes and bytearray are examples of built-in objects that support the\n",
      " |        buffer protocol.\n",
      " |      byteorder\n",
      " |        The byte order used to represent the integer.  If byteorder is 'big',\n",
      " |        the most significant byte is at the beginning of the byte array.  If\n",
      " |        byteorder is 'little', the most significant byte is at the end of the\n",
      " |        byte array.  To request the native byte order of the host system, use\n",
      " |        `sys.byteorder' as the byte order value.\n",
      " |      signed\n",
      " |        Indicates whether two's complement is used to represent the integer.\n",
      " |  \n",
      " |  ----------------------------------------------------------------------\n",
      " |  Static methods defined here:\n",
      " |  \n",
      " |  __new__(*args, **kwargs) from builtins.type\n",
      " |      Create and return a new object.  See help(type) for accurate signature.\n",
      " |  \n",
      " |  ----------------------------------------------------------------------\n",
      " |  Data descriptors defined here:\n",
      " |  \n",
      " |  denominator\n",
      " |      the denominator of a rational number in lowest terms\n",
      " |  \n",
      " |  imag\n",
      " |      the imaginary part of a complex number\n",
      " |  \n",
      " |  numerator\n",
      " |      the numerator of a rational number in lowest terms\n",
      " |  \n",
      " |  real\n",
      " |      the real part of a complex number\n",
      "\n"
     ]
    }
   ],
   "source": [
    "help(int)"
   ]
  },
  {
   "cell_type": "code",
   "execution_count": 59,
   "id": "reduced-proof",
   "metadata": {
    "scrolled": false
   },
   "outputs": [
    {
     "name": "stdout",
     "output_type": "stream",
     "text": [
      "Help on class complex in module builtins:\n",
      "\n",
      "class complex(object)\n",
      " |  complex(real=0, imag=0)\n",
      " |  \n",
      " |  Create a complex number from a real part and an optional imaginary part.\n",
      " |  \n",
      " |  This is equivalent to (real + imag*1j) where imag defaults to 0.\n",
      " |  \n",
      " |  Methods defined here:\n",
      " |  \n",
      " |  __abs__(self, /)\n",
      " |      abs(self)\n",
      " |  \n",
      " |  __add__(self, value, /)\n",
      " |      Return self+value.\n",
      " |  \n",
      " |  __bool__(self, /)\n",
      " |      self != 0\n",
      " |  \n",
      " |  __divmod__(self, value, /)\n",
      " |      Return divmod(self, value).\n",
      " |  \n",
      " |  __eq__(self, value, /)\n",
      " |      Return self==value.\n",
      " |  \n",
      " |  __float__(self, /)\n",
      " |      float(self)\n",
      " |  \n",
      " |  __floordiv__(self, value, /)\n",
      " |      Return self//value.\n",
      " |  \n",
      " |  __format__(...)\n",
      " |      complex.__format__() -> str\n",
      " |      \n",
      " |      Convert to a string according to format_spec.\n",
      " |  \n",
      " |  __ge__(self, value, /)\n",
      " |      Return self>=value.\n",
      " |  \n",
      " |  __getattribute__(self, name, /)\n",
      " |      Return getattr(self, name).\n",
      " |  \n",
      " |  __getnewargs__(...)\n",
      " |  \n",
      " |  __gt__(self, value, /)\n",
      " |      Return self>value.\n",
      " |  \n",
      " |  __hash__(self, /)\n",
      " |      Return hash(self).\n",
      " |  \n",
      " |  __int__(self, /)\n",
      " |      int(self)\n",
      " |  \n",
      " |  __le__(self, value, /)\n",
      " |      Return self<=value.\n",
      " |  \n",
      " |  __lt__(self, value, /)\n",
      " |      Return self<value.\n",
      " |  \n",
      " |  __mod__(self, value, /)\n",
      " |      Return self%value.\n",
      " |  \n",
      " |  __mul__(self, value, /)\n",
      " |      Return self*value.\n",
      " |  \n",
      " |  __ne__(self, value, /)\n",
      " |      Return self!=value.\n",
      " |  \n",
      " |  __neg__(self, /)\n",
      " |      -self\n",
      " |  \n",
      " |  __pos__(self, /)\n",
      " |      +self\n",
      " |  \n",
      " |  __pow__(self, value, mod=None, /)\n",
      " |      Return pow(self, value, mod).\n",
      " |  \n",
      " |  __radd__(self, value, /)\n",
      " |      Return value+self.\n",
      " |  \n",
      " |  __rdivmod__(self, value, /)\n",
      " |      Return divmod(value, self).\n",
      " |  \n",
      " |  __repr__(self, /)\n",
      " |      Return repr(self).\n",
      " |  \n",
      " |  __rfloordiv__(self, value, /)\n",
      " |      Return value//self.\n",
      " |  \n",
      " |  __rmod__(self, value, /)\n",
      " |      Return value%self.\n",
      " |  \n",
      " |  __rmul__(self, value, /)\n",
      " |      Return value*self.\n",
      " |  \n",
      " |  __rpow__(self, value, mod=None, /)\n",
      " |      Return pow(value, self, mod).\n",
      " |  \n",
      " |  __rsub__(self, value, /)\n",
      " |      Return value-self.\n",
      " |  \n",
      " |  __rtruediv__(self, value, /)\n",
      " |      Return value/self.\n",
      " |  \n",
      " |  __sub__(self, value, /)\n",
      " |      Return self-value.\n",
      " |  \n",
      " |  __truediv__(self, value, /)\n",
      " |      Return self/value.\n",
      " |  \n",
      " |  conjugate(...)\n",
      " |      complex.conjugate() -> complex\n",
      " |      \n",
      " |      Return the complex conjugate of its argument. (3-4j).conjugate() == 3+4j.\n",
      " |  \n",
      " |  ----------------------------------------------------------------------\n",
      " |  Static methods defined here:\n",
      " |  \n",
      " |  __new__(*args, **kwargs) from builtins.type\n",
      " |      Create and return a new object.  See help(type) for accurate signature.\n",
      " |  \n",
      " |  ----------------------------------------------------------------------\n",
      " |  Data descriptors defined here:\n",
      " |  \n",
      " |  imag\n",
      " |      the imaginary part of a complex number\n",
      " |  \n",
      " |  real\n",
      " |      the real part of a complex number\n",
      "\n"
     ]
    }
   ],
   "source": [
    "help(complex)"
   ]
  },
  {
   "cell_type": "markdown",
   "id": "gorgeous-filter",
   "metadata": {},
   "source": [
    "##### Python Basic Operators\n",
    "\n",
    "- ``Arithmetic Operators``\n",
    "- ``Comparison (Relational) Operators``\n",
    "- ``Assignment Operators``\n",
    "- ``Logical Operators``\n",
    "- ``Membership Operators``\n",
    "- ``Identity Operators``\n"
   ]
  },
  {
   "cell_type": "code",
   "execution_count": null,
   "id": "apparent-holmes",
   "metadata": {},
   "outputs": [],
   "source": [
    "# + - / * % //"
   ]
  },
  {
   "cell_type": "code",
   "execution_count": 65,
   "id": "rocky-skating",
   "metadata": {},
   "outputs": [],
   "source": [
    "a = 9\n",
    "b = 2"
   ]
  },
  {
   "cell_type": "code",
   "execution_count": 67,
   "id": "disturbed-anaheim",
   "metadata": {},
   "outputs": [
    {
     "data": {
      "text/plain": [
       "1"
      ]
     },
     "execution_count": 67,
     "metadata": {},
     "output_type": "execute_result"
    }
   ],
   "source": [
    "a%b"
   ]
  },
  {
   "cell_type": "code",
   "execution_count": null,
   "id": "residential-dodge",
   "metadata": {},
   "outputs": [],
   "source": [
    "# > < , >=, <= . =="
   ]
  },
  {
   "cell_type": "code",
   "execution_count": 68,
   "id": "modern-crisis",
   "metadata": {},
   "outputs": [
    {
     "data": {
      "text/plain": [
       "True"
      ]
     },
     "execution_count": 68,
     "metadata": {},
     "output_type": "execute_result"
    }
   ],
   "source": [
    "a > b"
   ]
  },
  {
   "cell_type": "code",
   "execution_count": 69,
   "id": "immediate-content",
   "metadata": {},
   "outputs": [
    {
     "data": {
      "text/plain": [
       "False"
      ]
     },
     "execution_count": 69,
     "metadata": {},
     "output_type": "execute_result"
    }
   ],
   "source": [
    "b > a"
   ]
  },
  {
   "cell_type": "code",
   "execution_count": 70,
   "id": "veterinary-brook",
   "metadata": {},
   "outputs": [
    {
     "data": {
      "text/plain": [
       "False"
      ]
     },
     "execution_count": 70,
     "metadata": {},
     "output_type": "execute_result"
    }
   ],
   "source": [
    "a == b"
   ]
  },
  {
   "cell_type": "code",
   "execution_count": 75,
   "id": "graphic-yesterday",
   "metadata": {},
   "outputs": [],
   "source": [
    "a = 6"
   ]
  },
  {
   "cell_type": "code",
   "execution_count": 72,
   "id": "nervous-swift",
   "metadata": {
    "scrolled": true
   },
   "outputs": [
    {
     "name": "stdout",
     "output_type": "stream",
     "text": [
      "6\n"
     ]
    }
   ],
   "source": [
    "print(a)"
   ]
  },
  {
   "cell_type": "code",
   "execution_count": 73,
   "id": "finite-breast",
   "metadata": {},
   "outputs": [],
   "source": [
    "# +=. -=, /="
   ]
  },
  {
   "cell_type": "code",
   "execution_count": 76,
   "id": "amber-boost",
   "metadata": {},
   "outputs": [],
   "source": [
    "a+=1"
   ]
  },
  {
   "cell_type": "code",
   "execution_count": 77,
   "id": "wanted-operations",
   "metadata": {},
   "outputs": [
    {
     "name": "stdout",
     "output_type": "stream",
     "text": [
      "7\n"
     ]
    }
   ],
   "source": [
    "print(a)"
   ]
  },
  {
   "cell_type": "code",
   "execution_count": null,
   "id": "expanded-approval",
   "metadata": {},
   "outputs": [],
   "source": []
  },
  {
   "cell_type": "code",
   "execution_count": null,
   "id": "mature-artist",
   "metadata": {},
   "outputs": [],
   "source": [
    "# and (&&) , or (||), not (!=)"
   ]
  },
  {
   "cell_type": "code",
   "execution_count": 78,
   "id": "indoor-touch",
   "metadata": {
    "scrolled": true
   },
   "outputs": [
    {
     "data": {
      "text/plain": [
       "True"
      ]
     },
     "execution_count": 78,
     "metadata": {},
     "output_type": "execute_result"
    }
   ],
   "source": [
    "True and True"
   ]
  },
  {
   "cell_type": "code",
   "execution_count": 79,
   "id": "revolutionary-unemployment",
   "metadata": {},
   "outputs": [],
   "source": [
    "name = \"Barmaga.io\""
   ]
  },
  {
   "cell_type": "code",
   "execution_count": 81,
   "id": "received-competition",
   "metadata": {},
   "outputs": [
    {
     "data": {
      "text/plain": [
       "False"
      ]
     },
     "execution_count": 81,
     "metadata": {},
     "output_type": "execute_result"
    }
   ],
   "source": [
    "'z' in name"
   ]
  },
  {
   "cell_type": "markdown",
   "id": "apart-harvey",
   "metadata": {},
   "source": [
    "##### Decision Making\n",
    "\n",
    "\n",
    "##### ``if`` statements\n",
    "##### Syntax\n",
    "\n",
    "```python\n",
    "             if expression:\n",
    "             \n",
    "                statement(s)\n",
    "```    \n"
   ]
  },
  {
   "cell_type": "code",
   "execution_count": 87,
   "id": "united-buffalo",
   "metadata": {},
   "outputs": [],
   "source": [
    "age = 20"
   ]
  },
  {
   "cell_type": "code",
   "execution_count": 85,
   "id": "awful-nothing",
   "metadata": {},
   "outputs": [
    {
     "name": "stdout",
     "output_type": "stream",
     "text": [
      "Hauruhusiwi\n"
     ]
    }
   ],
   "source": [
    "if age <= 18:\n",
    "    print(\"Hauruhusiwi\")"
   ]
  },
  {
   "cell_type": "markdown",
   "id": "color-knowing",
   "metadata": {},
   "source": [
    "##### ``if...else`` statement\n",
    "\n",
    "##### Syntax\n",
    "```python \n",
    "             if expression:\n",
    "        \n",
    "                statement(s) \n",
    "            \n",
    "            else:\n",
    "                \n",
    "                statement(s) \n",
    "```                \n"
   ]
  },
  {
   "cell_type": "code",
   "execution_count": 88,
   "id": "objective-sensitivity",
   "metadata": {},
   "outputs": [
    {
     "name": "stdout",
     "output_type": "stream",
     "text": [
      "Unaruhusiwa\n"
     ]
    }
   ],
   "source": [
    "if age >= 18:\n",
    "    print(\"Unaruhusiwa\")\n",
    "else:\n",
    "    print(\"Haurusiwi\")"
   ]
  },
  {
   "cell_type": "markdown",
   "id": "worse-methodology",
   "metadata": {},
   "source": [
    "##### The ``elif`` Statement\n",
    "\n",
    "##### Syntax \n",
    "```python\n",
    "    if expression1:\n",
    "                     \n",
    "         statement(s)\n",
    "                        \n",
    "    elif expression2:\n",
    "                     \n",
    "        statement(s)\n",
    "                        \n",
    "    else:\n",
    "                     \n",
    "        statement(s)\n",
    "```                        \n",
    "                  "
   ]
  },
  {
   "cell_type": "code",
   "execution_count": 89,
   "id": "dangerous-trade",
   "metadata": {},
   "outputs": [
    {
     "name": "stdout",
     "output_type": "stream",
     "text": [
      "Unaruhusiwa\n"
     ]
    }
   ],
   "source": [
    "age = 20\n",
    "status = \"student\"\n",
    "\n",
    "if age >= 18:\n",
    "    print(\"Unaruhusiwa\")\n",
    "elif status == \"student\":\n",
    "    print(\"Haurusiwi\") \n",
    "else:\n",
    "    print(\"Haurusiwi\")"
   ]
  },
  {
   "cell_type": "code",
   "execution_count": 92,
   "id": "loaded-country",
   "metadata": {},
   "outputs": [
    {
     "name": "stdout",
     "output_type": "stream",
     "text": [
      "Haurusiwi\n"
     ]
    }
   ],
   "source": [
    "if age >= 18 and status != \"student\":\n",
    "    print(\"Unaruhusiwa\")\n",
    "else:\n",
    "    print(\"Haurusiwi\")"
   ]
  },
  {
   "cell_type": "code",
   "execution_count": 94,
   "id": "hollow-coupon",
   "metadata": {},
   "outputs": [
    {
     "name": "stdout",
     "output_type": "stream",
     "text": [
      "Not Found\n"
     ]
    }
   ],
   "source": [
    "lang = \"Python\"\n",
    "\n",
    "if 'P' in lang and 'z' in lang:\n",
    "    print(\"found\")\n",
    "else:\n",
    "    print(\"Not Found\")"
   ]
  },
  {
   "cell_type": "markdown",
   "id": "advance-index",
   "metadata": {},
   "source": [
    "##### Nested ``if`` statements\n",
    "\n",
    "##### Syntax  \n",
    "\n",
    "```python\n",
    "   if expression:\n",
    "    \n",
    "      if innerExpression: \n",
    "        \n",
    "           statement(s) \n",
    "        \n",
    "      elif secInnerExp:\n",
    "            \n",
    "           statement(s)\n",
    "            \n",
    "      else:    \n",
    "                \n",
    "          statement(s) \n",
    "                \n",
    "    else:       \n",
    "                    \n",
    "        statement(s)                \n",
    "```"
   ]
  },
  {
   "cell_type": "code",
   "execution_count": 95,
   "id": "interstate-doubt",
   "metadata": {},
   "outputs": [
    {
     "name": "stdout",
     "output_type": "stream",
     "text": [
      "Haurusiwi\n"
     ]
    }
   ],
   "source": [
    "if age >= 18:\n",
    "    if status == \"student\":\n",
    "         print(\"Haurusiwi\")\n",
    "else:\n",
    "    print(\"Haurusiwi\")"
   ]
  },
  {
   "cell_type": "markdown",
   "id": "conceptual-special",
   "metadata": {},
   "source": [
    "##### Loops\n",
    "\n",
    "##### ``while`` loop\n",
    "\n",
    "\n",
    "##### Syntax\n",
    "```python\n",
    "          while expression:\n",
    "          \n",
    "                statement(s)\n",
    "```    "
   ]
  },
  {
   "cell_type": "code",
   "execution_count": 96,
   "id": "constant-archives",
   "metadata": {
    "scrolled": true
   },
   "outputs": [
    {
     "name": "stdout",
     "output_type": "stream",
     "text": [
      "The count is :  0\n",
      "The count is :  1\n",
      "The count is :  2\n",
      "The count is :  3\n",
      "The count is :  4\n",
      "The count is :  5\n",
      "The count is :  6\n",
      "The count is :  7\n",
      "The count is :  8\n",
      "The count is :  9\n"
     ]
    }
   ],
   "source": [
    "count = 0\n",
    "while count < 10:\n",
    "    print(\"The count is : \", count)\n",
    "    count+=1"
   ]
  },
  {
   "cell_type": "code",
   "execution_count": 102,
   "id": "latin-wallace",
   "metadata": {},
   "outputs": [
    {
     "name": "stdout",
     "output_type": "stream",
     "text": [
      "The count is :  9\n",
      "The count is :  8\n",
      "The count is :  7\n",
      "The count is :  6\n",
      "The count is :  5\n",
      "The count is :  4\n",
      "The count is :  3\n",
      "The count is :  2\n",
      "The count is :  1\n",
      "Tumefika mwisho\n"
     ]
    }
   ],
   "source": [
    "count = 9\n",
    "while count > 0:\n",
    "    print(\"The count is : \", count)\n",
    "    #count-=1\n",
    "    count = count-1\n",
    "else:\n",
    "    print(\"Tumefika mwisho\")"
   ]
  },
  {
   "cell_type": "markdown",
   "id": "narrative-boulder",
   "metadata": {},
   "source": [
    "##### ``for`` Loop\n",
    "\n",
    "\n",
    "###### Syntax\n",
    "```python\n",
    "         for iterating_var in sequence:\n",
    "         \n",
    "              statements(s)\n",
    "```       "
   ]
  },
  {
   "cell_type": "code",
   "execution_count": 105,
   "id": "vietnamese-browser",
   "metadata": {},
   "outputs": [
    {
     "name": "stdout",
     "output_type": "stream",
     "text": [
      "Herufi ni  0\n",
      "Herufi ni  1\n",
      "Herufi ni  2\n",
      "Herufi ni  3\n",
      "Herufi ni  4\n",
      "Herufi ni  5\n",
      "kfhjdfk,j\n"
     ]
    }
   ],
   "source": [
    "count = 0\n",
    "for herufi in \"Python\":\n",
    "    print(\"Herufi ni \", count)\n",
    "    count+=1\n",
    "else:\n",
    "    print(\"kfhjdfk,j\")"
   ]
  },
  {
   "cell_type": "markdown",
   "id": "humanitarian-forge",
   "metadata": {},
   "source": [
    "##### Using ``else`` Statement with Loops\n"
   ]
  },
  {
   "cell_type": "markdown",
   "id": "fatty-sigma",
   "metadata": {},
   "source": [
    "##### Nested Loops\n",
    "\n",
    "##### Syntax nested ``for``\n",
    "\n",
    "```python\n",
    "for iterating_var in sequence:\n",
    "    for iterating_var in sequence:\n",
    "        statements(s)\n",
    "    statements(s)\n",
    "\n",
    "```\n",
    "\n",
    "##### Syntax nested *while*\n",
    "\n",
    "```python\n",
    "while expression:\n",
    "      while expression:\n",
    "            statement(s)\n",
    "      statement(s)\n",
    "```\n"
   ]
  },
  {
   "cell_type": "markdown",
   "id": "electronic-valve",
   "metadata": {},
   "source": [
    "##### Loop Control Statements\n",
    "\n",
    "#### ``break`` statement"
   ]
  },
  {
   "cell_type": "code",
   "execution_count": 107,
   "id": "involved-arbor",
   "metadata": {},
   "outputs": [
    {
     "name": "stdout",
     "output_type": "stream",
     "text": [
      "B\n",
      "a\n",
      "r\n",
      "m\n"
     ]
    }
   ],
   "source": [
    "for i in 'Barmaga':\n",
    "    print(i)\n",
    "    if i == 'm':\n",
    "        break"
   ]
  },
  {
   "cell_type": "markdown",
   "id": "breeding-history",
   "metadata": {},
   "source": [
    "##### ``continue`` statement\n"
   ]
  },
  {
   "cell_type": "code",
   "execution_count": 108,
   "id": "plastic-satisfaction",
   "metadata": {},
   "outputs": [
    {
     "name": "stdout",
     "output_type": "stream",
     "text": [
      "B\n",
      "a\n",
      "r\n",
      "a\n",
      "g\n",
      "a\n"
     ]
    }
   ],
   "source": [
    "for i in 'Barmaga':\n",
    "    if i == 'm':\n",
    "        continue\n",
    "    print(i)    "
   ]
  },
  {
   "cell_type": "code",
   "execution_count": 109,
   "id": "divine-science",
   "metadata": {},
   "outputs": [],
   "source": [
    "for i in \"juma\":\n",
    "    pass"
   ]
  },
  {
   "cell_type": "markdown",
   "id": "designed-wisdom",
   "metadata": {},
   "source": [
    "##### pass statement\n"
   ]
  },
  {
   "cell_type": "markdown",
   "id": "adolescent-cisco",
   "metadata": {},
   "source": [
    "<h3 style=\"color:green\" align=\"center\">Functions and Modules</h3>\n",
    "\n",
    "\n",
    "```python\n",
    "def function_name( parameters ):\n",
    "\"function_docstring\"\n",
    "function_suite\n",
    "return [expression]\n",
    "```\n"
   ]
  },
  {
   "cell_type": "code",
   "execution_count": 111,
   "id": "nominated-homeless",
   "metadata": {},
   "outputs": [],
   "source": [
    "def jumlisha():\n",
    "    a = 10\n",
    "    b = 19\n",
    "    return a+b"
   ]
  },
  {
   "cell_type": "markdown",
   "id": "every-valve",
   "metadata": {},
   "source": [
    "<h5 style=\"color:black\">Calling a Function</h5>\n"
   ]
  },
  {
   "cell_type": "code",
   "execution_count": 113,
   "id": "acoustic-month",
   "metadata": {},
   "outputs": [
    {
     "name": "stdout",
     "output_type": "stream",
     "text": [
      "29\n"
     ]
    }
   ],
   "source": [
    "print(jumlisha())"
   ]
  },
  {
   "cell_type": "code",
   "execution_count": 114,
   "id": "concrete-absolute",
   "metadata": {},
   "outputs": [],
   "source": [
    "sum = jumlisha()"
   ]
  },
  {
   "cell_type": "code",
   "execution_count": 115,
   "id": "timely-teacher",
   "metadata": {
    "scrolled": true
   },
   "outputs": [
    {
     "data": {
      "text/plain": [
       "29"
      ]
     },
     "execution_count": 115,
     "metadata": {},
     "output_type": "execute_result"
    }
   ],
   "source": [
    "sum"
   ]
  },
  {
   "cell_type": "markdown",
   "id": "republican-annual",
   "metadata": {},
   "source": [
    "$$ z  = \\frac{x - \\mu}{\\delta}$$"
   ]
  },
  {
   "cell_type": "code",
   "execution_count": 117,
   "id": "willing-scotland",
   "metadata": {},
   "outputs": [],
   "source": [
    "def normalize(data, mean, std):\n",
    "    z = (data - mean)/std\n",
    "    return z"
   ]
  },
  {
   "cell_type": "code",
   "execution_count": 118,
   "id": "alien-agriculture",
   "metadata": {},
   "outputs": [
    {
     "data": {
      "text/plain": [
       "4.0"
      ]
     },
     "execution_count": 118,
     "metadata": {},
     "output_type": "execute_result"
    }
   ],
   "source": [
    "normalize(data=4, mean=0, std=1)"
   ]
  },
  {
   "cell_type": "code",
   "execution_count": 119,
   "id": "israeli-jenny",
   "metadata": {},
   "outputs": [
    {
     "name": "stdout",
     "output_type": "stream",
     "text": [
      "Normalized value is 1.63\n"
     ]
    }
   ],
   "source": [
    "result = normalize(data=27.8, mean=18, std=6)\n",
    "print(\"Normalized value is {:.2f}\".format(result))"
   ]
  },
  {
   "cell_type": "markdown",
   "id": "medieval-jones",
   "metadata": {},
   "source": [
    "<h5 style=\"color:black\">Function Arguments </h5>\n",
    "\n",
    "You can call a function by using the following types of formal arguments:\n",
    "- ``Required arguments``\n",
    "- ``Keyword arguments``\n",
    "- ``Default arguments``\n",
    "- ``Variable-length arguments``\n",
    "\n",
    "<h5 style=\"color:black\">Required Arguments </h5>\n"
   ]
  },
  {
   "cell_type": "code",
   "execution_count": 121,
   "id": "southeast-amplifier",
   "metadata": {},
   "outputs": [],
   "source": [
    "def print_sitename(str):\n",
    "    \"Hii function inaonesha jina la tovuti\"\n",
    "    print(str)"
   ]
  },
  {
   "cell_type": "code",
   "execution_count": 123,
   "id": "vocational-privilege",
   "metadata": {},
   "outputs": [
    {
     "name": "stdout",
     "output_type": "stream",
     "text": [
      "Nyala.dev\n"
     ]
    }
   ],
   "source": [
    "print_sitename(\"Nyala.dev\")"
   ]
  },
  {
   "cell_type": "markdown",
   "id": "respiratory-franklin",
   "metadata": {},
   "source": [
    "<h5 style=\"color:black\">Keyword Arguments </h5>\n"
   ]
  },
  {
   "cell_type": "code",
   "execution_count": 124,
   "id": "figured-advertising",
   "metadata": {},
   "outputs": [],
   "source": [
    "def print_sitename(str):\n",
    "    \"Hii function inaonesha jina la tovuti\"\n",
    "    print(str)"
   ]
  },
  {
   "cell_type": "code",
   "execution_count": 125,
   "id": "gothic-burton",
   "metadata": {},
   "outputs": [
    {
     "name": "stdout",
     "output_type": "stream",
     "text": [
      "Nyala.dev\n"
     ]
    }
   ],
   "source": [
    "print_sitename(str = \"Nyala.dev\")"
   ]
  },
  {
   "cell_type": "code",
   "execution_count": 126,
   "id": "hazardous-recognition",
   "metadata": {},
   "outputs": [],
   "source": [
    "def printinfo(name, age):\n",
    "    print(\"Name is : \", name)\n",
    "    print(\"Age is : \", age)"
   ]
  },
  {
   "cell_type": "code",
   "execution_count": 130,
   "id": "fourth-calculation",
   "metadata": {},
   "outputs": [
    {
     "name": "stdout",
     "output_type": "stream",
     "text": [
      "Name is :  juma\n",
      "Age is :  10\n"
     ]
    }
   ],
   "source": [
    "printinfo(age= 10,name = \"juma\")"
   ]
  },
  {
   "cell_type": "markdown",
   "id": "logical-struggle",
   "metadata": {},
   "source": [
    "<h5 style=\"color:black\">Default Arguments </h5>\n"
   ]
  },
  {
   "cell_type": "code",
   "execution_count": 131,
   "id": "independent-russian",
   "metadata": {},
   "outputs": [],
   "source": [
    "def printinfo(name, age = 20):\n",
    "    print(\"Name is : \", name)\n",
    "    print(\"Age is : \", age)"
   ]
  },
  {
   "cell_type": "code",
   "execution_count": 132,
   "id": "super-namibia",
   "metadata": {},
   "outputs": [
    {
     "name": "stdout",
     "output_type": "stream",
     "text": [
      "Name is :  Kulwa\n",
      "Age is :  20\n"
     ]
    }
   ],
   "source": [
    "printinfo(\"Kulwa\")"
   ]
  },
  {
   "cell_type": "markdown",
   "id": "touched-consumption",
   "metadata": {},
   "source": [
    "<h5 style=\"color:black\">The return Statement </h5>\n",
    "\n"
   ]
  },
  {
   "cell_type": "code",
   "execution_count": null,
   "id": "forbidden-necessity",
   "metadata": {},
   "outputs": [],
   "source": []
  },
  {
   "cell_type": "markdown",
   "id": "victorian-registrar",
   "metadata": {},
   "source": [
    "<h5 style=\"color:black\">Scope of Variable </h5>\n",
    "\n",
    "- ``Global variables``\n",
    "- ``Local variables``\n",
    "\n"
   ]
  },
  {
   "cell_type": "code",
   "execution_count": 139,
   "id": "agricultural-howard",
   "metadata": {},
   "outputs": [
    {
     "name": "stdout",
     "output_type": "stream",
     "text": [
      "Total nje ya function :  0\n"
     ]
    }
   ],
   "source": [
    "total = 0\n",
    "def sum(arg1, arg2):\n",
    "    total = arg1 + arg2\n",
    "    print(\"Total ndani ya function: \", total)\n",
    "#     return total\n",
    "print(\"Total nje ya function : \", total)"
   ]
  },
  {
   "cell_type": "code",
   "execution_count": 137,
   "id": "worst-optimum",
   "metadata": {},
   "outputs": [
    {
     "name": "stdout",
     "output_type": "stream",
     "text": [
      "Total ndani ya function:  30\n"
     ]
    }
   ],
   "source": [
    "sum(10,20)"
   ]
  },
  {
   "cell_type": "markdown",
   "id": "successful-imperial",
   "metadata": {},
   "source": [
    "##### Module\n"
   ]
  },
  {
   "cell_type": "code",
   "execution_count": 140,
   "id": "raised-ambassador",
   "metadata": {
    "scrolled": true
   },
   "outputs": [
    {
     "name": "stdout",
     "output_type": "stream",
     "text": [
      "Overwriting normalizer.py\n"
     ]
    }
   ],
   "source": [
    "%%writefile normalizer.py\n",
    "def normalize(data, mean, std):\n",
    "    z = (data - mean)/std\n",
    "    return z"
   ]
  },
  {
   "cell_type": "code",
   "execution_count": 141,
   "id": "behind-country",
   "metadata": {
    "scrolled": true
   },
   "outputs": [
    {
     "data": {
      "text/plain": [
       "0.2777777777777778"
      ]
     },
     "execution_count": 141,
     "metadata": {},
     "output_type": "execute_result"
    }
   ],
   "source": [
    "import normalizer\n",
    "normalizer.normalize(data=10, mean=5, std=18)"
   ]
  },
  {
   "cell_type": "code",
   "execution_count": 142,
   "id": "conditional-transaction",
   "metadata": {},
   "outputs": [
    {
     "data": {
      "text/plain": [
       "-2.5"
      ]
     },
     "execution_count": 142,
     "metadata": {},
     "output_type": "execute_result"
    }
   ],
   "source": [
    "from normalizer import normalize\n",
    "normalize(data=3, mean=8, std=2)"
   ]
  },
  {
   "cell_type": "code",
   "execution_count": 143,
   "id": "iraqi-cleaning",
   "metadata": {},
   "outputs": [
    {
     "data": {
      "text/plain": [
       "0.4444444444444444"
      ]
     },
     "execution_count": 143,
     "metadata": {},
     "output_type": "execute_result"
    }
   ],
   "source": [
    "from normalizer import *\n",
    "normalize(data=6, mean=2, std=9)"
   ]
  },
  {
   "cell_type": "code",
   "execution_count": 144,
   "id": "prostate-teaching",
   "metadata": {},
   "outputs": [],
   "source": [
    "from normalizer import normalize as n"
   ]
  },
  {
   "cell_type": "code",
   "execution_count": 145,
   "id": "seven-industry",
   "metadata": {},
   "outputs": [
    {
     "data": {
      "text/plain": [
       "-2.0"
      ]
     },
     "execution_count": 145,
     "metadata": {},
     "output_type": "execute_result"
    }
   ],
   "source": [
    "n(data=3, mean=9, std=3)"
   ]
  },
  {
   "cell_type": "markdown",
   "id": "cosmetic-sherman",
   "metadata": {},
   "source": [
    "##### Packages\n",
    "\n",
    "\n",
    "##### To Import modules and packages \n",
    "\n",
    "\n",
    "``import package-name``\n",
    "\n",
    "- importing all functionalities as such\n",
    "\n",
    "``from package-name import specific function or method``\n",
    "\n",
    "- importing a specific function or subset of the package/module\n",
    "\n",
    "``from package-name import *``    \n",
    "\n",
    "- importing all definitions and actions of the package (sometimes better than option 1)\n",
    "\n",
    "`` import package-name as short-package-name ``\n",
    "\n",
    "- Very good way to keep a good insight in where you use what package"
   ]
  },
  {
   "cell_type": "markdown",
   "id": "modular-hardware",
   "metadata": {},
   "source": [
    "##### Import modules from another directory"
   ]
  },
  {
   "cell_type": "code",
   "execution_count": 146,
   "id": "interesting-chuck",
   "metadata": {},
   "outputs": [
    {
     "data": {
      "text/plain": [
       "-0.9230769230769231"
      ]
     },
     "execution_count": 146,
     "metadata": {},
     "output_type": "execute_result"
    }
   ],
   "source": [
    "import sys\n",
    "sys.path.append('src/')\n",
    "import normalizer as norm\n",
    "norm.normalize(data=5, mean=17, std=13)"
   ]
  },
  {
   "cell_type": "markdown",
   "id": "sophisticated-pencil",
   "metadata": {},
   "source": [
    "<h3 align=\"center\" style=\"color:green;\">Data Structures</h3>\n",
    "\n",
    "\n",
    "<h5 style=\"color:red\">Lists </h5>\n",
    "\n"
   ]
  },
  {
   "cell_type": "code",
   "execution_count": 148,
   "id": "nonprofit-tribune",
   "metadata": {},
   "outputs": [],
   "source": [
    "l = list([\"juma\", 12, 'y'])"
   ]
  },
  {
   "cell_type": "code",
   "execution_count": 149,
   "id": "instrumental-fence",
   "metadata": {},
   "outputs": [],
   "source": [
    "list2 = ['physics', \"chemistry\", 2021, 3+6j]"
   ]
  },
  {
   "cell_type": "markdown",
   "id": "significant-pulse",
   "metadata": {},
   "source": [
    "##### Accessing Values in Lists\n",
    "\n"
   ]
  },
  {
   "cell_type": "code",
   "execution_count": 151,
   "id": "sophisticated-taste",
   "metadata": {},
   "outputs": [
    {
     "data": {
      "text/plain": [
       "6.0"
      ]
     },
     "execution_count": 151,
     "metadata": {},
     "output_type": "execute_result"
    }
   ],
   "source": [
    "list2[3].imag"
   ]
  },
  {
   "cell_type": "code",
   "execution_count": 152,
   "id": "higher-prerequisite",
   "metadata": {},
   "outputs": [
    {
     "data": {
      "text/plain": [
       "[2021, (3+6j)]"
      ]
     },
     "execution_count": 152,
     "metadata": {},
     "output_type": "execute_result"
    }
   ],
   "source": [
    "list2[2:]"
   ]
  },
  {
   "cell_type": "code",
   "execution_count": null,
   "id": "included-object",
   "metadata": {},
   "outputs": [],
   "source": []
  },
  {
   "cell_type": "markdown",
   "id": "attached-column",
   "metadata": {},
   "source": [
    "##### Basic List Operation\n",
    "\n",
    "##### Indexing and Slicing\n",
    "##### Functions\n",
    "##### Methods\n"
   ]
  },
  {
   "cell_type": "code",
   "execution_count": 153,
   "id": "banned-rescue",
   "metadata": {},
   "outputs": [
    {
     "data": {
      "text/plain": [
       "4"
      ]
     },
     "execution_count": 153,
     "metadata": {},
     "output_type": "execute_result"
    }
   ],
   "source": [
    "len(list2)"
   ]
  },
  {
   "cell_type": "code",
   "execution_count": 154,
   "id": "aquatic-encyclopedia",
   "metadata": {
    "scrolled": true
   },
   "outputs": [
    {
     "data": {
      "text/plain": [
       "['physics', 'chemistry', 2021, (3+6j), 3, 5]"
      ]
     },
     "execution_count": 154,
     "metadata": {},
     "output_type": "execute_result"
    }
   ],
   "source": [
    "list2 + [3, 5]"
   ]
  },
  {
   "cell_type": "code",
   "execution_count": 155,
   "id": "comparative-throw",
   "metadata": {},
   "outputs": [
    {
     "data": {
      "text/plain": [
       "['physics',\n",
       " 'chemistry',\n",
       " 2021,\n",
       " (3+6j),\n",
       " 'physics',\n",
       " 'chemistry',\n",
       " 2021,\n",
       " (3+6j),\n",
       " 'physics',\n",
       " 'chemistry',\n",
       " 2021,\n",
       " (3+6j)]"
      ]
     },
     "execution_count": 155,
     "metadata": {},
     "output_type": "execute_result"
    }
   ],
   "source": [
    "list2*3"
   ]
  },
  {
   "cell_type": "code",
   "execution_count": 156,
   "id": "apart-complaint",
   "metadata": {
    "scrolled": true
   },
   "outputs": [
    {
     "data": {
      "text/plain": [
       "True"
      ]
     },
     "execution_count": 156,
     "metadata": {},
     "output_type": "execute_result"
    }
   ],
   "source": [
    "'chemistry' in list2"
   ]
  },
  {
   "cell_type": "code",
   "execution_count": 157,
   "id": "genetic-hypothesis",
   "metadata": {},
   "outputs": [
    {
     "name": "stdout",
     "output_type": "stream",
     "text": [
      "physics\n",
      "chemistry\n",
      "2021\n",
      "(3+6j)\n"
     ]
    }
   ],
   "source": [
    "for i in list2:\n",
    "    print(i)"
   ]
  },
  {
   "cell_type": "code",
   "execution_count": 158,
   "id": "bulgarian-houston",
   "metadata": {
    "scrolled": true
   },
   "outputs": [
    {
     "data": {
      "text/plain": [
       "(3+6j)"
      ]
     },
     "execution_count": 158,
     "metadata": {},
     "output_type": "execute_result"
    }
   ],
   "source": [
    "list2[-1]"
   ]
  },
  {
   "cell_type": "code",
   "execution_count": 159,
   "id": "important-volleyball",
   "metadata": {},
   "outputs": [
    {
     "data": {
      "text/plain": [
       "4"
      ]
     },
     "execution_count": 159,
     "metadata": {},
     "output_type": "execute_result"
    }
   ],
   "source": [
    "len(list2)"
   ]
  },
  {
   "cell_type": "code",
   "execution_count": 163,
   "id": "frozen-barcelona",
   "metadata": {},
   "outputs": [],
   "source": [
    "l1 = [1,2,4]\n",
    "l2 = [2,3,5]"
   ]
  },
  {
   "cell_type": "code",
   "execution_count": 166,
   "id": "imported-relationship",
   "metadata": {},
   "outputs": [
    {
     "data": {
      "text/plain": [
       "1"
      ]
     },
     "execution_count": 166,
     "metadata": {},
     "output_type": "execute_result"
    }
   ],
   "source": [
    "min(l1)"
   ]
  },
  {
   "cell_type": "code",
   "execution_count": 167,
   "id": "liberal-comfort",
   "metadata": {
    "scrolled": true
   },
   "outputs": [
    {
     "data": {
      "text/plain": [
       "5"
      ]
     },
     "execution_count": 167,
     "metadata": {},
     "output_type": "execute_result"
    }
   ],
   "source": [
    "max(l2)"
   ]
  },
  {
   "cell_type": "code",
   "execution_count": 168,
   "id": "injured-gauge",
   "metadata": {},
   "outputs": [],
   "source": [
    "l1.append(10)"
   ]
  },
  {
   "cell_type": "code",
   "execution_count": 169,
   "id": "martial-calendar",
   "metadata": {
    "scrolled": true
   },
   "outputs": [
    {
     "data": {
      "text/plain": [
       "[1, 2, 4, 10]"
      ]
     },
     "execution_count": 169,
     "metadata": {},
     "output_type": "execute_result"
    }
   ],
   "source": [
    "l1"
   ]
  },
  {
   "cell_type": "code",
   "execution_count": 170,
   "id": "earned-scheduling",
   "metadata": {},
   "outputs": [],
   "source": [
    "l1.insert(0,10)"
   ]
  },
  {
   "cell_type": "code",
   "execution_count": 171,
   "id": "promising-emphasis",
   "metadata": {},
   "outputs": [
    {
     "data": {
      "text/plain": [
       "[10, 1, 2, 4, 10]"
      ]
     },
     "execution_count": 171,
     "metadata": {},
     "output_type": "execute_result"
    }
   ],
   "source": [
    "l1"
   ]
  },
  {
   "cell_type": "code",
   "execution_count": 172,
   "id": "sublime-proposal",
   "metadata": {},
   "outputs": [],
   "source": [
    "l2.reverse()"
   ]
  },
  {
   "cell_type": "code",
   "execution_count": 173,
   "id": "threaded-rating",
   "metadata": {
    "scrolled": true
   },
   "outputs": [
    {
     "data": {
      "text/plain": [
       "[5, 3, 2]"
      ]
     },
     "execution_count": 173,
     "metadata": {},
     "output_type": "execute_result"
    }
   ],
   "source": [
    "l2"
   ]
  },
  {
   "cell_type": "code",
   "execution_count": 174,
   "id": "seven-fever",
   "metadata": {
    "scrolled": false
   },
   "outputs": [
    {
     "name": "stdout",
     "output_type": "stream",
     "text": [
      "Help on class list in module builtins:\n",
      "\n",
      "class list(object)\n",
      " |  list(iterable=(), /)\n",
      " |  \n",
      " |  Built-in mutable sequence.\n",
      " |  \n",
      " |  If no argument is given, the constructor creates a new empty list.\n",
      " |  The argument must be an iterable if specified.\n",
      " |  \n",
      " |  Methods defined here:\n",
      " |  \n",
      " |  __add__(self, value, /)\n",
      " |      Return self+value.\n",
      " |  \n",
      " |  __contains__(self, key, /)\n",
      " |      Return key in self.\n",
      " |  \n",
      " |  __delitem__(self, key, /)\n",
      " |      Delete self[key].\n",
      " |  \n",
      " |  __eq__(self, value, /)\n",
      " |      Return self==value.\n",
      " |  \n",
      " |  __ge__(self, value, /)\n",
      " |      Return self>=value.\n",
      " |  \n",
      " |  __getattribute__(self, name, /)\n",
      " |      Return getattr(self, name).\n",
      " |  \n",
      " |  __getitem__(...)\n",
      " |      x.__getitem__(y) <==> x[y]\n",
      " |  \n",
      " |  __gt__(self, value, /)\n",
      " |      Return self>value.\n",
      " |  \n",
      " |  __iadd__(self, value, /)\n",
      " |      Implement self+=value.\n",
      " |  \n",
      " |  __imul__(self, value, /)\n",
      " |      Implement self*=value.\n",
      " |  \n",
      " |  __init__(self, /, *args, **kwargs)\n",
      " |      Initialize self.  See help(type(self)) for accurate signature.\n",
      " |  \n",
      " |  __iter__(self, /)\n",
      " |      Implement iter(self).\n",
      " |  \n",
      " |  __le__(self, value, /)\n",
      " |      Return self<=value.\n",
      " |  \n",
      " |  __len__(self, /)\n",
      " |      Return len(self).\n",
      " |  \n",
      " |  __lt__(self, value, /)\n",
      " |      Return self<value.\n",
      " |  \n",
      " |  __mul__(self, value, /)\n",
      " |      Return self*value.\n",
      " |  \n",
      " |  __ne__(self, value, /)\n",
      " |      Return self!=value.\n",
      " |  \n",
      " |  __repr__(self, /)\n",
      " |      Return repr(self).\n",
      " |  \n",
      " |  __reversed__(self, /)\n",
      " |      Return a reverse iterator over the list.\n",
      " |  \n",
      " |  __rmul__(self, value, /)\n",
      " |      Return value*self.\n",
      " |  \n",
      " |  __setitem__(self, key, value, /)\n",
      " |      Set self[key] to value.\n",
      " |  \n",
      " |  __sizeof__(self, /)\n",
      " |      Return the size of the list in memory, in bytes.\n",
      " |  \n",
      " |  append(self, object, /)\n",
      " |      Append object to the end of the list.\n",
      " |  \n",
      " |  clear(self, /)\n",
      " |      Remove all items from list.\n",
      " |  \n",
      " |  copy(self, /)\n",
      " |      Return a shallow copy of the list.\n",
      " |  \n",
      " |  count(self, value, /)\n",
      " |      Return number of occurrences of value.\n",
      " |  \n",
      " |  extend(self, iterable, /)\n",
      " |      Extend list by appending elements from the iterable.\n",
      " |  \n",
      " |  index(self, value, start=0, stop=9223372036854775807, /)\n",
      " |      Return first index of value.\n",
      " |      \n",
      " |      Raises ValueError if the value is not present.\n",
      " |  \n",
      " |  insert(self, index, object, /)\n",
      " |      Insert object before index.\n",
      " |  \n",
      " |  pop(self, index=-1, /)\n",
      " |      Remove and return item at index (default last).\n",
      " |      \n",
      " |      Raises IndexError if list is empty or index is out of range.\n",
      " |  \n",
      " |  remove(self, value, /)\n",
      " |      Remove first occurrence of value.\n",
      " |      \n",
      " |      Raises ValueError if the value is not present.\n",
      " |  \n",
      " |  reverse(self, /)\n",
      " |      Reverse *IN PLACE*.\n",
      " |  \n",
      " |  sort(self, /, *, key=None, reverse=False)\n",
      " |      Sort the list in ascending order and return None.\n",
      " |      \n",
      " |      The sort is in-place (i.e. the list itself is modified) and stable (i.e. the\n",
      " |      order of two equal elements is maintained).\n",
      " |      \n",
      " |      If a key function is given, apply it once to each list item and sort them,\n",
      " |      ascending or descending, according to their function values.\n",
      " |      \n",
      " |      The reverse flag can be set to sort in descending order.\n",
      " |  \n",
      " |  ----------------------------------------------------------------------\n",
      " |  Static methods defined here:\n",
      " |  \n",
      " |  __new__(*args, **kwargs) from builtins.type\n",
      " |      Create and return a new object.  See help(type) for accurate signature.\n",
      " |  \n",
      " |  ----------------------------------------------------------------------\n",
      " |  Data and other attributes defined here:\n",
      " |  \n",
      " |  __hash__ = None\n",
      "\n"
     ]
    }
   ],
   "source": [
    "help(list)"
   ]
  },
  {
   "cell_type": "code",
   "execution_count": 175,
   "id": "prerequisite-committee",
   "metadata": {},
   "outputs": [
    {
     "data": {
      "text/plain": [
       "['__add__',\n",
       " '__class__',\n",
       " '__contains__',\n",
       " '__delattr__',\n",
       " '__delitem__',\n",
       " '__dir__',\n",
       " '__doc__',\n",
       " '__eq__',\n",
       " '__format__',\n",
       " '__ge__',\n",
       " '__getattribute__',\n",
       " '__getitem__',\n",
       " '__gt__',\n",
       " '__hash__',\n",
       " '__iadd__',\n",
       " '__imul__',\n",
       " '__init__',\n",
       " '__init_subclass__',\n",
       " '__iter__',\n",
       " '__le__',\n",
       " '__len__',\n",
       " '__lt__',\n",
       " '__mul__',\n",
       " '__ne__',\n",
       " '__new__',\n",
       " '__reduce__',\n",
       " '__reduce_ex__',\n",
       " '__repr__',\n",
       " '__reversed__',\n",
       " '__rmul__',\n",
       " '__setattr__',\n",
       " '__setitem__',\n",
       " '__sizeof__',\n",
       " '__str__',\n",
       " '__subclasshook__',\n",
       " 'append',\n",
       " 'clear',\n",
       " 'copy',\n",
       " 'count',\n",
       " 'extend',\n",
       " 'index',\n",
       " 'insert',\n",
       " 'pop',\n",
       " 'remove',\n",
       " 'reverse',\n",
       " 'sort']"
      ]
     },
     "execution_count": 175,
     "metadata": {},
     "output_type": "execute_result"
    }
   ],
   "source": [
    "dir(list)"
   ]
  },
  {
   "cell_type": "markdown",
   "id": "buried-scotland",
   "metadata": {},
   "source": [
    "<h5 style=\"color:red\"> Tuples</h5>\n"
   ]
  },
  {
   "cell_type": "code",
   "execution_count": 176,
   "id": "thrown-burning",
   "metadata": {},
   "outputs": [],
   "source": [
    "t = (\"Python\", \"Java\", \"C++\")"
   ]
  },
  {
   "cell_type": "code",
   "execution_count": 177,
   "id": "dental-campbell",
   "metadata": {},
   "outputs": [
    {
     "data": {
      "text/plain": [
       "'Java'"
      ]
     },
     "execution_count": 177,
     "metadata": {},
     "output_type": "execute_result"
    }
   ],
   "source": [
    "t[1]"
   ]
  },
  {
   "cell_type": "code",
   "execution_count": 178,
   "id": "approved-superior",
   "metadata": {},
   "outputs": [
    {
     "data": {
      "text/plain": [
       "'C++'"
      ]
     },
     "execution_count": 178,
     "metadata": {},
     "output_type": "execute_result"
    }
   ],
   "source": [
    "t[-1]"
   ]
  },
  {
   "cell_type": "code",
   "execution_count": 179,
   "id": "czech-liverpool",
   "metadata": {
    "scrolled": true
   },
   "outputs": [
    {
     "data": {
      "text/plain": [
       "('Python',\n",
       " 'Java',\n",
       " 'C++',\n",
       " 'Python',\n",
       " 'Java',\n",
       " 'C++',\n",
       " 'Python',\n",
       " 'Java',\n",
       " 'C++',\n",
       " 'Python',\n",
       " 'Java',\n",
       " 'C++',\n",
       " 'Python',\n",
       " 'Java',\n",
       " 'C++',\n",
       " 'Python',\n",
       " 'Java',\n",
       " 'C++',\n",
       " 'Python',\n",
       " 'Java',\n",
       " 'C++',\n",
       " 'Python',\n",
       " 'Java',\n",
       " 'C++',\n",
       " 'Python',\n",
       " 'Java',\n",
       " 'C++')"
      ]
     },
     "execution_count": 179,
     "metadata": {},
     "output_type": "execute_result"
    }
   ],
   "source": [
    "t*9"
   ]
  },
  {
   "cell_type": "code",
   "execution_count": 181,
   "id": "chicken-colon",
   "metadata": {
    "scrolled": true
   },
   "outputs": [
    {
     "data": {
      "text/plain": [
       "('Python', 'Java', 'C++', 'JS', 'Go')"
      ]
     },
     "execution_count": 181,
     "metadata": {},
     "output_type": "execute_result"
    }
   ],
   "source": [
    "t+ (\"JS\", \"Go\")"
   ]
  },
  {
   "cell_type": "code",
   "execution_count": 182,
   "id": "noble-starter",
   "metadata": {},
   "outputs": [
    {
     "name": "stdout",
     "output_type": "stream",
     "text": [
      "Help on class tuple in module builtins:\n",
      "\n",
      "class tuple(object)\n",
      " |  tuple(iterable=(), /)\n",
      " |  \n",
      " |  Built-in immutable sequence.\n",
      " |  \n",
      " |  If no argument is given, the constructor returns an empty tuple.\n",
      " |  If iterable is specified the tuple is initialized from iterable's items.\n",
      " |  \n",
      " |  If the argument is a tuple, the return value is the same object.\n",
      " |  \n",
      " |  Built-in subclasses:\n",
      " |      asyncgen_hooks\n",
      " |      UnraisableHookArgs\n",
      " |  \n",
      " |  Methods defined here:\n",
      " |  \n",
      " |  __add__(self, value, /)\n",
      " |      Return self+value.\n",
      " |  \n",
      " |  __contains__(self, key, /)\n",
      " |      Return key in self.\n",
      " |  \n",
      " |  __eq__(self, value, /)\n",
      " |      Return self==value.\n",
      " |  \n",
      " |  __ge__(self, value, /)\n",
      " |      Return self>=value.\n",
      " |  \n",
      " |  __getattribute__(self, name, /)\n",
      " |      Return getattr(self, name).\n",
      " |  \n",
      " |  __getitem__(self, key, /)\n",
      " |      Return self[key].\n",
      " |  \n",
      " |  __getnewargs__(self, /)\n",
      " |  \n",
      " |  __gt__(self, value, /)\n",
      " |      Return self>value.\n",
      " |  \n",
      " |  __hash__(self, /)\n",
      " |      Return hash(self).\n",
      " |  \n",
      " |  __iter__(self, /)\n",
      " |      Implement iter(self).\n",
      " |  \n",
      " |  __le__(self, value, /)\n",
      " |      Return self<=value.\n",
      " |  \n",
      " |  __len__(self, /)\n",
      " |      Return len(self).\n",
      " |  \n",
      " |  __lt__(self, value, /)\n",
      " |      Return self<value.\n",
      " |  \n",
      " |  __mul__(self, value, /)\n",
      " |      Return self*value.\n",
      " |  \n",
      " |  __ne__(self, value, /)\n",
      " |      Return self!=value.\n",
      " |  \n",
      " |  __repr__(self, /)\n",
      " |      Return repr(self).\n",
      " |  \n",
      " |  __rmul__(self, value, /)\n",
      " |      Return value*self.\n",
      " |  \n",
      " |  count(self, value, /)\n",
      " |      Return number of occurrences of value.\n",
      " |  \n",
      " |  index(self, value, start=0, stop=9223372036854775807, /)\n",
      " |      Return first index of value.\n",
      " |      \n",
      " |      Raises ValueError if the value is not present.\n",
      " |  \n",
      " |  ----------------------------------------------------------------------\n",
      " |  Static methods defined here:\n",
      " |  \n",
      " |  __new__(*args, **kwargs) from builtins.type\n",
      " |      Create and return a new object.  See help(type) for accurate signature.\n",
      "\n"
     ]
    }
   ],
   "source": [
    "help(tuple)"
   ]
  },
  {
   "cell_type": "markdown",
   "id": "silver-world",
   "metadata": {},
   "source": [
    "##### Accessing Values in Tuples"
   ]
  },
  {
   "cell_type": "markdown",
   "id": "valuable-freeware",
   "metadata": {},
   "source": [
    "##### Basic Tuple Operation"
   ]
  },
  {
   "cell_type": "markdown",
   "id": "bright-exposure",
   "metadata": {},
   "source": [
    "##### Indexing and Slicing"
   ]
  },
  {
   "cell_type": "markdown",
   "id": "solid-block",
   "metadata": {},
   "source": [
    "##### Built-inList Fuctions"
   ]
  },
  {
   "cell_type": "markdown",
   "id": "beneficial-seafood",
   "metadata": {},
   "source": [
    "<h5 style=\"color:red\">Dictionary</h5>"
   ]
  },
  {
   "cell_type": "code",
   "execution_count": 183,
   "id": "breeding-barrel",
   "metadata": {},
   "outputs": [],
   "source": [
    "d  = {\"name\": \"John\", 'age': 10}"
   ]
  },
  {
   "cell_type": "code",
   "execution_count": 184,
   "id": "charged-integer",
   "metadata": {},
   "outputs": [
    {
     "data": {
      "text/plain": [
       "'John'"
      ]
     },
     "execution_count": 184,
     "metadata": {},
     "output_type": "execute_result"
    }
   ],
   "source": [
    "d['name']"
   ]
  },
  {
   "cell_type": "code",
   "execution_count": 185,
   "id": "daily-belarus",
   "metadata": {
    "scrolled": true
   },
   "outputs": [
    {
     "data": {
      "text/plain": [
       "10"
      ]
     },
     "execution_count": 185,
     "metadata": {},
     "output_type": "execute_result"
    }
   ],
   "source": [
    "d['age']"
   ]
  },
  {
   "cell_type": "code",
   "execution_count": 186,
   "id": "utility-compatibility",
   "metadata": {
    "scrolled": true
   },
   "outputs": [
    {
     "data": {
      "text/plain": [
       "2"
      ]
     },
     "execution_count": 186,
     "metadata": {},
     "output_type": "execute_result"
    }
   ],
   "source": [
    "len(d)"
   ]
  },
  {
   "cell_type": "code",
   "execution_count": 187,
   "id": "stunning-width",
   "metadata": {
    "scrolled": true
   },
   "outputs": [
    {
     "data": {
      "text/plain": [
       "dict"
      ]
     },
     "execution_count": 187,
     "metadata": {},
     "output_type": "execute_result"
    }
   ],
   "source": [
    "type(d)"
   ]
  },
  {
   "cell_type": "code",
   "execution_count": 188,
   "id": "acknowledged-logic",
   "metadata": {},
   "outputs": [],
   "source": [
    "f = d.copy()"
   ]
  },
  {
   "cell_type": "code",
   "execution_count": 189,
   "id": "diverse-swift",
   "metadata": {
    "scrolled": true
   },
   "outputs": [
    {
     "data": {
      "text/plain": [
       "{'name': 'John', 'age': 10}"
      ]
     },
     "execution_count": 189,
     "metadata": {},
     "output_type": "execute_result"
    }
   ],
   "source": [
    "f"
   ]
  },
  {
   "cell_type": "code",
   "execution_count": 190,
   "id": "individual-syndrome",
   "metadata": {
    "scrolled": true
   },
   "outputs": [
    {
     "data": {
      "text/plain": [
       "dict_keys(['name', 'age'])"
      ]
     },
     "execution_count": 190,
     "metadata": {},
     "output_type": "execute_result"
    }
   ],
   "source": [
    "f.keys()"
   ]
  },
  {
   "cell_type": "code",
   "execution_count": 191,
   "id": "animated-implementation",
   "metadata": {
    "scrolled": true
   },
   "outputs": [
    {
     "data": {
      "text/plain": [
       "dict_values(['John', 10])"
      ]
     },
     "execution_count": 191,
     "metadata": {},
     "output_type": "execute_result"
    }
   ],
   "source": [
    "f.values()"
   ]
  },
  {
   "cell_type": "code",
   "execution_count": 192,
   "id": "universal-startup",
   "metadata": {},
   "outputs": [
    {
     "name": "stdout",
     "output_type": "stream",
     "text": [
      "Help on class dict in module builtins:\n",
      "\n",
      "class dict(object)\n",
      " |  dict() -> new empty dictionary\n",
      " |  dict(mapping) -> new dictionary initialized from a mapping object's\n",
      " |      (key, value) pairs\n",
      " |  dict(iterable) -> new dictionary initialized as if via:\n",
      " |      d = {}\n",
      " |      for k, v in iterable:\n",
      " |          d[k] = v\n",
      " |  dict(**kwargs) -> new dictionary initialized with the name=value pairs\n",
      " |      in the keyword argument list.  For example:  dict(one=1, two=2)\n",
      " |  \n",
      " |  Built-in subclasses:\n",
      " |      StgDict\n",
      " |  \n",
      " |  Methods defined here:\n",
      " |  \n",
      " |  __contains__(self, key, /)\n",
      " |      True if the dictionary has the specified key, else False.\n",
      " |  \n",
      " |  __delitem__(self, key, /)\n",
      " |      Delete self[key].\n",
      " |  \n",
      " |  __eq__(self, value, /)\n",
      " |      Return self==value.\n",
      " |  \n",
      " |  __ge__(self, value, /)\n",
      " |      Return self>=value.\n",
      " |  \n",
      " |  __getattribute__(self, name, /)\n",
      " |      Return getattr(self, name).\n",
      " |  \n",
      " |  __getitem__(...)\n",
      " |      x.__getitem__(y) <==> x[y]\n",
      " |  \n",
      " |  __gt__(self, value, /)\n",
      " |      Return self>value.\n",
      " |  \n",
      " |  __init__(self, /, *args, **kwargs)\n",
      " |      Initialize self.  See help(type(self)) for accurate signature.\n",
      " |  \n",
      " |  __iter__(self, /)\n",
      " |      Implement iter(self).\n",
      " |  \n",
      " |  __le__(self, value, /)\n",
      " |      Return self<=value.\n",
      " |  \n",
      " |  __len__(self, /)\n",
      " |      Return len(self).\n",
      " |  \n",
      " |  __lt__(self, value, /)\n",
      " |      Return self<value.\n",
      " |  \n",
      " |  __ne__(self, value, /)\n",
      " |      Return self!=value.\n",
      " |  \n",
      " |  __repr__(self, /)\n",
      " |      Return repr(self).\n",
      " |  \n",
      " |  __reversed__(self, /)\n",
      " |      Return a reverse iterator over the dict keys.\n",
      " |  \n",
      " |  __setitem__(self, key, value, /)\n",
      " |      Set self[key] to value.\n",
      " |  \n",
      " |  __sizeof__(...)\n",
      " |      D.__sizeof__() -> size of D in memory, in bytes\n",
      " |  \n",
      " |  clear(...)\n",
      " |      D.clear() -> None.  Remove all items from D.\n",
      " |  \n",
      " |  copy(...)\n",
      " |      D.copy() -> a shallow copy of D\n",
      " |  \n",
      " |  get(self, key, default=None, /)\n",
      " |      Return the value for key if key is in the dictionary, else default.\n",
      " |  \n",
      " |  items(...)\n",
      " |      D.items() -> a set-like object providing a view on D's items\n",
      " |  \n",
      " |  keys(...)\n",
      " |      D.keys() -> a set-like object providing a view on D's keys\n",
      " |  \n",
      " |  pop(...)\n",
      " |      D.pop(k[,d]) -> v, remove specified key and return the corresponding value.\n",
      " |      If key is not found, d is returned if given, otherwise KeyError is raised\n",
      " |  \n",
      " |  popitem(self, /)\n",
      " |      Remove and return a (key, value) pair as a 2-tuple.\n",
      " |      \n",
      " |      Pairs are returned in LIFO (last-in, first-out) order.\n",
      " |      Raises KeyError if the dict is empty.\n",
      " |  \n",
      " |  setdefault(self, key, default=None, /)\n",
      " |      Insert key with a value of default if key is not in the dictionary.\n",
      " |      \n",
      " |      Return the value for key if key is in the dictionary, else default.\n",
      " |  \n",
      " |  update(...)\n",
      " |      D.update([E, ]**F) -> None.  Update D from dict/iterable E and F.\n",
      " |      If E is present and has a .keys() method, then does:  for k in E: D[k] = E[k]\n",
      " |      If E is present and lacks a .keys() method, then does:  for k, v in E: D[k] = v\n",
      " |      In either case, this is followed by: for k in F:  D[k] = F[k]\n",
      " |  \n",
      " |  values(...)\n",
      " |      D.values() -> an object providing a view on D's values\n",
      " |  \n",
      " |  ----------------------------------------------------------------------\n",
      " |  Class methods defined here:\n",
      " |  \n",
      " |  fromkeys(iterable, value=None, /) from builtins.type\n",
      " |      Create a new dictionary with keys from iterable and values set to value.\n",
      " |  \n",
      " |  ----------------------------------------------------------------------\n",
      " |  Static methods defined here:\n",
      " |  \n",
      " |  __new__(*args, **kwargs) from builtins.type\n",
      " |      Create and return a new object.  See help(type) for accurate signature.\n",
      " |  \n",
      " |  ----------------------------------------------------------------------\n",
      " |  Data and other attributes defined here:\n",
      " |  \n",
      " |  __hash__ = None\n",
      "\n"
     ]
    }
   ],
   "source": [
    "help(dict)"
   ]
  },
  {
   "cell_type": "markdown",
   "id": "bizarre-economics",
   "metadata": {},
   "source": [
    "##### Accessing Values in Dictionary"
   ]
  },
  {
   "cell_type": "markdown",
   "id": "hungarian-hollow",
   "metadata": {},
   "source": [
    "##### Built-in Dictionary Functions and Methods"
   ]
  },
  {
   "cell_type": "markdown",
   "id": "brilliant-darwin",
   "metadata": {},
   "source": [
    "##### Sets\n",
    "\n",
    "\n",
    "##### Defining Set Syntax\n",
    "\n",
    "```python\n",
    "set1 = set(1,2,4)\n",
    "set2 = {8,4,5}\n",
    "```"
   ]
  },
  {
   "cell_type": "code",
   "execution_count": 194,
   "id": "whole-ballet",
   "metadata": {},
   "outputs": [],
   "source": [
    "    q = {1,2,3,4,5}"
   ]
  },
  {
   "cell_type": "code",
   "execution_count": 195,
   "id": "eleven-terrace",
   "metadata": {
    "scrolled": true
   },
   "outputs": [
    {
     "data": {
      "text/plain": [
       "set"
      ]
     },
     "execution_count": 195,
     "metadata": {},
     "output_type": "execute_result"
    }
   ],
   "source": [
    "type(q)"
   ]
  },
  {
   "cell_type": "code",
   "execution_count": null,
   "id": "helpful-prairie",
   "metadata": {},
   "outputs": [],
   "source": []
  },
  {
   "cell_type": "markdown",
   "id": "invisible-florist",
   "metadata": {},
   "source": [
    "##### Operations on sets with other sets"
   ]
  },
  {
   "cell_type": "markdown",
   "id": "dirty-edmonton",
   "metadata": {},
   "source": [
    "##### Intersection"
   ]
  },
  {
   "cell_type": "code",
   "execution_count": 196,
   "id": "subsequent-girlfriend",
   "metadata": {},
   "outputs": [
    {
     "data": {
      "text/plain": [
       "{3}"
      ]
     },
     "execution_count": 196,
     "metadata": {},
     "output_type": "execute_result"
    }
   ],
   "source": [
    "{1,2,3}.intersection({3,4,7})"
   ]
  },
  {
   "cell_type": "code",
   "execution_count": 197,
   "id": "level-eagle",
   "metadata": {
    "scrolled": true
   },
   "outputs": [
    {
     "data": {
      "text/plain": [
       "{3}"
      ]
     },
     "execution_count": 197,
     "metadata": {},
     "output_type": "execute_result"
    }
   ],
   "source": [
    "{1,2,3} & {3,4,7}"
   ]
  },
  {
   "cell_type": "markdown",
   "id": "innovative-bubble",
   "metadata": {},
   "source": [
    "##### Union\n"
   ]
  },
  {
   "cell_type": "code",
   "execution_count": 198,
   "id": "asian-columbia",
   "metadata": {
    "scrolled": true
   },
   "outputs": [
    {
     "data": {
      "text/plain": [
       "{1, 2, 3, 4, 7}"
      ]
     },
     "execution_count": 198,
     "metadata": {},
     "output_type": "execute_result"
    }
   ],
   "source": [
    "{1,2,3}.union({3,4,7})"
   ]
  },
  {
   "cell_type": "code",
   "execution_count": 199,
   "id": "potential-literature",
   "metadata": {},
   "outputs": [
    {
     "data": {
      "text/plain": [
       "{1, 2, 3, 4, 7}"
      ]
     },
     "execution_count": 199,
     "metadata": {},
     "output_type": "execute_result"
    }
   ],
   "source": [
    "{1,2,3} | {3,4,7}"
   ]
  },
  {
   "cell_type": "code",
   "execution_count": 200,
   "id": "color-instruction",
   "metadata": {
    "scrolled": false
   },
   "outputs": [
    {
     "data": {
      "text/plain": [
       "{1, 2}"
      ]
     },
     "execution_count": 200,
     "metadata": {},
     "output_type": "execute_result"
    }
   ],
   "source": [
    "{1,2,3}.difference({3,4,7})"
   ]
  },
  {
   "cell_type": "code",
   "execution_count": 201,
   "id": "interstate-slope",
   "metadata": {},
   "outputs": [
    {
     "data": {
      "text/plain": [
       "{1, 2}"
      ]
     },
     "execution_count": 201,
     "metadata": {},
     "output_type": "execute_result"
    }
   ],
   "source": [
    "{1,2,3} - {3,4,7}"
   ]
  },
  {
   "cell_type": "code",
   "execution_count": null,
   "id": "noble-geography",
   "metadata": {},
   "outputs": [],
   "source": []
  },
  {
   "cell_type": "markdown",
   "id": "sitting-indonesia",
   "metadata": {},
   "source": [
    "##### Difference"
   ]
  },
  {
   "cell_type": "markdown",
   "id": "republican-bahamas",
   "metadata": {},
   "source": [
    "##### Symmetric difference "
   ]
  },
  {
   "cell_type": "code",
   "execution_count": 203,
   "id": "valid-plymouth",
   "metadata": {
    "scrolled": true
   },
   "outputs": [
    {
     "data": {
      "text/plain": [
       "{1, 2, 4, 7}"
      ]
     },
     "execution_count": 203,
     "metadata": {},
     "output_type": "execute_result"
    }
   ],
   "source": [
    "{1,2,3}.symmetric_difference({3,4,7})"
   ]
  },
  {
   "cell_type": "code",
   "execution_count": 204,
   "id": "silver-convention",
   "metadata": {},
   "outputs": [
    {
     "data": {
      "text/plain": [
       "{1, 2, 4, 7}"
      ]
     },
     "execution_count": 204,
     "metadata": {},
     "output_type": "execute_result"
    }
   ],
   "source": [
    "{1,2,3}^{3,4,7}"
   ]
  },
  {
   "cell_type": "markdown",
   "id": "frank-hypothetical",
   "metadata": {},
   "source": [
    "##### Superset check"
   ]
  },
  {
   "cell_type": "code",
   "execution_count": 205,
   "id": "adopted-accent",
   "metadata": {
    "scrolled": false
   },
   "outputs": [
    {
     "data": {
      "text/plain": [
       "True"
      ]
     },
     "execution_count": 205,
     "metadata": {},
     "output_type": "execute_result"
    }
   ],
   "source": [
    "{1,2,4,5}.issuperset({1,2})"
   ]
  },
  {
   "cell_type": "code",
   "execution_count": 206,
   "id": "technical-masters",
   "metadata": {},
   "outputs": [
    {
     "data": {
      "text/plain": [
       "True"
      ]
     },
     "execution_count": 206,
     "metadata": {},
     "output_type": "execute_result"
    }
   ],
   "source": [
    "{1,2,4,5} >= {1,2}"
   ]
  },
  {
   "cell_type": "code",
   "execution_count": null,
   "id": "japanese-grass",
   "metadata": {},
   "outputs": [],
   "source": []
  },
  {
   "cell_type": "markdown",
   "id": "tight-reducing",
   "metadata": {},
   "source": [
    "##### Subset check"
   ]
  },
  {
   "cell_type": "code",
   "execution_count": 207,
   "id": "later-memory",
   "metadata": {
    "scrolled": true
   },
   "outputs": [
    {
     "data": {
      "text/plain": [
       "True"
      ]
     },
     "execution_count": 207,
     "metadata": {},
     "output_type": "execute_result"
    }
   ],
   "source": [
    "{1,2} <= {1,2,6, 9}"
   ]
  },
  {
   "cell_type": "code",
   "execution_count": 209,
   "id": "municipal-popularity",
   "metadata": {
    "scrolled": true
   },
   "outputs": [
    {
     "data": {
      "text/plain": [
       "True"
      ]
     },
     "execution_count": 209,
     "metadata": {},
     "output_type": "execute_result"
    }
   ],
   "source": [
    "{1,2}.issubset({1,2,6, 9})"
   ]
  },
  {
   "cell_type": "code",
   "execution_count": 210,
   "id": "direct-marshall",
   "metadata": {},
   "outputs": [
    {
     "data": {
      "text/plain": [
       "True"
      ]
     },
     "execution_count": 210,
     "metadata": {},
     "output_type": "execute_result"
    }
   ],
   "source": [
    "{2,4}.isdisjoint({5,6})"
   ]
  },
  {
   "cell_type": "markdown",
   "id": "mechanical-invite",
   "metadata": {
    "scrolled": true
   },
   "source": [
    "##### Disjoint check"
   ]
  },
  {
   "cell_type": "markdown",
   "id": "overall-courtesy",
   "metadata": {},
   "source": [
    "##### Operations on sets with single elements"
   ]
  },
  {
   "cell_type": "code",
   "execution_count": 212,
   "id": "joined-cleveland",
   "metadata": {},
   "outputs": [
    {
     "data": {
      "text/plain": [
       "True"
      ]
     },
     "execution_count": 212,
     "metadata": {},
     "output_type": "execute_result"
    }
   ],
   "source": [
    "9 in {8, 9, 5}"
   ]
  },
  {
   "cell_type": "code",
   "execution_count": null,
   "id": "owned-ballot",
   "metadata": {},
   "outputs": [],
   "source": []
  },
  {
   "cell_type": "markdown",
   "id": "accepted-individual",
   "metadata": {},
   "source": [
    "##### Existence check"
   ]
  },
  {
   "cell_type": "markdown",
   "id": "fleet-calgary",
   "metadata": {
    "scrolled": true
   },
   "source": [
    "##### Add and Remove"
   ]
  },
  {
   "cell_type": "code",
   "execution_count": 233,
   "id": "consolidated-ecuador",
   "metadata": {},
   "outputs": [
    {
     "data": {
      "text/plain": [
       "{8, 10, 17, 40}"
      ]
     },
     "execution_count": 233,
     "metadata": {},
     "output_type": "execute_result"
    }
   ],
   "source": [
    "s = {8,10, 17}\n",
    "s.add(40)\n",
    "s"
   ]
  },
  {
   "cell_type": "code",
   "execution_count": 234,
   "id": "sharp-nothing",
   "metadata": {},
   "outputs": [
    {
     "data": {
      "text/plain": [
       "{8, 10, 17}"
      ]
     },
     "execution_count": 234,
     "metadata": {},
     "output_type": "execute_result"
    }
   ],
   "source": [
    "s.remove(40)\n",
    "s"
   ]
  },
  {
   "cell_type": "markdown",
   "id": "floppy-design",
   "metadata": {},
   "source": [
    "<h3 align=\"center\" style=\"color:green;\">Object Oriented Programming in Python</h3>\n",
    "\n",
    "\n",
    "\n",
    "<h5 style=\"color:black\">Overview of OOP Terminologies </h5>\n",
    "\n",
    "- ``Class``\n",
    "- ``Object``\n",
    "- ``Attribute``\n",
    "- ``Method``\n",
    "- ``Constructor``\n",
    "- ``Inheritance``\n",
    "- ``Polymorphism``"
   ]
  },
  {
   "cell_type": "markdown",
   "id": "automated-health",
   "metadata": {},
   "source": [
    "<h5 style=\"color:black\">Creating Classes </h5>\n"
   ]
  },
  {
   "cell_type": "code",
   "execution_count": 239,
   "id": "stable-liver",
   "metadata": {},
   "outputs": [],
   "source": [
    "class Simu:\n",
    "    def __init__(self, r, m):\n",
    "        self.rangi = r\n",
    "        self.m_saizi = m\n",
    "        "
   ]
  },
  {
   "cell_type": "code",
   "execution_count": 240,
   "id": "central-romance",
   "metadata": {},
   "outputs": [],
   "source": [
    "infinix = Simu(\"nyeusi\",16)"
   ]
  },
  {
   "cell_type": "code",
   "execution_count": 243,
   "id": "brilliant-substitute",
   "metadata": {},
   "outputs": [
    {
     "data": {
      "text/plain": [
       "16"
      ]
     },
     "execution_count": 243,
     "metadata": {},
     "output_type": "execute_result"
    }
   ],
   "source": [
    "infinix.m_saizi"
   ]
  },
  {
   "cell_type": "code",
   "execution_count": 244,
   "id": "meaningful-image",
   "metadata": {
    "scrolled": true
   },
   "outputs": [
    {
     "data": {
      "text/plain": [
       "'nyeusi'"
      ]
     },
     "execution_count": 244,
     "metadata": {},
     "output_type": "execute_result"
    }
   ],
   "source": [
    "infinix.rangi"
   ]
  },
  {
   "cell_type": "markdown",
   "id": "raised-stand",
   "metadata": {},
   "source": [
    "<h5 style=\"color:black\">Accessing Attributes </h5>\n"
   ]
  },
  {
   "cell_type": "markdown",
   "id": "statewide-times",
   "metadata": {},
   "source": [
    "- ``getattr(obj, name[, default])`` \n",
    "- ``hasattr(obj,name)``\n",
    "- ``setattr(obj,name,value)``\n",
    "- ``delattr(obj, name)`` "
   ]
  },
  {
   "cell_type": "code",
   "execution_count": 253,
   "id": "quick-portrait",
   "metadata": {
    "scrolled": true
   },
   "outputs": [
    {
     "data": {
      "text/plain": [
       "'nyeusi'"
      ]
     },
     "execution_count": 253,
     "metadata": {},
     "output_type": "execute_result"
    }
   ],
   "source": [
    "getattr(infinix, \"rangi\")"
   ]
  },
  {
   "cell_type": "code",
   "execution_count": 254,
   "id": "lesbian-chair",
   "metadata": {},
   "outputs": [],
   "source": [
    "setattr(infinix,\"rangi\",\"blue\")"
   ]
  },
  {
   "cell_type": "code",
   "execution_count": 255,
   "id": "frank-committee",
   "metadata": {},
   "outputs": [
    {
     "data": {
      "text/plain": [
       "'blue'"
      ]
     },
     "execution_count": 255,
     "metadata": {},
     "output_type": "execute_result"
    }
   ],
   "source": [
    "getattr(infinix, \"rangi\")"
   ]
  },
  {
   "cell_type": "code",
   "execution_count": 252,
   "id": "joint-organ",
   "metadata": {},
   "outputs": [
    {
     "name": "stdout",
     "output_type": "stream",
     "text": [
      "Help on built-in function getattr in module builtins:\n",
      "\n",
      "getattr(...)\n",
      "    getattr(object, name[, default]) -> value\n",
      "    \n",
      "    Get a named attribute from an object; getattr(x, 'y') is equivalent to x.y.\n",
      "    When a default argument is given, it is returned when the attribute doesn't\n",
      "    exist; without it, an exception is raised in that case.\n",
      "\n"
     ]
    }
   ],
   "source": [
    "help(getattr)"
   ]
  },
  {
   "cell_type": "code",
   "execution_count": null,
   "id": "supposed-africa",
   "metadata": {},
   "outputs": [],
   "source": []
  },
  {
   "cell_type": "markdown",
   "id": "powerful-money",
   "metadata": {},
   "source": [
    "<h5 style=\"color:red\">Class Inheritance</h5>\n",
    "\n",
    "##### Syntax \n",
    "\n",
    "\n",
    "```python\n",
    "class SubClassName (ParentClass1[, ParentClass2, ...]):\n",
    "'Optional class documentation string'\n",
    "class_suite\n",
    "```"
   ]
  },
  {
   "cell_type": "code",
   "execution_count": 256,
   "id": "wicked-characteristic",
   "metadata": {},
   "outputs": [],
   "source": [
    "class Computer:\n",
    "    def __init__(nyala, weight, color):\n",
    "        nyala.weight = weight\n",
    "        nyala.color = color"
   ]
  },
  {
   "cell_type": "code",
   "execution_count": 258,
   "id": "fatty-wilderness",
   "metadata": {},
   "outputs": [],
   "source": [
    "c = Computer(19.3, \"brown\")"
   ]
  },
  {
   "cell_type": "code",
   "execution_count": 259,
   "id": "nonprofit-patch",
   "metadata": {},
   "outputs": [
    {
     "data": {
      "text/plain": [
       "'brown'"
      ]
     },
     "execution_count": 259,
     "metadata": {},
     "output_type": "execute_result"
    }
   ],
   "source": [
    "c.color"
   ]
  },
  {
   "cell_type": "code",
   "execution_count": 257,
   "id": "alleged-audio",
   "metadata": {},
   "outputs": [],
   "source": [
    "class Simu(Computer):\n",
    "    pass"
   ]
  },
  {
   "cell_type": "code",
   "execution_count": 261,
   "id": "fiscal-rolling",
   "metadata": {},
   "outputs": [],
   "source": [
    "class Animal:\n",
    "    age = 0\n",
    "    def __init__(self, name, color):\n",
    "        self.name = name\n",
    "        self.color = color\n",
    "        \n",
    "    def eat():\n",
    "        print(\"I can eat\")"
   ]
  },
  {
   "cell_type": "code",
   "execution_count": null,
   "id": "outside-traveler",
   "metadata": {},
   "outputs": [],
   "source": []
  },
  {
   "cell_type": "markdown",
   "id": "broadband-marina",
   "metadata": {},
   "source": [
    "<h5 style=\"color:red\">Overriding Methods</h5>\n"
   ]
  },
  {
   "cell_type": "markdown",
   "id": "adapted-wilson",
   "metadata": {},
   "source": [
    "<h5 style=\"color:red\">Overloading Methods</h5>"
   ]
  }
 ],
 "metadata": {
  "kernelspec": {
   "display_name": "Python 3",
   "language": "python",
   "name": "python3"
  },
  "language_info": {
   "codemirror_mode": {
    "name": "ipython",
    "version": 3
   },
   "file_extension": ".py",
   "mimetype": "text/x-python",
   "name": "python",
   "nbconvert_exporter": "python",
   "pygments_lexer": "ipython3",
   "version": "3.8.5"
  }
 },
 "nbformat": 4,
 "nbformat_minor": 5
}
